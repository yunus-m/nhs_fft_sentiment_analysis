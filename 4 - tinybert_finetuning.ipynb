{
 "cells": [
  {
   "cell_type": "code",
   "execution_count": 1,
   "metadata": {},
   "outputs": [],
   "source": [
    "import pandas as pd\n",
    "import numpy as np"
   ]
  },
  {
   "cell_type": "markdown",
   "metadata": {},
   "source": [
    "### Checks on base TinyBERT model"
   ]
  },
  {
   "cell_type": "code",
   "execution_count": 2,
   "metadata": {},
   "outputs": [
    {
     "name": "stderr",
     "output_type": "stream",
     "text": [
      "BertForMaskedLM has generative capabilities, as `prepare_inputs_for_generation` is explicitly overwritten. However, it doesn't directly inherit from `GenerationMixin`. From 👉v4.50👈 onwards, `PreTrainedModel` will NOT inherit from `GenerationMixin`, and this model will lose the ability to call `generate` and other related functions.\n",
      "  - If you're using `trust_remote_code=True`, you can get rid of this warning by loading the model with an auto class. See https://huggingface.co/docs/transformers/en/model_doc/auto#auto-classes\n",
      "  - If you are the owner of the model architecture code, please modify your model class such that it inherits from `GenerationMixin` (after `PreTrainedModel`, otherwise you'll get an exception).\n",
      "  - If you are not the owner of the model architecture class, please contact the model code owner to update it.\n"
     ]
    },
    {
     "data": {
      "text/plain": [
       "'huawei-noah/TinyBERT_General_4L_312D'"
      ]
     },
     "metadata": {},
     "output_type": "display_data"
    },
    {
     "data": {
      "text/plain": [
       "BertForMaskedLM(\n",
       "  (bert): BertModel(\n",
       "    (embeddings): BertEmbeddings(\n",
       "      (word_embeddings): Embedding(30522, 312, padding_idx=0)\n",
       "      (position_embeddings): Embedding(512, 312)\n",
       "      (token_type_embeddings): Embedding(2, 312)\n",
       "      (LayerNorm): LayerNorm((312,), eps=1e-12, elementwise_affine=True)\n",
       "      (dropout): Dropout(p=0.1, inplace=False)\n",
       "    )\n",
       "    (encoder): BertEncoder(\n",
       "      (layer): ModuleList(\n",
       "        (0-3): 4 x BertLayer(\n",
       "          (attention): BertAttention(\n",
       "            (self): BertSdpaSelfAttention(\n",
       "              (query): Linear(in_features=312, out_features=312, bias=True)\n",
       "              (key): Linear(in_features=312, out_features=312, bias=True)\n",
       "              (value): Linear(in_features=312, out_features=312, bias=True)\n",
       "              (dropout): Dropout(p=0.1, inplace=False)\n",
       "            )\n",
       "            (output): BertSelfOutput(\n",
       "              (dense): Linear(in_features=312, out_features=312, bias=True)\n",
       "              (LayerNorm): LayerNorm((312,), eps=1e-12, elementwise_affine=True)\n",
       "              (dropout): Dropout(p=0.1, inplace=False)\n",
       "            )\n",
       "          )\n",
       "          (intermediate): BertIntermediate(\n",
       "            (dense): Linear(in_features=312, out_features=1200, bias=True)\n",
       "            (intermediate_act_fn): GELUActivation()\n",
       "          )\n",
       "          (output): BertOutput(\n",
       "            (dense): Linear(in_features=1200, out_features=312, bias=True)\n",
       "            (LayerNorm): LayerNorm((312,), eps=1e-12, elementwise_affine=True)\n",
       "            (dropout): Dropout(p=0.1, inplace=False)\n",
       "          )\n",
       "        )\n",
       "      )\n",
       "    )\n",
       "  )\n",
       "  (cls): BertOnlyMLMHead(\n",
       "    (predictions): BertLMPredictionHead(\n",
       "      (transform): BertPredictionHeadTransform(\n",
       "        (dense): Linear(in_features=312, out_features=312, bias=True)\n",
       "        (transform_act_fn): GELUActivation()\n",
       "        (LayerNorm): LayerNorm((312,), eps=1e-12, elementwise_affine=True)\n",
       "      )\n",
       "      (decoder): Linear(in_features=312, out_features=30522, bias=True)\n",
       "    )\n",
       "  )\n",
       ")"
      ]
     },
     "metadata": {},
     "output_type": "display_data"
    },
    {
     "name": "stdout",
     "output_type": "stream",
     "text": [
      "14.381394 million params\n"
     ]
    }
   ],
   "source": [
    "from transformers import AutoModelForMaskedLM, AutoTokenizer\n",
    "\n",
    "checkpoint = 'huawei-noah/TinyBERT_General_4L_312D'\n",
    "# checkpoint = 'albert/albert-large-v2' #req bs16 othw vram, and training v slow\n",
    "# checkpoint = 'albert/albert-base-v2'\n",
    "\n",
    "model = AutoModelForMaskedLM.from_pretrained(checkpoint)\n",
    "tokenizer = AutoTokenizer.from_pretrained(checkpoint)\n",
    "\n",
    "display(\n",
    "    checkpoint,\n",
    "    model,\n",
    ")\n",
    "\n",
    "print(\n",
    "    sum(p.numel() for p in model.parameters() if p.requires_grad) / 1e6,\n",
    "    'million params'\n",
    ")"
   ]
  },
  {
   "cell_type": "markdown",
   "metadata": {},
   "source": [
    "Set `tokenizer.model_max_length`"
   ]
  },
  {
   "cell_type": "code",
   "execution_count": 3,
   "metadata": {},
   "outputs": [
    {
     "data": {
      "text/plain": [
       "BertTokenizerFast(name_or_path='huawei-noah/TinyBERT_General_4L_312D', vocab_size=30522, model_max_length=512, is_fast=True, padding_side='right', truncation_side='right', special_tokens={'unk_token': '[UNK]', 'sep_token': '[SEP]', 'pad_token': '[PAD]', 'cls_token': '[CLS]', 'mask_token': '[MASK]'}, clean_up_tokenization_spaces=True, added_tokens_decoder={\n",
       "\t0: AddedToken(\"[PAD]\", rstrip=False, lstrip=False, single_word=False, normalized=False, special=True),\n",
       "\t100: AddedToken(\"[UNK]\", rstrip=False, lstrip=False, single_word=False, normalized=False, special=True),\n",
       "\t101: AddedToken(\"[CLS]\", rstrip=False, lstrip=False, single_word=False, normalized=False, special=True),\n",
       "\t102: AddedToken(\"[SEP]\", rstrip=False, lstrip=False, single_word=False, normalized=False, special=True),\n",
       "\t103: AddedToken(\"[MASK]\", rstrip=False, lstrip=False, single_word=False, normalized=False, special=True),\n",
       "}\n",
       ")"
      ]
     },
     "execution_count": 3,
     "metadata": {},
     "output_type": "execute_result"
    }
   ],
   "source": [
    "if not getattr(tokenizer, 'model_max_length', None) == 512:\n",
    "    tokenizer.model_max_length = 512\n",
    "tokenizer"
   ]
  },
  {
   "cell_type": "code",
   "execution_count": 4,
   "metadata": {},
   "outputs": [
    {
     "data": {
      "text/plain": [
       "{'input_ids': [101, 2009, 2001, 1037, 3185, 2055, 103, 1012, 102], 'token_type_ids': [0, 0, 0, 0, 0, 0, 0, 0, 0], 'attention_mask': [1, 1, 1, 1, 1, 1, 1, 1, 1]}"
      ]
     },
     "metadata": {},
     "output_type": "display_data"
    },
    {
     "data": {
      "text/plain": [
       "'[CLS] it was a movie about [MASK]. [SEP]'"
      ]
     },
     "metadata": {},
     "output_type": "display_data"
    },
    {
     "data": {
      "text/plain": [
       "MaskedLMOutput(loss=None, logits=tensor([[[ 0.0395,  0.7269,  0.2387,  ...,  0.8403,  0.8712,  0.4771],\n",
       "         [-0.0463,  0.1668,  0.1976,  ..., -0.0349,  0.2082,  0.0940],\n",
       "         [-0.0659, -0.1432, -0.1890,  ...,  0.0323,  0.2478,  0.3310],\n",
       "         ...,\n",
       "         [-0.0183, -0.1747, -0.1914,  ...,  0.0553, -0.0635,  0.6340],\n",
       "         [ 0.0674,  1.1103,  0.7440,  ...,  0.3351,  0.0164,  0.2027],\n",
       "         [ 0.0752,  1.0598,  0.7429,  ...,  0.3009,  0.0412,  0.3249]]],\n",
       "       grad_fn=<ViewBackward0>), hidden_states=None, attentions=None)"
      ]
     },
     "metadata": {},
     "output_type": "display_data"
    },
    {
     "name": "stdout",
     "output_type": "stream",
     "text": [
      "LM head output shape: torch.Size([1, 9, 30522])\n",
      "www https oh previously http\n"
     ]
    }
   ],
   "source": [
    "mask_token = tokenizer.special_tokens_map['mask_token']\n",
    "text = f'It was a movie about {mask_token}.'\n",
    "\n",
    "display(\n",
    "    tokenizer(text),\n",
    "    tokenizer.decode( tokenizer(text)['input_ids'] ),\n",
    "    model(**tokenizer(text, return_tensors='pt')),\n",
    ")\n",
    "\n",
    "outputs = model(**tokenizer(text, return_tensors='pt'))\n",
    "print('LM head output shape:', outputs.logits.shape)\n",
    "\n",
    "logits = outputs['logits'] #(B, L, vocab)\n",
    "\n",
    "#mask_id = tokenizer.convert_tokens_to_ids(mask_token)\n",
    "mask_id = tokenizer.vocab[mask_token]\n",
    "mask_ix = tokenizer(text).input_ids.index(mask_id)\n",
    "\n",
    "print(tokenizer.decode(\n",
    "    logits.detach().numpy()[0, mask_ix].argsort()[::-1][:5]\n",
    "))"
   ]
  },
  {
   "cell_type": "markdown",
   "metadata": {},
   "source": [
    "---\n",
    "# **Fine-tune on SST**"
   ]
  },
  {
   "cell_type": "code",
   "execution_count": 5,
   "metadata": {},
   "outputs": [
    {
     "name": "stderr",
     "output_type": "stream",
     "text": [
      "Some weights of BertForSequenceClassification were not initialized from the model checkpoint at huawei-noah/TinyBERT_General_4L_312D and are newly initialized: ['classifier.bias', 'classifier.weight']\n",
      "You should probably TRAIN this model on a down-stream task to be able to use it for predictions and inference.\n"
     ]
    },
    {
     "data": {
      "text/plain": [
       "BertForSequenceClassification(\n",
       "  (bert): BertModel(\n",
       "    (embeddings): BertEmbeddings(\n",
       "      (word_embeddings): Embedding(30522, 312, padding_idx=0)\n",
       "      (position_embeddings): Embedding(512, 312)\n",
       "      (token_type_embeddings): Embedding(2, 312)\n",
       "      (LayerNorm): LayerNorm((312,), eps=1e-12, elementwise_affine=True)\n",
       "      (dropout): Dropout(p=0.1, inplace=False)\n",
       "    )\n",
       "    (encoder): BertEncoder(\n",
       "      (layer): ModuleList(\n",
       "        (0-3): 4 x BertLayer(\n",
       "          (attention): BertAttention(\n",
       "            (self): BertSdpaSelfAttention(\n",
       "              (query): Linear(in_features=312, out_features=312, bias=True)\n",
       "              (key): Linear(in_features=312, out_features=312, bias=True)\n",
       "              (value): Linear(in_features=312, out_features=312, bias=True)\n",
       "              (dropout): Dropout(p=0.1, inplace=False)\n",
       "            )\n",
       "            (output): BertSelfOutput(\n",
       "              (dense): Linear(in_features=312, out_features=312, bias=True)\n",
       "              (LayerNorm): LayerNorm((312,), eps=1e-12, elementwise_affine=True)\n",
       "              (dropout): Dropout(p=0.1, inplace=False)\n",
       "            )\n",
       "          )\n",
       "          (intermediate): BertIntermediate(\n",
       "            (dense): Linear(in_features=312, out_features=1200, bias=True)\n",
       "            (intermediate_act_fn): GELUActivation()\n",
       "          )\n",
       "          (output): BertOutput(\n",
       "            (dense): Linear(in_features=1200, out_features=312, bias=True)\n",
       "            (LayerNorm): LayerNorm((312,), eps=1e-12, elementwise_affine=True)\n",
       "            (dropout): Dropout(p=0.1, inplace=False)\n",
       "          )\n",
       "        )\n",
       "      )\n",
       "    )\n",
       "    (pooler): BertPooler(\n",
       "      (dense): Linear(in_features=312, out_features=312, bias=True)\n",
       "      (activation): Tanh()\n",
       "    )\n",
       "  )\n",
       "  (dropout): Dropout(p=0.1, inplace=False)\n",
       "  (classifier): Linear(in_features=312, out_features=5, bias=True)\n",
       ")"
      ]
     },
     "execution_count": 5,
     "metadata": {},
     "output_type": "execute_result"
    }
   ],
   "source": [
    "from transformers import AutoModelForSequenceClassification, AutoTokenizer\n",
    "\n",
    "model = AutoModelForSequenceClassification.from_pretrained(checkpoint, num_labels=5)\n",
    "tokenizer = AutoTokenizer.from_pretrained(checkpoint)\n",
    "\n",
    "if not getattr(tokenizer, 'model_max_length', None) == 512:\n",
    "    tokenizer.model_max_length = 512\n",
    "\n",
    "model"
   ]
  },
  {
   "cell_type": "markdown",
   "metadata": {},
   "source": [
    "### Load SST5 data\n",
    "\n",
    "SST5\n",
    "https://github.com/CS287/HW1/tree/master/data\n",
    "\n",
    "(0: very negative, 1: negative, 2: neutral, 3: positive, 4: very positive)\n",
    "\n",
    "Drop test set aot combining with train|val"
   ]
  },
  {
   "cell_type": "code",
   "execution_count": 6,
   "metadata": {},
   "outputs": [
    {
     "name": "stderr",
     "output_type": "stream",
     "text": [
      "Repo card metadata block was not found. Setting CardData to empty.\n"
     ]
    },
    {
     "data": {
      "text/plain": [
       "DatasetDict({\n",
       "    train: Dataset({\n",
       "        features: ['text', 'label', 'label_text'],\n",
       "        num_rows: 8544\n",
       "    })\n",
       "    validation: Dataset({\n",
       "        features: ['text', 'label', 'label_text'],\n",
       "        num_rows: 1101\n",
       "    })\n",
       "})"
      ]
     },
     "metadata": {},
     "output_type": "display_data"
    }
   ],
   "source": [
    "from datasets import load_dataset\n",
    "\n",
    "# datasets = load_dataset('glue', 'sst2')\n",
    "# datasets = load_dataset('stanfordnlp/sentiment140', trust_remote_code=True)\n",
    "# datasets = load_dataset('stanfordnlp/sst', trust_remote_code=True)\n",
    "datasets = load_dataset('SetFit/sst5')\n",
    "datasets.pop('test')\n",
    "display(datasets)"
   ]
  },
  {
   "cell_type": "markdown",
   "metadata": {},
   "source": [
    "Swap labels around. Want sst 0,1,2,3,4 neg:pos -> fft (4, 3, 2, 1, 0) neg:pos"
   ]
  },
  {
   "cell_type": "code",
   "execution_count": 7,
   "metadata": {},
   "outputs": [
    {
     "data": {
      "text/plain": [
       "DatasetDict({\n",
       "    train: Dataset({\n",
       "        features: ['text', 'sst5_labels', 'label_text', 'fft_labels'],\n",
       "        num_rows: 8544\n",
       "    })\n",
       "    validation: Dataset({\n",
       "        features: ['text', 'sst5_labels', 'label_text', 'fft_labels'],\n",
       "        num_rows: 1101\n",
       "    })\n",
       "})"
      ]
     },
     "execution_count": 7,
     "metadata": {},
     "output_type": "execute_result"
    }
   ],
   "source": [
    "sst5_to_fft = {\n",
    "    0: 4, #v neg\n",
    "    1: 3,\n",
    "    2: 2,\n",
    "    3: 1,\n",
    "    4: 0, #v pos\n",
    "}\n",
    "datasets = datasets.map(\n",
    "    lambda batch: {'fft_labels': [sst5_to_fft[sst_score] for sst_score in batch['label']]},\n",
    "    batched=True\n",
    ").rename_column('label', 'sst5_labels')\n",
    "datasets"
   ]
  },
  {
   "cell_type": "markdown",
   "metadata": {},
   "source": [
    "Samples from dataset"
   ]
  },
  {
   "cell_type": "code",
   "execution_count": 8,
   "metadata": {},
   "outputs": [
    {
     "data": {
      "text/plain": [
       "{'text': [\"circuit queens wo n't learn a thing , they 'll be too busy cursing the film 's strategically placed white sheets .\",\n",
       "  \"if you ignore the cliches and concentrate on city by the sea 's interpersonal drama , it ai n't half-bad .\"],\n",
       " 'sst5_labels': [2, 2],\n",
       " 'label_text': ['neutral', 'neutral'],\n",
       " 'fft_labels': [2, 2]}"
      ]
     },
     "execution_count": 8,
     "metadata": {},
     "output_type": "execute_result"
    }
   ],
   "source": [
    "datasets['train'].shuffle()[:2]"
   ]
  },
  {
   "cell_type": "markdown",
   "metadata": {},
   "source": [
    "Distribution of labels\n",
    "\n",
    "Class 4 relatively small. Will use class weights to boost scores."
   ]
  },
  {
   "cell_type": "code",
   "execution_count": 9,
   "metadata": {},
   "outputs": [
    {
     "data": {
      "text/plain": [
       "fft_labels\n",
       "0    15.0\n",
       "1    27.0\n",
       "2    19.0\n",
       "3    26.0\n",
       "4    13.0\n",
       "Name: proportion, dtype: float64"
      ]
     },
     "metadata": {},
     "output_type": "display_data"
    }
   ],
   "source": [
    "datasets.set_format('pandas')\n",
    "datasets['train'][:].fft_labels.value_counts(normalize=True).mul(100).sort_index().round().pipe(display)\n",
    "datasets.reset_format()"
   ]
  },
  {
   "cell_type": "markdown",
   "metadata": {},
   "source": [
    "Tokenize and drop columns"
   ]
  },
  {
   "cell_type": "code",
   "execution_count": 10,
   "metadata": {},
   "outputs": [
    {
     "data": {
      "text/plain": [
       "DatasetDict({\n",
       "    train: Dataset({\n",
       "        features: ['labels', 'input_ids', 'token_type_ids', 'attention_mask'],\n",
       "        num_rows: 8544\n",
       "    })\n",
       "    validation: Dataset({\n",
       "        features: ['labels', 'input_ids', 'token_type_ids', 'attention_mask'],\n",
       "        num_rows: 1101\n",
       "    })\n",
       "})"
      ]
     },
     "execution_count": 10,
     "metadata": {},
     "output_type": "execute_result"
    }
   ],
   "source": [
    "tokenized = datasets\\\n",
    "    .map(lambda batch: tokenizer(batch['text'], truncation=True), batched=True)\\\n",
    "    .remove_columns(['text', 'label_text', 'sst5_labels'])\\\n",
    "    .rename_column('fft_labels', 'labels')\n",
    "\n",
    "if 'token_type_ids' in datasets['train'].column_names:\n",
    "    tokenized = tokenized.remove_column('token_type_ids')\n",
    "    \n",
    "tokenized"
   ]
  },
  {
   "cell_type": "code",
   "execution_count": 11,
   "metadata": {},
   "outputs": [
    {
     "name": "stderr",
     "output_type": "stream",
     "text": [
      "Some weights of DistilBertForSequenceClassification were not initialized from the model checkpoint at distilbert/distilbert-base-uncased and are newly initialized: ['classifier.bias', 'classifier.weight', 'pre_classifier.bias', 'pre_classifier.weight']\n",
      "You should probably TRAIN this model on a down-stream task to be able to use it for predictions and inference.\n"
     ]
    }
   ],
   "source": [
    "from copy import deepcopy\n",
    "\n",
    "#Swap out the classifiation head for a new 5-class head.\n",
    "# Could alternatively use .from_trained(..., ignore_mismatched_sizes=True),\n",
    "# but seems undocumented as of yet.\n",
    "dbert_base = AutoModelForSequenceClassification.from_pretrained('distilbert/distilbert-base-uncased', num_labels=5)\n",
    "\n",
    "if False:\n",
    "    [new_preclf] = [module for name, module in dbert_base.named_modules() if name == 'pre_classifier']\n",
    "    [new_clf] = [module for name, module in dbert_base.named_modules() if name == 'classifier']\n",
    "\n",
    "    dbert_ft = AutoModelForSequenceClassification.from_pretrained(\n",
    "        'distilbert/distilbert-base-uncased-finetuned-sst-2-english' #, num_labels=5, ignore_mismatched_sizes=True\n",
    "    )\n",
    "    dbert_ft.pre_classifier = deepcopy(new_preclf)\n",
    "    dbert_ft.classifier = deepcopy(new_clf)\n",
    "\n",
    "    del dbert_base, new_preclf, new_clf"
   ]
  },
  {
   "cell_type": "markdown",
   "metadata": {},
   "source": [
    "### Fine-tune on SST5, then data"
   ]
  },
  {
   "cell_type": "code",
   "execution_count": 12,
   "metadata": {},
   "outputs": [
    {
     "name": "stdout",
     "output_type": "stream",
     "text": [
      "Device is: cuda  GPU name: NVIDIA GeForce RTX 4080 SUPER\n"
     ]
    }
   ],
   "source": [
    "import torch\n",
    "from torch.utils.data import DataLoader\n",
    "\n",
    "from transformers import DataCollatorWithPadding\n",
    "from transformers import get_scheduler\n",
    "\n",
    "from sklearn.metrics import classification_report, recall_score, f1_score\n",
    "from sklearn.utils import compute_class_weight\n",
    "\n",
    "from torch.utils.tensorboard import SummaryWriter\n",
    "from tqdm.autonotebook import tqdm\n",
    "\n",
    "device = 'cuda' if torch.cuda.is_available() else 'cpu'\n",
    "print('Device is:', device, ' GPU name:', torch.cuda.get_device_name())\n",
    "\n",
    "from model_utils import compute_metrics"
   ]
  },
  {
   "cell_type": "markdown",
   "metadata": {},
   "source": [
    "SST5 fine-tuning\n",
    "\n",
    "Class4 better with class balancing but rest v bad\n",
    "\n",
    "If boost class4 and keep others 1, ok"
   ]
  },
  {
   "cell_type": "code",
   "execution_count": 13,
   "metadata": {},
   "outputs": [
    {
     "name": "stderr",
     "output_type": "stream",
     "text": [
      "Some weights of BertForSequenceClassification were not initialized from the model checkpoint at huawei-noah/TinyBERT_General_4L_312D and are newly initialized: ['classifier.bias', 'classifier.weight']\n",
      "You should probably TRAIN this model on a down-stream task to be able to use it for predictions and inference.\n"
     ]
    },
    {
     "name": "stdout",
     "output_type": "stream",
     "text": [
      "[!] Using class weights: [1. 1. 1. 1. 2.]\n",
      "10 epochs | 5340 training steps\n",
      "~~~~~~~~~~~~~~~~~~~~~~~~~~~~~~~~~Prior to fine-tuning~~~~~~~~~~~~~~~~~~~~~~~~~~~~~~~~\n",
      "              precision    recall  f1-score   support\n",
      "\n",
      "           0        nan      0.00      0.00       165\n",
      "           1       0.26      0.99      0.41       279\n",
      "           2        nan      0.00      0.00       229\n",
      "           3        nan      0.00      0.00       289\n",
      "           4       0.30      0.04      0.08       139\n",
      "\n",
      "    accuracy                           0.26      1101\n",
      "   macro avg       0.28      0.21      0.10      1101\n",
      "weighted avg       0.27      0.26      0.11      1101\n",
      "\n",
      "  loss: 1.6086374247323156\n"
     ]
    },
    {
     "data": {
      "application/vnd.jupyter.widget-view+json": {
       "model_id": "fa8ecdbad215496dbd438f22438b8787",
       "version_major": 2,
       "version_minor": 0
      },
      "text/plain": [
       "train steps:   0%|          | 0/5340 [00:00<?, ?minibatch/s]"
      ]
     },
     "metadata": {},
     "output_type": "display_data"
    },
    {
     "name": "stdout",
     "output_type": "stream",
     "text": [
      "(epoch  1) | trn 1.3465 | val 1.3567\n",
      "(epoch  2) | trn 1.1758 | val 1.2364\n",
      "(epoch  3) | trn 1.1061 | val 1.2055\n",
      "(epoch  4) | trn 1.0590 | val 1.2060\n",
      "(epoch  5) | trn 1.0339 | val 1.2243\n",
      "(epoch  6) | trn 0.9827 | val 1.2178\n",
      "(epoch  7) | trn 0.9558 | val 1.2215\n",
      "(epoch  8) | trn 0.9402 | val 1.2360\n",
      "(epoch  9) | trn 0.9327 | val 1.2382\n",
      "(epoch 10) | trn 0.9181 | val 1.2345\n",
      "              precision    recall  f1-score   support\n",
      "\n",
      "           0       0.55      0.56      0.55       165\n",
      "           1       0.48      0.62      0.54       279\n",
      "           2       0.43      0.23      0.30       229\n",
      "           3       0.51      0.43      0.46       289\n",
      "           4       0.42      0.63      0.50       139\n",
      "\n",
      "    accuracy                           0.48      1101\n",
      "   macro avg       0.48      0.49      0.47      1101\n",
      "weighted avg       0.48      0.48      0.47      1101\n",
      "\n"
     ]
    }
   ],
   "source": [
    "torch.manual_seed(0)\n",
    "np.random.seed(0)\n",
    "\n",
    "model = AutoModelForSequenceClassification.from_pretrained(checkpoint, num_labels=5).to(device)\n",
    "model.config.id2label = {clas: label for clas, label in enumerate(['very positive', 'positive', 'neutral', 'negative', 'very negative'])}\n",
    "model.config.label2id = {v: k for k, v in model.config.id2label.items()}\n",
    "\n",
    "optimizer = torch.optim.AdamW(model.parameters(), lr=1e-5, weight_decay=0.01)\n",
    "\n",
    "#Class weights\n",
    "class_weights = compute_class_weight('balanced', classes=np.array([0, 1, 2, 3, 4]), y=tokenized['train'][:]['labels'])\n",
    "class_weights = None\n",
    "class_weights = np.array([1., 1., 1., 1., 2.])\n",
    "\n",
    "if class_weights is not None:\n",
    "    print('[!] Using class weights:', class_weights.round(1))\n",
    "\n",
    "#Data loaders\n",
    "batch_size = 16\n",
    "\n",
    "dynamic_padding_collator = DataCollatorWithPadding(tokenizer)\n",
    "\n",
    "train_loader = DataLoader(\n",
    "    tokenized['train'], batch_size=batch_size, shuffle=True,\n",
    "    pin_memory=True, collate_fn=dynamic_padding_collator\n",
    ")\n",
    "\n",
    "val_loader = DataLoader(\n",
    "    tokenized['validation'], batch_size=batch_size,\n",
    "    pin_memory=True, collate_fn=dynamic_padding_collator\n",
    ")\n",
    "\n",
    "val_labels = np.concatenate([minibatch['labels'] for minibatch in val_loader])\n",
    "\n",
    "\n",
    "#LR scheduler\n",
    "num_epochs = 10\n",
    "num_training_steps = num_epochs * len(train_loader)\n",
    "print(num_epochs, 'epochs |', num_training_steps, 'training steps')\n",
    "\n",
    "lr_scheduler = get_scheduler(\n",
    "    'linear', optimizer,\n",
    "    num_warmup_steps=int(round(0.1 * num_training_steps)),\n",
    "    num_training_steps=num_training_steps\n",
    ")\n",
    "\n",
    "\n",
    "#Score before training\n",
    "preds, loss = compute_metrics(model, val_loader, device)\n",
    "print('Prior to fine-tuning'.center(85, '~'))\n",
    "print(classification_report(y_true=val_labels, y_pred=preds, zero_division=np.nan))\n",
    "print('  loss:', loss)\n",
    "\n",
    "\n",
    "#\n",
    "# Training loop\n",
    "#\n",
    "writer = SummaryWriter(log_dir='runs/tinybert_ft_sst5/' + f'bs{batch_size}-cw4')\n",
    "\n",
    "progress_bar = tqdm(range(num_training_steps), unit='minibatch', desc='train steps')\n",
    "for epoch in range(num_epochs):\n",
    "    model.train()\n",
    "\n",
    "    for minibatch in train_loader:\n",
    "        minibatch = {k: v.to(device) for k, v in minibatch.items()}\n",
    "        outputs = model(**minibatch)\n",
    "\n",
    "        loss = outputs.loss\n",
    "        \n",
    "        optimizer.zero_grad()\n",
    "        # outputs.loss.backward()\n",
    "        torch.nn.CrossEntropyLoss(weight=torch.tensor(class_weights).to(device).float())(outputs['logits'], minibatch['labels']).backward()\n",
    "        optimizer.step()\n",
    "        lr_scheduler.step()\n",
    "        progress_bar.update()\n",
    "    #/end of epoch\n",
    "\n",
    "    model.eval()\n",
    "    trn_preds, trn_loss = compute_metrics(model, train_loader, device)\n",
    "    val_preds, val_loss = compute_metrics(model, val_loader, device)\n",
    "\n",
    "    print(f'(epoch {epoch + 1:2d}) | trn {trn_loss:6.4f} | val {val_loss:6.4f}')\n",
    "\n",
    "    writer.add_scalars('loss', {'trn': trn_loss, 'val': val_loss}, global_step=epoch + 1)\n",
    "    \n",
    "    #Class k metrics\n",
    "    k = 4\n",
    "    class_k_true = val_labels==k\n",
    "    class_k_pred = val_preds==k\n",
    "    writer.add_scalars(\n",
    "        f'class {k} val metrics',\n",
    "        {#'recall': recall_score(class_k_true, class_k_pred),\n",
    "         'f1': f1_score(class_k_true, class_k_pred)\n",
    "         },\n",
    "         global_step=epoch + 1\n",
    "    )\n",
    "\n",
    "    clf_report = classification_report(val_labels, val_preds, zero_division=np.nan)\n",
    "    writer.add_text('classification_report', clf_report, global_step=epoch + 1)\n",
    "torch.save(model.state_dict(), f'finetuned/tinybert-sst5.pickle')\n",
    "\n",
    "print(clf_report)"
   ]
  },
  {
   "cell_type": "code",
   "execution_count": 14,
   "metadata": {},
   "outputs": [
    {
     "data": {
      "text/plain": [
       "'\\ntinybert bs16\\n              precision    recall  f1-score   support\\n           0       0.55      0.56      0.55       165\\n           1       0.48      0.62      0.54       279\\n           2       0.43      0.23      0.30       229\\n           3       0.51      0.43      0.46       289\\n           4       0.42      0.63      0.50       139\\n\\n    accuracy                           0.48      1101\\n   macro avg       0.48      0.49      0.47      1101\\nweighted avg       0.48      0.48      0.47      1101\\n'"
      ]
     },
     "execution_count": 14,
     "metadata": {},
     "output_type": "execute_result"
    }
   ],
   "source": [
    "\"\"\"\n",
    "tinybert bs16\n",
    "              precision    recall  f1-score   support\n",
    "           0       0.55      0.56      0.55       165\n",
    "           1       0.48      0.62      0.54       279\n",
    "           2       0.43      0.23      0.30       229\n",
    "           3       0.51      0.43      0.46       289\n",
    "           4       0.42      0.63      0.50       139\n",
    "\n",
    "    accuracy                           0.48      1101\n",
    "   macro avg       0.48      0.49      0.47      1101\n",
    "weighted avg       0.48      0.48      0.47      1101\n",
    "\"\"\""
   ]
  },
  {
   "cell_type": "code",
   "execution_count": 15,
   "metadata": {},
   "outputs": [
    {
     "data": {
      "text/html": [
       "<style type=\"text/css\">\n",
       "#T_3b9f0_row0_col0, #T_3b9f0_row1_col1, #T_3b9f0_row2_col2, #T_3b9f0_row3_col3, #T_3b9f0_row4_col4 {\n",
       "  color: #fcfbfd;\n",
       "}\n",
       "#T_3b9f0_row0_col1 {\n",
       "  color: #eae8f2;\n",
       "}\n",
       "#T_3b9f0_row0_col2 {\n",
       "  color: #491285;\n",
       "}\n",
       "#T_3b9f0_row0_col3 {\n",
       "  color: #40017e;\n",
       "}\n",
       "#T_3b9f0_row0_col4, #T_3b9f0_row1_col4, #T_3b9f0_row2_col0, #T_3b9f0_row3_col0, #T_3b9f0_row4_col1 {\n",
       "  color: #3f007d;\n",
       "}\n",
       "#T_3b9f0_row1_col0 {\n",
       "  color: #7567af;\n",
       "}\n",
       "#T_3b9f0_row1_col2 {\n",
       "  color: #53268f;\n",
       "}\n",
       "#T_3b9f0_row1_col3 {\n",
       "  color: #42057f;\n",
       "}\n",
       "#T_3b9f0_row2_col1 {\n",
       "  color: #7669af;\n",
       "}\n",
       "#T_3b9f0_row2_col3 {\n",
       "  color: #e0dfee;\n",
       "}\n",
       "#T_3b9f0_row2_col4 {\n",
       "  color: #4d1b89;\n",
       "}\n",
       "#T_3b9f0_row3_col1 {\n",
       "  color: #52238d;\n",
       "}\n",
       "#T_3b9f0_row3_col2 {\n",
       "  color: #bfc0de;\n",
       "}\n",
       "#T_3b9f0_row3_col4 {\n",
       "  color: #6e5aa8;\n",
       "}\n",
       "#T_3b9f0_row4_col0 {\n",
       "  color: #40027e;\n",
       "}\n",
       "#T_3b9f0_row4_col2 {\n",
       "  color: #430780;\n",
       "}\n",
       "#T_3b9f0_row4_col3 {\n",
       "  color: #5a3395;\n",
       "}\n",
       "</style>\n",
       "<table id=\"T_3b9f0\">\n",
       "  <thead>\n",
       "    <tr>\n",
       "      <th class=\"blank level0\" >&nbsp;</th>\n",
       "      <th id=\"T_3b9f0_level0_col0\" class=\"col_heading level0 col0\" >very positive</th>\n",
       "      <th id=\"T_3b9f0_level0_col1\" class=\"col_heading level0 col1\" >positive</th>\n",
       "      <th id=\"T_3b9f0_level0_col2\" class=\"col_heading level0 col2\" >neutral</th>\n",
       "      <th id=\"T_3b9f0_level0_col3\" class=\"col_heading level0 col3\" >negative</th>\n",
       "      <th id=\"T_3b9f0_level0_col4\" class=\"col_heading level0 col4\" >very negative</th>\n",
       "      <th id=\"T_3b9f0_level0_col5\" class=\"col_heading level0 col5\" >entropy</th>\n",
       "      <th id=\"T_3b9f0_level0_col6\" class=\"col_heading level0 col6\" >predicted_label</th>\n",
       "      <th id=\"T_3b9f0_level0_col7\" class=\"col_heading level0 col7\" >predicted_id</th>\n",
       "    </tr>\n",
       "  </thead>\n",
       "  <tbody>\n",
       "    <tr>\n",
       "      <th id=\"T_3b9f0_level0_row0\" class=\"row_heading level0 row0\" >0</th>\n",
       "      <td id=\"T_3b9f0_row0_col0\" class=\"data row0 col0\" >0.517138</td>\n",
       "      <td id=\"T_3b9f0_row0_col1\" class=\"data row0 col1\" >0.435383</td>\n",
       "      <td id=\"T_3b9f0_row0_col2\" class=\"data row0 col2\" >0.035969</td>\n",
       "      <td id=\"T_3b9f0_row0_col3\" class=\"data row0 col3\" >0.007010</td>\n",
       "      <td id=\"T_3b9f0_row0_col4\" class=\"data row0 col4\" >0.004499</td>\n",
       "      <td id=\"T_3b9f0_row0_col5\" class=\"data row0 col5\" >1.272088</td>\n",
       "      <td id=\"T_3b9f0_row0_col6\" class=\"data row0 col6\" >very positive</td>\n",
       "      <td id=\"T_3b9f0_row0_col7\" class=\"data row0 col7\" >0</td>\n",
       "    </tr>\n",
       "    <tr>\n",
       "      <th id=\"T_3b9f0_level0_row1\" class=\"row_heading level0 row1\" >1</th>\n",
       "      <td id=\"T_3b9f0_row1_col0\" class=\"data row1 col0\" >0.215806</td>\n",
       "      <td id=\"T_3b9f0_row1_col1\" class=\"data row1 col1\" >0.678828</td>\n",
       "      <td id=\"T_3b9f0_row1_col2\" class=\"data row1 col2\" >0.087168</td>\n",
       "      <td id=\"T_3b9f0_row1_col3\" class=\"data row1 col3\" >0.014746</td>\n",
       "      <td id=\"T_3b9f0_row1_col4\" class=\"data row1 col4\" >0.003452</td>\n",
       "      <td id=\"T_3b9f0_row1_col5\" class=\"data row1 col5\" >1.281563</td>\n",
       "      <td id=\"T_3b9f0_row1_col6\" class=\"data row1 col6\" >positive</td>\n",
       "      <td id=\"T_3b9f0_row1_col7\" class=\"data row1 col7\" >1</td>\n",
       "    </tr>\n",
       "    <tr>\n",
       "      <th id=\"T_3b9f0_level0_row2\" class=\"row_heading level0 row2\" >2</th>\n",
       "      <td id=\"T_3b9f0_row2_col0\" class=\"data row2 col0\" >0.015028</td>\n",
       "      <td id=\"T_3b9f0_row2_col1\" class=\"data row2 col1\" >0.149321</td>\n",
       "      <td id=\"T_3b9f0_row2_col2\" class=\"data row2 col2\" >0.437891</td>\n",
       "      <td id=\"T_3b9f0_row2_col3\" class=\"data row2 col3\" >0.346310</td>\n",
       "      <td id=\"T_3b9f0_row2_col4\" class=\"data row2 col4\" >0.051451</td>\n",
       "      <td id=\"T_3b9f0_row2_col5\" class=\"data row2 col5\" >1.772412</td>\n",
       "      <td id=\"T_3b9f0_row2_col6\" class=\"data row2 col6\" >neutral</td>\n",
       "      <td id=\"T_3b9f0_row2_col7\" class=\"data row2 col7\" >2</td>\n",
       "    </tr>\n",
       "    <tr>\n",
       "      <th id=\"T_3b9f0_level0_row3\" class=\"row_heading level0 row3\" >3</th>\n",
       "      <td id=\"T_3b9f0_row3_col0\" class=\"data row3 col0\" >0.009685</td>\n",
       "      <td id=\"T_3b9f0_row3_col1\" class=\"data row3 col1\" >0.063449</td>\n",
       "      <td id=\"T_3b9f0_row3_col2\" class=\"data row3 col2\" >0.309403</td>\n",
       "      <td id=\"T_3b9f0_row3_col3\" class=\"data row3 col3\" >0.478728</td>\n",
       "      <td id=\"T_3b9f0_row3_col4\" class=\"data row3 col4\" >0.138735</td>\n",
       "      <td id=\"T_3b9f0_row3_col5\" class=\"data row3 col5\" >1.744949</td>\n",
       "      <td id=\"T_3b9f0_row3_col6\" class=\"data row3 col6\" >negative</td>\n",
       "      <td id=\"T_3b9f0_row3_col7\" class=\"data row3 col7\" >3</td>\n",
       "    </tr>\n",
       "    <tr>\n",
       "      <th id=\"T_3b9f0_level0_row4\" class=\"row_heading level0 row4\" >4</th>\n",
       "      <td id=\"T_3b9f0_row4_col0\" class=\"data row4 col0\" >0.016091</td>\n",
       "      <td id=\"T_3b9f0_row4_col1\" class=\"data row4 col1\" >0.007457</td>\n",
       "      <td id=\"T_3b9f0_row4_col2\" class=\"data row4 col2\" >0.028653</td>\n",
       "      <td id=\"T_3b9f0_row4_col3\" class=\"data row4 col3\" >0.138069</td>\n",
       "      <td id=\"T_3b9f0_row4_col4\" class=\"data row4 col4\" >0.809729</td>\n",
       "      <td id=\"T_3b9f0_row4_col5\" class=\"data row4 col5\" >0.936368</td>\n",
       "      <td id=\"T_3b9f0_row4_col6\" class=\"data row4 col6\" >very negative</td>\n",
       "      <td id=\"T_3b9f0_row4_col7\" class=\"data row4 col7\" >4</td>\n",
       "    </tr>\n",
       "  </tbody>\n",
       "</table>\n"
      ],
      "text/plain": [
       "<pandas.io.formats.style.Styler at 0x7f5c0351e190>"
      ]
     },
     "execution_count": 15,
     "metadata": {},
     "output_type": "execute_result"
    }
   ],
   "source": [
    "from model_utils import pipeline_results_to_df, logits_to_df\n",
    "\n",
    "texts = ['perfect!', 'good', 'meh', 'i dont like it', 'i hate it!',]\n",
    "\n",
    "#\n",
    "# Using pipeline\n",
    "#\n",
    "from transformers import pipeline\n",
    "\n",
    "if False:\n",
    "    pl = pipeline('sentiment-analysis', model, tokenizer=tokenizer, top_k=None)\n",
    "    ans = pl(texts)\n",
    "    display(ans)\n",
    "\n",
    "    pipeline_results_to_df(ans, model.config.label2id)\\\n",
    "        .style\\\n",
    "        .text_gradient(subset=['very positive', 'positive', 'neutral', 'very negative', 'negative'], axis=1, cmap='Purples_r')\n",
    "\n",
    "\n",
    "#\n",
    "# Using logits\n",
    "#\n",
    "with torch.no_grad():\n",
    "    logits = model(**tokenizer(texts, padding=True, return_tensors='pt').to(device))['logits']\n",
    "\n",
    "logits_to_df(logits.cpu(), model.config.id2label)\\\n",
    "    .style\\\n",
    "    .text_gradient(subset=['very positive', 'positive', 'neutral', 'very negative', 'negative'], axis=1, cmap='Purples_r')"
   ]
  },
  {
   "cell_type": "markdown",
   "metadata": {},
   "source": [
    "---\n",
    "# **Sentiment data**"
   ]
  },
  {
   "cell_type": "code",
   "execution_count": 16,
   "metadata": {},
   "outputs": [
    {
     "data": {
      "text/html": [
       "<style type=\"text/css\">\n",
       "#T_da5f9_row1653_col8, #T_da5f9_row2607_col8 {\n",
       "  background-color: #f88c51;\n",
       "  color: #f1f1f1;\n",
       "}\n",
       "#T_da5f9_row2732_col8, #T_da5f9_row3264_col8 {\n",
       "  background-color: #87cb67;\n",
       "  color: #000000;\n",
       "}\n",
       "#T_da5f9_row4931_col8 {\n",
       "  background-color: #fffebe;\n",
       "  color: #000000;\n",
       "}\n",
       "</style>\n",
       "<table id=\"T_da5f9\">\n",
       "  <caption>shape: (5239, 10)</caption>\n",
       "  <thead>\n",
       "    <tr>\n",
       "      <th class=\"blank level0\" >&nbsp;</th>\n",
       "      <th id=\"T_da5f9_level0_col0\" class=\"col_heading level0 col0\" >Comment ID</th>\n",
       "      <th id=\"T_da5f9_level0_col1\" class=\"col_heading level0 col1\" >Trust</th>\n",
       "      <th id=\"T_da5f9_level0_col2\" class=\"col_heading level0 col2\" >Respondent ID</th>\n",
       "      <th id=\"T_da5f9_level0_col3\" class=\"col_heading level0 col3\" >Date</th>\n",
       "      <th id=\"T_da5f9_level0_col4\" class=\"col_heading level0 col4\" >question_type</th>\n",
       "      <th id=\"T_da5f9_level0_col5\" class=\"col_heading level0 col5\" >answer_clean</th>\n",
       "      <th id=\"T_da5f9_level0_col6\" class=\"col_heading level0 col6\" >answer_char_len</th>\n",
       "      <th id=\"T_da5f9_level0_col7\" class=\"col_heading level0 col7\" >answer_word_len</th>\n",
       "      <th id=\"T_da5f9_level0_col8\" class=\"col_heading level0 col8\" >Comment sentiment</th>\n",
       "      <th id=\"T_da5f9_level0_col9\" class=\"col_heading level0 col9\" >sentiment_desc</th>\n",
       "    </tr>\n",
       "  </thead>\n",
       "  <tbody>\n",
       "    <tr>\n",
       "      <th id=\"T_da5f9_level0_row1653\" class=\"row_heading level0 row1653\" >4772</th>\n",
       "      <td id=\"T_da5f9_row1653_col0\" class=\"data row1653 col0\" >NEAS PTS 1957 - Q1</td>\n",
       "      <td id=\"T_da5f9_row1653_col1\" class=\"data row1653 col1\" >NEAS</td>\n",
       "      <td id=\"T_da5f9_row1653_col2\" class=\"data row1653 col2\" >NEAS PTS 1957</td>\n",
       "      <td id=\"T_da5f9_row1653_col3\" class=\"data row1653 col3\" >30/09/2022</td>\n",
       "      <td id=\"T_da5f9_row1653_col4\" class=\"data row1653 col4\" >nonspecific</td>\n",
       "      <td id=\"T_da5f9_row1653_col5\" class=\"data row1653 col5\" >Usually pick up on time but on occasion quite late and all occasion so late my appointment with consultant was put in jeopardy.</td>\n",
       "      <td id=\"T_da5f9_row1653_col6\" class=\"data row1653 col6\" >127</td>\n",
       "      <td id=\"T_da5f9_row1653_col7\" class=\"data row1653 col7\" >23</td>\n",
       "      <td id=\"T_da5f9_row1653_col8\" class=\"data row1653 col8\" >4</td>\n",
       "      <td id=\"T_da5f9_row1653_col9\" class=\"data row1653 col9\" >negative</td>\n",
       "    </tr>\n",
       "    <tr>\n",
       "      <th id=\"T_da5f9_level0_row2607\" class=\"row_heading level0 row2607\" >4765</th>\n",
       "      <td id=\"T_da5f9_row2607_col0\" class=\"data row2607 col0\" >NEAS PTS 1936 - Q1</td>\n",
       "      <td id=\"T_da5f9_row2607_col1\" class=\"data row2607 col1\" >NEAS</td>\n",
       "      <td id=\"T_da5f9_row2607_col2\" class=\"data row2607 col2\" >NEAS PTS 1936</td>\n",
       "      <td id=\"T_da5f9_row2607_col3\" class=\"data row2607 col3\" >30/09/2022</td>\n",
       "      <td id=\"T_da5f9_row2607_col4\" class=\"data row2607 col4\" >nonspecific</td>\n",
       "      <td id=\"T_da5f9_row2607_col5\" class=\"data row2607 col5\" >Quicker response to return home.</td>\n",
       "      <td id=\"T_da5f9_row2607_col6\" class=\"data row2607 col6\" >32</td>\n",
       "      <td id=\"T_da5f9_row2607_col7\" class=\"data row2607 col7\" >5</td>\n",
       "      <td id=\"T_da5f9_row2607_col8\" class=\"data row2607 col8\" >4</td>\n",
       "      <td id=\"T_da5f9_row2607_col9\" class=\"data row2607 col9\" >negative</td>\n",
       "    </tr>\n",
       "    <tr>\n",
       "      <th id=\"T_da5f9_level0_row2732\" class=\"row_heading level0 row2732\" >3439</th>\n",
       "      <td id=\"T_da5f9_row2732_col0\" class=\"data row2732 col0\" >NEAS PTS 903 - Q2</td>\n",
       "      <td id=\"T_da5f9_row2732_col1\" class=\"data row2732 col1\" >NEAS</td>\n",
       "      <td id=\"T_da5f9_row2732_col2\" class=\"data row2732 col2\" >NEAS PTS 903</td>\n",
       "      <td id=\"T_da5f9_row2732_col3\" class=\"data row2732 col3\" >31/01/2022</td>\n",
       "      <td id=\"T_da5f9_row2732_col4\" class=\"data row2732 col4\" >could_improve</td>\n",
       "      <td id=\"T_da5f9_row2732_col5\" class=\"data row2732 col5\" >As far as I know it was the best. Seeing the other ambulance did not turn up at all that's why you were called you came quick. Many thanks.</td>\n",
       "      <td id=\"T_da5f9_row2732_col6\" class=\"data row2732 col6\" >139</td>\n",
       "      <td id=\"T_da5f9_row2732_col7\" class=\"data row2732 col7\" >29</td>\n",
       "      <td id=\"T_da5f9_row2732_col8\" class=\"data row2732 col8\" >2</td>\n",
       "      <td id=\"T_da5f9_row2732_col9\" class=\"data row2732 col9\" >positive</td>\n",
       "    </tr>\n",
       "    <tr>\n",
       "      <th id=\"T_da5f9_level0_row3264\" class=\"row_heading level0 row3264\" >3107</th>\n",
       "      <td id=\"T_da5f9_row3264_col0\" class=\"data row3264 col0\" >NEAS 111 2015 - Q2</td>\n",
       "      <td id=\"T_da5f9_row3264_col1\" class=\"data row3264 col1\" >NEAS</td>\n",
       "      <td id=\"T_da5f9_row3264_col2\" class=\"data row3264 col2\" >NEAS 111 2015</td>\n",
       "      <td id=\"T_da5f9_row3264_col3\" class=\"data row3264 col3\" >10/05/2022</td>\n",
       "      <td id=\"T_da5f9_row3264_col4\" class=\"data row3264 col4\" >could_improve</td>\n",
       "      <td id=\"T_da5f9_row3264_col5\" class=\"data row3264 col5\" >Got a prompt response and appointment within 1 hour</td>\n",
       "      <td id=\"T_da5f9_row3264_col6\" class=\"data row3264 col6\" >51</td>\n",
       "      <td id=\"T_da5f9_row3264_col7\" class=\"data row3264 col7\" >9</td>\n",
       "      <td id=\"T_da5f9_row3264_col8\" class=\"data row3264 col8\" >2</td>\n",
       "      <td id=\"T_da5f9_row3264_col9\" class=\"data row3264 col9\" >positive</td>\n",
       "    </tr>\n",
       "    <tr>\n",
       "      <th id=\"T_da5f9_level0_row4931\" class=\"row_heading level0 row4931\" >2738</th>\n",
       "      <td id=\"T_da5f9_row4931_col0\" class=\"data row4931 col0\" >NHFT 1341 - Q2</td>\n",
       "      <td id=\"T_da5f9_row4931_col1\" class=\"data row4931 col1\" >NHFT</td>\n",
       "      <td id=\"T_da5f9_row4931_col2\" class=\"data row4931 col2\" >NHFT 1341</td>\n",
       "      <td id=\"T_da5f9_row4931_col3\" class=\"data row4931 col3\" >14/03/2022</td>\n",
       "      <td id=\"T_da5f9_row4931_col4\" class=\"data row4931 col4\" >what_good</td>\n",
       "      <td id=\"T_da5f9_row4931_col5\" class=\"data row4931 col5\" >Yes.</td>\n",
       "      <td id=\"T_da5f9_row4931_col6\" class=\"data row4931 col6\" >4</td>\n",
       "      <td id=\"T_da5f9_row4931_col7\" class=\"data row4931 col7\" >1</td>\n",
       "      <td id=\"T_da5f9_row4931_col8\" class=\"data row4931 col8\" >3</td>\n",
       "      <td id=\"T_da5f9_row4931_col9\" class=\"data row4931 col9\" >neutral</td>\n",
       "    </tr>\n",
       "  </tbody>\n",
       "</table>\n"
      ],
      "text/plain": [
       "<pandas.io.formats.style.Styler at 0x7f5c03476050>"
      ]
     },
     "execution_count": 16,
     "metadata": {},
     "output_type": "execute_result"
    }
   ],
   "source": [
    "from spreadsheet_data_handling import tweak_for_sentiment\n",
    "from sklearn.model_selection import train_test_split\n",
    "\n",
    "#Could use tweak_generic for MLM/domain-adaptation, but stick to\n",
    "# tweak_for_sentiment to be consistent with previous data splits\n",
    "tweaked_df = (\n",
    "    pd.read_csv('../pxtextmining/datasets/v6framework_230831.csv')\n",
    "    .pipe(tweak_for_sentiment)\n",
    ")\n",
    "\n",
    "tweaked_df, test_df = train_test_split(\n",
    "    tweaked_df, test_size=0.15,\n",
    "    random_state=0,\n",
    "    stratify=tweaked_df['Comment sentiment']\n",
    ")\n",
    "\n",
    "tweaked_df.style\\\n",
    "    .set_caption(f'shape: {tweaked_df.shape}')\\\n",
    "    .background_gradient(subset=['Comment sentiment'], cmap='RdYlGn_r')\\\n",
    "    .hide(subset=tweaked_df.sample(n=len(tweaked_df) - 5).index)"
   ]
  },
  {
   "cell_type": "markdown",
   "metadata": {},
   "source": [
    "### Stratified train-val split and to `DatasetDict`"
   ]
  },
  {
   "cell_type": "code",
   "execution_count": 17,
   "metadata": {},
   "outputs": [
    {
     "data": {
      "application/vnd.jupyter.widget-view+json": {
       "model_id": "dbd8319e7c9046ec899dda0cd43bb4d4",
       "version_major": 2,
       "version_minor": 0
      },
      "text/plain": [
       "Map:   0%|          | 0/3929 [00:00<?, ? examples/s]"
      ]
     },
     "metadata": {},
     "output_type": "display_data"
    },
    {
     "data": {
      "application/vnd.jupyter.widget-view+json": {
       "model_id": "e7ded30f41f4496d8b0de5dc2d0215cd",
       "version_major": 2,
       "version_minor": 0
      },
      "text/plain": [
       "Map:   0%|          | 0/1310 [00:00<?, ? examples/s]"
      ]
     },
     "metadata": {},
     "output_type": "display_data"
    },
    {
     "data": {
      "application/vnd.jupyter.widget-view+json": {
       "model_id": "9db86eff68814ab182a80ae3574785df",
       "version_major": 2,
       "version_minor": 0
      },
      "text/plain": [
       "Map:   0%|          | 0/925 [00:00<?, ? examples/s]"
      ]
     },
     "metadata": {},
     "output_type": "display_data"
    },
    {
     "data": {
      "text/plain": [
       "DatasetDict({\n",
       "    train: Dataset({\n",
       "        features: ['question_type', 'answer_clean', 'sentiment_desc', 'comment_sentiment'],\n",
       "        num_rows: 3929\n",
       "    })\n",
       "    validation: Dataset({\n",
       "        features: ['question_type', 'answer_clean', 'sentiment_desc', 'comment_sentiment'],\n",
       "        num_rows: 1310\n",
       "    })\n",
       "    test: Dataset({\n",
       "        features: ['question_type', 'answer_clean', 'sentiment_desc', 'comment_sentiment'],\n",
       "        num_rows: 925\n",
       "    })\n",
       "})"
      ]
     },
     "metadata": {},
     "output_type": "display_data"
    },
    {
     "data": {
      "text/plain": [
       "{'question_type': ['could_improve', 'could_improve'],\n",
       " 'answer_clean': ['Only that other participants sometimes had background sounds.',\n",
       "  \"In the present circumstances, with fewer staff, and the public's lack of appreciation I felt I had to mention what I thought was an outstanding person who went above and beyond. A gentleman\"],\n",
       " 'sentiment_desc': ['negative', 'very positive'],\n",
       " 'comment_sentiment': [3, 0]}"
      ]
     },
     "execution_count": 17,
     "metadata": {},
     "output_type": "execute_result"
    }
   ],
   "source": [
    "from datasets import Dataset, DatasetDict\n",
    "\n",
    "fft_df_trn, fft_df_val = train_test_split(\n",
    "    tweaked_df, test_size=1/4, random_state=0,\n",
    "    stratify=tweaked_df['Comment sentiment']\n",
    ")\n",
    "\n",
    "fft_datasets = DatasetDict({\n",
    "    'train': Dataset.from_pandas(fft_df_trn),\n",
    "    'validation': Dataset.from_pandas(fft_df_val),\n",
    "    'test': Dataset.from_pandas(test_df)\n",
    "}).remove_columns([\n",
    "    'Comment ID', 'Trust', 'Respondent ID', 'Date',\n",
    "    'answer_char_len', 'answer_word_len', '__index_level_0__',\n",
    "])\n",
    "\n",
    "#Subtract 1 from score to get 0:4 for pos:neg\n",
    "fft_datasets = fft_datasets.map(\n",
    "    lambda batch:\n",
    "    {'comment_sentiment': [score - 1 for score in batch['Comment sentiment']]},\n",
    "    batched=True\n",
    ").remove_columns(['Comment sentiment',])\n",
    "\n",
    "display(fft_datasets)\n",
    "\n",
    "\n",
    "#View sample\n",
    "fft_datasets['train'].shuffle()[:2]"
   ]
  },
  {
   "cell_type": "markdown",
   "metadata": {},
   "source": [
    "Rather than learning new token embeddings for question types, start by leveraging existing tokens."
   ]
  },
  {
   "cell_type": "code",
   "execution_count": 18,
   "metadata": {},
   "outputs": [
    {
     "data": {
      "application/vnd.jupyter.widget-view+json": {
       "model_id": "ae00863d9a4949d3b6ab4cb8e824a5ca",
       "version_major": 2,
       "version_minor": 0
      },
      "text/plain": [
       "Map:   0%|          | 0/3929 [00:00<?, ? examples/s]"
      ]
     },
     "metadata": {},
     "output_type": "display_data"
    },
    {
     "data": {
      "application/vnd.jupyter.widget-view+json": {
       "model_id": "7f070fc284904d6f996a887ab9161560",
       "version_major": 2,
       "version_minor": 0
      },
      "text/plain": [
       "Map:   0%|          | 0/1310 [00:00<?, ? examples/s]"
      ]
     },
     "metadata": {},
     "output_type": "display_data"
    },
    {
     "data": {
      "application/vnd.jupyter.widget-view+json": {
       "model_id": "d15849bd88044559a4e1b68e0fb80b73",
       "version_major": 2,
       "version_minor": 0
      },
      "text/plain": [
       "Map:   0%|          | 0/925 [00:00<?, ? examples/s]"
      ]
     },
     "metadata": {},
     "output_type": "display_data"
    },
    {
     "data": {
      "text/plain": [
       "{'question_type': ['could_improve'],\n",
       " 'answer_clean': [\"They couldn't have done anything better.\"],\n",
       " 'sentiment_desc': ['very positive'],\n",
       " 'comment_sentiment': [0],\n",
       " 'q_and_a': [\"Question: What could be improved? Answer: They couldn't have done anything better.\"]}"
      ]
     },
     "execution_count": 18,
     "metadata": {},
     "output_type": "execute_result"
    }
   ],
   "source": [
    "from model_utils import combine_question_answer\n",
    "\n",
    "fft_datasets = fft_datasets.map(combine_question_answer, batched=True)\n",
    "fft_datasets['train'].shuffle()[:1]"
   ]
  },
  {
   "cell_type": "markdown",
   "metadata": {},
   "source": [
    "Tokenize"
   ]
  },
  {
   "cell_type": "code",
   "execution_count": 19,
   "metadata": {},
   "outputs": [
    {
     "data": {
      "application/vnd.jupyter.widget-view+json": {
       "model_id": "dfbc29c29e044125b8d6ece1558f4d5b",
       "version_major": 2,
       "version_minor": 0
      },
      "text/plain": [
       "Map:   0%|          | 0/3929 [00:00<?, ? examples/s]"
      ]
     },
     "metadata": {},
     "output_type": "display_data"
    },
    {
     "data": {
      "application/vnd.jupyter.widget-view+json": {
       "model_id": "a79746b4197f4eb89bc9717bc15f050c",
       "version_major": 2,
       "version_minor": 0
      },
      "text/plain": [
       "Map:   0%|          | 0/1310 [00:00<?, ? examples/s]"
      ]
     },
     "metadata": {},
     "output_type": "display_data"
    },
    {
     "data": {
      "application/vnd.jupyter.widget-view+json": {
       "model_id": "0dd471a51230464b91677805ee31df5f",
       "version_major": 2,
       "version_minor": 0
      },
      "text/plain": [
       "Map:   0%|          | 0/925 [00:00<?, ? examples/s]"
      ]
     },
     "metadata": {},
     "output_type": "display_data"
    },
    {
     "data": {
      "text/plain": [
       "dict_keys(['labels', 'input_ids', 'token_type_ids', 'attention_mask'])"
      ]
     },
     "execution_count": 19,
     "metadata": {},
     "output_type": "execute_result"
    }
   ],
   "source": [
    "fft_tokenized = fft_datasets.map(\n",
    "    lambda batch: tokenizer(batch['q_and_a'], padding=False, truncation=True),\n",
    "    batched=True\n",
    ").remove_columns([\n",
    "    'question_type', 'answer_clean', 'sentiment_desc', 'q_and_a',\n",
    "]).rename_column('comment_sentiment', 'labels')\n",
    "\n",
    "if 'token_type_ids' in fft_tokenized['train']:\n",
    "    fft_tokenized = fft_tokenized.remove_column('token_type_ids')\n",
    "\n",
    "fft_tokenized['train'].shuffle()[:1].keys()"
   ]
  },
  {
   "cell_type": "markdown",
   "metadata": {},
   "source": [
    "Fine-tune model on FFT data\n",
    "\n",
    "Regular class-balancing helps"
   ]
  },
  {
   "cell_type": "code",
   "execution_count": 20,
   "metadata": {},
   "outputs": [
    {
     "name": "stderr",
     "output_type": "stream",
     "text": [
      "Some weights of BertForSequenceClassification were not initialized from the model checkpoint at huawei-noah/TinyBERT_General_4L_312D and are newly initialized: ['classifier.bias', 'classifier.weight']\n",
      "You should probably TRAIN this model on a down-stream task to be able to use it for predictions and inference.\n"
     ]
    },
    {
     "name": "stdout",
     "output_type": "stream",
     "text": [
      "[!] Class weights [0.5 0.9 1.7 0.9 4.8]\n",
      "19 epochs | 18677 training steps\n",
      "~~~~~~~~~~~~~~~~~~~~~~~~~~~~~~~~Before FFT fine-tuning~~~~~~~~~~~~~~~~~~~~~~~~~~~~~~~\n",
      "              precision    recall  f1-score   support\n",
      "\n",
      "           0       0.78      0.19      0.30       512\n",
      "           1       0.40      0.65      0.49       300\n",
      "           2       0.20      0.26      0.23       152\n",
      "           3       0.30      0.37      0.33       291\n",
      "           4       0.16      0.40      0.23        55\n",
      "\n",
      "    accuracy                           0.35      1310\n",
      "   macro avg       0.37      0.37      0.32      1310\n",
      "weighted avg       0.49      0.35      0.34      1310\n",
      "\n"
     ]
    },
    {
     "data": {
      "application/vnd.jupyter.widget-view+json": {
       "model_id": "7fed03ce3ce348afacccfaca29f94a81",
       "version_major": 2,
       "version_minor": 0
      },
      "text/plain": [
       "training:   0%|          | 0/18677 [00:00<?, ?minibatch/s]"
      ]
     },
     "metadata": {},
     "output_type": "display_data"
    },
    {
     "name": "stdout",
     "output_type": "stream",
     "text": [
      "              precision    recall  f1-score   support\n",
      "\n",
      "           0       0.81      0.80      0.81       512\n",
      "           1       0.59      0.68      0.63       300\n",
      "           2       0.53      0.43      0.48       152\n",
      "           3       0.82      0.75      0.78       291\n",
      "           4       0.58      0.69      0.63        55\n",
      "\n",
      "    accuracy                           0.71      1310\n",
      "   macro avg       0.67      0.67      0.67      1310\n",
      "weighted avg       0.72      0.71      0.71      1310\n",
      "\n"
     ]
    }
   ],
   "source": [
    "np.random.seed(10)\n",
    "torch.manual_seed(10)\n",
    "\n",
    "#Load weights into clean model\n",
    "model = AutoModelForSequenceClassification.from_pretrained(checkpoint, num_labels=5)\n",
    "model.load_state_dict(torch.load('finetuned/tinybert-sst5.pickle', weights_only=True))\n",
    "model.to(device)\n",
    "\n",
    "#Run on DistilBERT for comparison to approach in pxtextmining\n",
    "# model = AutoModelForSequenceClassification.from_pretrained('distilbert/distilbert-base-uncased', num_labels=5)\n",
    "# model.to(device)\n",
    "\n",
    "#Class weights\n",
    "class_weights = None\n",
    "class_weights = compute_class_weight('balanced', classes=np.array([0, 1, 2, 3, 4]), y=fft_tokenized['train'][:]['labels'])\n",
    "\n",
    "if class_weights is not None:\n",
    "    print('[!] Class weights', class_weights.round(1))\n",
    "\n",
    "\n",
    "#Data loaders\n",
    "batch_size = 4\n",
    "\n",
    "dynamic_padding_collator = DataCollatorWithPadding(tokenizer)\n",
    "\n",
    "train_loader = DataLoader(\n",
    "    fft_tokenized['train'],\n",
    "    batch_size=batch_size,\n",
    "    shuffle=True,\n",
    "    pin_memory=True,\n",
    "    collate_fn=dynamic_padding_collator,\n",
    ")\n",
    "\n",
    "val_loader = DataLoader(\n",
    "    fft_tokenized['validation'],\n",
    "    batch_size=batch_size,\n",
    "    pin_memory=True,\n",
    "    collate_fn=dynamic_padding_collator,\n",
    ")\n",
    "val_labels = np.concatenate([minibatch['labels'] for minibatch in val_loader])\n",
    "\n",
    "test_loader = DataLoader(\n",
    "    fft_tokenized['test'],\n",
    "    batch_size=batch_size,\n",
    "    pin_memory=True,\n",
    "    collate_fn=dynamic_padding_collator\n",
    ")\n",
    "\n",
    "#Scheduler\n",
    "optimizer = torch.optim.AdamW(model.parameters(), lr=1e-5)\n",
    "\n",
    "num_epochs = 19\n",
    "earlystop_at_epoch = 9\n",
    "\n",
    "num_training_steps = num_epochs * len(train_loader)\n",
    "lr_scheduler = get_scheduler(\n",
    "    'linear',\n",
    "    optimizer,\n",
    "    num_warmup_steps=int(round(0.1 * num_training_steps)),\n",
    "    num_training_steps=num_training_steps,\n",
    ")\n",
    "print(num_epochs, 'epochs |', num_training_steps, 'training steps')\n",
    "\n",
    "\n",
    "#Score before training\n",
    "preds, loss = compute_metrics(model, val_loader, device)\n",
    "print('Before FFT fine-tuning'.center(85, '~'))\n",
    "print(classification_report(val_labels, preds))\n",
    "\n",
    "\n",
    "progress_bar = tqdm(range(num_training_steps), unit='minibatch', desc='training')\n",
    "writer = SummaryWriter(f'runs/fft_ft-bs{batch_size}')\n",
    "\n",
    "#\n",
    "# Training loop\n",
    "#\n",
    "for epoch in range(num_epochs):\n",
    "    model.train()\n",
    "\n",
    "    for minibatch in train_loader:\n",
    "        minibatch = {k: v.to(device) for k, v in minibatch.items()}\n",
    "        outputs = model(**minibatch)\n",
    "\n",
    "        optimizer.zero_grad()\n",
    "        # outputs.loss.backward()\n",
    "        torch.nn.CrossEntropyLoss(weight=torch.tensor(class_weights).float().to(device))(outputs['logits'], minibatch['labels']).backward()\n",
    "        optimizer.step()\n",
    "        lr_scheduler.step()\n",
    "        progress_bar.update()\n",
    "    #/end of epoch\n",
    "\n",
    "    model.eval()\n",
    "    trn_preds, trn_loss = compute_metrics(model, train_loader, device)\n",
    "    val_preds, val_loss = compute_metrics(model, val_loader, device)\n",
    "\n",
    "    writer.add_scalars('loss', {'train': trn_loss, 'val': val_loss}, global_step=epoch + 1)\n",
    "    \n",
    "    clf_report = classification_report(val_labels, val_preds, zero_division=np.nan)\n",
    "    writer.add_text('classification_report', clf_report, global_step=epoch + 1)\n",
    "\n",
    "    if epoch + 1 == earlystop_at_epoch: break\n",
    "\n",
    "torch.save(model.state_dict(), f'finetuned/tinybert-sst5-fft.pickle')\n",
    "\n",
    "print(clf_report)"
   ]
  },
  {
   "cell_type": "code",
   "execution_count": null,
   "metadata": {},
   "outputs": [],
   "source": [
    "\"\"\"\n",
    "              precision    recall  f1-score   support\n",
    "\n",
    "           0       0.81      0.80      0.81       512\n",
    "           1       0.59      0.68      0.63       300\n",
    "           2       0.53      0.43      0.48       152\n",
    "           3       0.82      0.75      0.78       291\n",
    "           4       0.58      0.69      0.63        55\n",
    "\n",
    "    accuracy                           0.71      1310\n",
    "   macro avg       0.67      0.67      0.67      1310\n",
    "weighted avg       0.72      0.71      0.71      1310\n",
    "\"\"\""
   ]
  },
  {
   "cell_type": "markdown",
   "metadata": {},
   "source": [
    "### Threshold tuning\n",
    "\n",
    "Seems like there's scope to tune it to ~0.7 (for class 4 atleast)"
   ]
  },
  {
   "cell_type": "code",
   "execution_count": 21,
   "metadata": {},
   "outputs": [
    {
     "data": {
      "text/plain": [
       "<sklearn.metrics._plot.precision_recall_curve.PrecisionRecallDisplay at 0x7f5b10a48790>"
      ]
     },
     "execution_count": 21,
     "metadata": {},
     "output_type": "execute_result"
    },
    {
     "data": {
      "image/png": "[encoded data removed]",
      "text/plain": [
       "<Figure size 640x480 with 1 Axes>"
      ]
     },
     "metadata": {},
     "output_type": "display_data"
    }
   ],
   "source": [
    "model.eval()\n",
    "\n",
    "with torch.no_grad():\n",
    "    val_logits = torch.row_stack([model(**{k: v.to(device) for k, v in minibatch.items()}).logits for minibatch in val_loader])\n",
    "\n",
    "from sklearn.metrics import PrecisionRecallDisplay\n",
    "\n",
    "k = 4\n",
    "PrecisionRecallDisplay.from_predictions(val_labels==k, val_logits.softmax(dim=1).cpu()[:, k])"
   ]
  },
  {
   "cell_type": "markdown",
   "metadata": {},
   "source": [
    "### Test set score"
   ]
  },
  {
   "cell_type": "code",
   "execution_count": 22,
   "metadata": {},
   "outputs": [
    {
     "name": "stdout",
     "output_type": "stream",
     "text": [
      "              precision    recall  f1-score   support\n",
      "\n",
      "           0       0.83      0.80      0.81       362\n",
      "           1       0.60      0.69      0.64       212\n",
      "           2       0.39      0.38      0.38       108\n",
      "           3       0.80      0.76      0.78       205\n",
      "           4       0.69      0.53      0.60        38\n",
      "\n",
      "    accuracy                           0.71       925\n",
      "   macro avg       0.66      0.63      0.64       925\n",
      "weighted avg       0.71      0.71      0.71       925\n",
      "\n"
     ]
    }
   ],
   "source": [
    "# model = AutoModelForSequenceClassification.from_pretrained('distilbert/distilbert-base-uncased', num_labels=5)\n",
    "# model.load_state_dict(torch.load('finetuned/distilbert-fft.pickle', weights_only=True))\n",
    "\n",
    "model.eval()\n",
    "test_preds, test_loss = compute_metrics(model, test_loader, device)\n",
    "\n",
    "print(classification_report(\n",
    "    y_true=np.concatenate([minibatch['labels'] for minibatch in test_loader]),\n",
    "    y_pred=test_preds\n",
    "))"
   ]
  },
  {
   "cell_type": "code",
   "execution_count": null,
   "metadata": {},
   "outputs": [],
   "source": [
    "\"\"\"\n",
    "tinybert-sst5-fft\n",
    "              precision    recall  f1-score   support\n",
    "\n",
    "           0       0.83      0.80      0.81       362\n",
    "           1       0.60      0.69      0.64       212\n",
    "           2       0.39      0.38      0.38       108\n",
    "           3       0.80      0.76      0.78       205\n",
    "           4       0.69      0.53      0.60        38\n",
    "\n",
    "    accuracy                           0.71       925\n",
    "   macro avg       0.66      0.63      0.64       925\n",
    "weighted avg       0.71      0.71      0.71       925\n",
    "\n",
    "\n",
    "fft directly finetuned base distilbert (6 epochs)\n",
    "              precision    recall  f1-score   support\n",
    "\n",
    "           0       0.84      0.78      0.81       362\n",
    "           1       0.62      0.67      0.64       212\n",
    "           2       0.38      0.46      0.42       108\n",
    "           3       0.84      0.73      0.78       205\n",
    "           4       0.50      0.68      0.58        38\n",
    "\n",
    "    accuracy                           0.70       925\n",
    "   macro avg       0.64      0.67      0.65       925\n",
    "weighted avg       0.72      0.70      0.71       925\n",
    "\n",
    "\n",
    "copy of pxtextmining/distilbert sentiment score\n",
    "               precision    recall  f1-score   support\n",
    "\n",
    "very positive       0.80      0.79      0.80      1746\n",
    "     positive       0.63      0.52      0.57       841\n",
    "      neutral       0.52      0.71      0.60       551\n",
    "     negative       0.79      0.68      0.73       639\n",
    "very negative       0.52      0.64      0.57       166\n",
    "\n",
    "     accuracy                           0.70      3943\n",
    "    macro avg       0.65      0.67      0.65      3943\n",
    " weighted avg       0.71      0.70      0.70      3943\n",
    " \"\"\""
   ]
  }
 ],
 "metadata": {
  "kernelspec": {
   "display_name": "dev",
   "language": "python",
   "name": "python3"
  },
  "language_info": {
   "codemirror_mode": {
    "name": "ipython",
    "version": 3
   },
   "file_extension": ".py",
   "mimetype": "text/x-python",
   "name": "python",
   "nbconvert_exporter": "python",
   "pygments_lexer": "ipython3",
   "version": "3.11.9"
  }
 },
 "nbformat": 4,
 "nbformat_minor": 2
}
