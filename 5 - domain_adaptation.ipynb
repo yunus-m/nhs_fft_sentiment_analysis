{
 "cells": [
  {
   "cell_type": "markdown",
   "metadata": {},
   "source": [
    "Done so far for sentiment aspect:\n",
    "\n",
    "- EDA to explore structure of text, categorisation, and sentiment\n",
    "- Traditional baselines using vader and textblob\n",
    "- Explore architectures in sklearn using tfidf\n",
    "- Explore using word embeddings from pretrained models (improvement, and mlp does well)\n",
    "\n",
    "\n",
    "This notebook: domain adaptation."
   ]
  },
  {
   "cell_type": "markdown",
   "metadata": {},
   "source": [
    "### Imports"
   ]
  },
  {
   "cell_type": "code",
   "execution_count": 1,
   "metadata": {},
   "outputs": [
    {
     "name": "stdout",
     "output_type": "stream",
     "text": [
      "Device is cuda | gpu name: NVIDIA GeForce RTX 4080 SUPER\n"
     ]
    }
   ],
   "source": [
    "import pandas as pd\n",
    "from matplotlib import pyplot as plt\n",
    "import numpy as np\n",
    "\n",
    "import torch\n",
    "device = 'cuda' if torch.cuda.is_available() else 'cpu'\n",
    "print('Device is', device, '| gpu name:', torch.cuda.get_device_name())"
   ]
  },
  {
   "cell_type": "markdown",
   "metadata": {},
   "source": [
    "### Load and split data (stratified)\n",
    "\n",
    "Same test split as other notebooks"
   ]
  },
  {
   "cell_type": "code",
   "execution_count": 2,
   "metadata": {},
   "outputs": [
    {
     "data": {
      "text/html": [
       "<div>\n",
       "<style scoped>\n",
       "    .dataframe tbody tr th:only-of-type {\n",
       "        vertical-align: middle;\n",
       "    }\n",
       "\n",
       "    .dataframe tbody tr th {\n",
       "        vertical-align: top;\n",
       "    }\n",
       "\n",
       "    .dataframe thead th {\n",
       "        text-align: right;\n",
       "    }\n",
       "</style>\n",
       "<table border=\"1\" class=\"dataframe\">\n",
       "  <thead>\n",
       "    <tr style=\"text-align: right;\">\n",
       "      <th></th>\n",
       "      <th>Comment ID</th>\n",
       "      <th>Trust</th>\n",
       "      <th>Respondent ID</th>\n",
       "      <th>Date</th>\n",
       "      <th>question_type</th>\n",
       "      <th>answer_clean</th>\n",
       "      <th>answer_char_len</th>\n",
       "      <th>answer_word_len</th>\n",
       "      <th>Comment sentiment</th>\n",
       "      <th>sentiment_desc</th>\n",
       "    </tr>\n",
       "  </thead>\n",
       "  <tbody>\n",
       "    <tr>\n",
       "      <th>192</th>\n",
       "      <td>NEAS PTS 1110 - Q1</td>\n",
       "      <td>NEAS</td>\n",
       "      <td>NEAS PTS 1110</td>\n",
       "      <td>28/02/2022</td>\n",
       "      <td>nonspecific</td>\n",
       "      <td>Nothing had me worry about the Service I recei...</td>\n",
       "      <td>50</td>\n",
       "      <td>9</td>\n",
       "      <td>2</td>\n",
       "      <td>positive</td>\n",
       "    </tr>\n",
       "    <tr>\n",
       "      <th>3530</th>\n",
       "      <td>NEAS PTS 1179 - Q2</td>\n",
       "      <td>NEAS</td>\n",
       "      <td>NEAS PTS 1179</td>\n",
       "      <td>30/03/2022</td>\n",
       "      <td>could_improve</td>\n",
       "      <td>the double crew that collected my wife and mys...</td>\n",
       "      <td>306</td>\n",
       "      <td>50</td>\n",
       "      <td>2</td>\n",
       "      <td>positive</td>\n",
       "    </tr>\n",
       "    <tr>\n",
       "      <th>2642</th>\n",
       "      <td>NHFT 1700 - Q1</td>\n",
       "      <td>NHFT</td>\n",
       "      <td>NHFT 1700</td>\n",
       "      <td>19/01/2022</td>\n",
       "      <td>could_improve</td>\n",
       "      <td>In my case, all was done to the best practise.</td>\n",
       "      <td>46</td>\n",
       "      <td>10</td>\n",
       "      <td>2</td>\n",
       "      <td>positive</td>\n",
       "    </tr>\n",
       "  </tbody>\n",
       "</table>\n",
       "</div>"
      ],
      "text/plain": [
       "              Comment ID Trust  Respondent ID        Date  question_type  \\\n",
       "192   NEAS PTS 1110 - Q1  NEAS  NEAS PTS 1110  28/02/2022    nonspecific   \n",
       "3530  NEAS PTS 1179 - Q2  NEAS  NEAS PTS 1179  30/03/2022  could_improve   \n",
       "2642      NHFT 1700 - Q1  NHFT      NHFT 1700  19/01/2022  could_improve   \n",
       "\n",
       "                                           answer_clean  answer_char_len  \\\n",
       "192   Nothing had me worry about the Service I recei...               50   \n",
       "3530  the double crew that collected my wife and mys...              306   \n",
       "2642     In my case, all was done to the best practise.               46   \n",
       "\n",
       "      answer_word_len  Comment sentiment sentiment_desc  \n",
       "192                 9                  2       positive  \n",
       "3530               50                  2       positive  \n",
       "2642               10                  2       positive  "
      ]
     },
     "execution_count": 2,
     "metadata": {},
     "output_type": "execute_result"
    }
   ],
   "source": [
    "from spreadsheet_data_handling import tweak_for_sentiment\n",
    "from sklearn.model_selection import train_test_split\n",
    "\n",
    "#Could use tweak_generic for MLM/domain-adaptation, but stick to\n",
    "# tweak_for_sentiment to be consistent with previous data splits\n",
    "df_raw = pd.read_csv('../pxtextmining/datasets/v6framework_230831.csv')\n",
    "\n",
    "df_tweaked = (\n",
    "    pd.read_csv('../pxtextmining/datasets/v6framework_230831.csv')\n",
    "    .pipe(tweak_for_sentiment)\n",
    ")\n",
    "\n",
    "df_tweaked, test_df = train_test_split(\n",
    "    df_tweaked, test_size=0.15,\n",
    "    random_state=0,\n",
    "    stratify=df_tweaked['Comment sentiment']\n",
    ")\n",
    "\n",
    "df_trn, df_val = train_test_split(\n",
    "    df_tweaked,\n",
    "    stratify=df_tweaked['Comment sentiment'],\n",
    "    train_size=3/4,\n",
    "    shuffle=True, random_state=0\n",
    ")\n",
    "\n",
    "df_trn.sample(3)"
   ]
  },
  {
   "cell_type": "markdown",
   "metadata": {},
   "source": [
    "### Select the checkpoint to load"
   ]
  },
  {
   "cell_type": "code",
   "execution_count": 3,
   "metadata": {},
   "outputs": [
    {
     "name": "stdout",
     "output_type": "stream",
     "text": [
      "Using checkpoint: distilbert/distilbert-base-uncased\n"
     ]
    },
    {
     "data": {
      "text/plain": [
       "DistilBertForMaskedLM(\n",
       "  (activation): GELUActivation()\n",
       "  (distilbert): DistilBertModel(\n",
       "    (embeddings): Embeddings(\n",
       "      (word_embeddings): Embedding(30522, 768, padding_idx=0)\n",
       "      (position_embeddings): Embedding(512, 768)\n",
       "      (LayerNorm): LayerNorm((768,), eps=1e-12, elementwise_affine=True)\n",
       "      (dropout): Dropout(p=0.1, inplace=False)\n",
       "    )\n",
       "    (transformer): Transformer(\n",
       "      (layer): ModuleList(\n",
       "        (0-5): 6 x TransformerBlock(\n",
       "          (attention): DistilBertSdpaAttention(\n",
       "            (dropout): Dropout(p=0.1, inplace=False)\n",
       "            (q_lin): Linear(in_features=768, out_features=768, bias=True)\n",
       "            (k_lin): Linear(in_features=768, out_features=768, bias=True)\n",
       "            (v_lin): Linear(in_features=768, out_features=768, bias=True)\n",
       "            (out_lin): Linear(in_features=768, out_features=768, bias=True)\n",
       "          )\n",
       "          (sa_layer_norm): LayerNorm((768,), eps=1e-12, elementwise_affine=True)\n",
       "          (ffn): FFN(\n",
       "            (dropout): Dropout(p=0.1, inplace=False)\n",
       "            (lin1): Linear(in_features=768, out_features=3072, bias=True)\n",
       "            (lin2): Linear(in_features=3072, out_features=768, bias=True)\n",
       "            (activation): GELUActivation()\n",
       "          )\n",
       "          (output_layer_norm): LayerNorm((768,), eps=1e-12, elementwise_affine=True)\n",
       "        )\n",
       "      )\n",
       "    )\n",
       "  )\n",
       "  (vocab_transform): Linear(in_features=768, out_features=768, bias=True)\n",
       "  (vocab_layer_norm): LayerNorm((768,), eps=1e-12, elementwise_affine=True)\n",
       "  (vocab_projector): Linear(in_features=768, out_features=30522, bias=True)\n",
       "  (mlm_loss_fct): CrossEntropyLoss()\n",
       ")"
      ]
     },
     "execution_count": 3,
     "metadata": {},
     "output_type": "execute_result"
    }
   ],
   "source": [
    "from transformers import AutoModelForMaskedLM, AutoTokenizer\n",
    "\n",
    "# sentiment_checkpoint = 'distilbert/distilbert-base-uncased-finetuned-sst-2-english'\n",
    "mlm_checkpoint = 'distilbert/distilbert-base-uncased'\n",
    "tinybert_checkpoint = 'huawei-noah/TinyBERT_General_4L_312D'\n",
    "\n",
    "use_checkpoint = tinybert_checkpoint\n",
    "use_checkpoint = mlm_checkpoint\n",
    "print('Using checkpoint:', use_checkpoint)\n",
    "\n",
    "model =  AutoModelForMaskedLM.from_pretrained(use_checkpoint, trust_remote_code=True)\n",
    "tokenizer = AutoTokenizer.from_pretrained(use_checkpoint)\n",
    "\n",
    "tokenizer.model_max_length = 512\n",
    "# tokenizer.clean_up_tokenization_spaces = False #consistent with distilbert/distilbert-base-uncased tokenizer\n",
    "\n",
    "model"
   ]
  },
  {
   "cell_type": "markdown",
   "metadata": {},
   "source": [
    "View tokenizer"
   ]
  },
  {
   "cell_type": "code",
   "execution_count": 4,
   "metadata": {},
   "outputs": [
    {
     "data": {
      "text/plain": [
       "DistilBertTokenizerFast(name_or_path='distilbert/distilbert-base-uncased', vocab_size=30522, model_max_length=512, is_fast=True, padding_side='right', truncation_side='right', special_tokens={'unk_token': '[UNK]', 'sep_token': '[SEP]', 'pad_token': '[PAD]', 'cls_token': '[CLS]', 'mask_token': '[MASK]'}, clean_up_tokenization_spaces=False, added_tokens_decoder={\n",
       "\t0: AddedToken(\"[PAD]\", rstrip=False, lstrip=False, single_word=False, normalized=False, special=True),\n",
       "\t100: AddedToken(\"[UNK]\", rstrip=False, lstrip=False, single_word=False, normalized=False, special=True),\n",
       "\t101: AddedToken(\"[CLS]\", rstrip=False, lstrip=False, single_word=False, normalized=False, special=True),\n",
       "\t102: AddedToken(\"[SEP]\", rstrip=False, lstrip=False, single_word=False, normalized=False, special=True),\n",
       "\t103: AddedToken(\"[MASK]\", rstrip=False, lstrip=False, single_word=False, normalized=False, special=True),\n",
       "}\n",
       ")"
      ]
     },
     "execution_count": 4,
     "metadata": {},
     "output_type": "execute_result"
    }
   ],
   "source": [
    "tokenizer"
   ]
  },
  {
   "cell_type": "markdown",
   "metadata": {},
   "source": [
    "Fill in an example sentence"
   ]
  },
  {
   "cell_type": "code",
   "execution_count": 5,
   "metadata": {},
   "outputs": [
    {
     "name": "stdout",
     "output_type": "stream",
     "text": [
      "{'input_ids': [101, 1996, 103, 2001, 3147, 102], 'attention_mask': [1, 1, 1, 1, 1, 1]}\n",
      "\n",
      "[CLS] the [MASK] was cold [SEP]\n",
      "\n",
      "{'input_ids': tensor([[ 101, 1996,  103, 2001, 3147,  102]]), 'attention_mask': tensor([[1, 1, 1, 1, 1, 1]])}\n",
      "\n",
      "MaskedLMOutput(loss=None, logits=tensor([[[ -5.5886,  -5.5811,  -5.5763,  ...,  -4.9619,  -4.8299,  -3.0580],\n",
      "         [-15.0786, -15.1999, -15.0834,  ..., -13.1821, -11.8501, -11.2158],\n",
      "         [ -5.6517,  -5.7405,  -5.7987,  ...,  -5.4800,  -4.4782,  -4.6571],\n",
      "         [-12.7112, -12.6784, -12.6203,  ..., -10.8049,  -9.3009,  -7.6531],\n",
      "         [-11.3139, -11.5376, -11.4567,  ...,  -9.6254,  -9.5503,  -6.6081],\n",
      "         [-12.4100, -12.3427, -12.3400,  ..., -10.4338, -10.4375,  -8.8083]]],\n",
      "       grad_fn=<ViewBackward0>), hidden_states=None, attentions=None)\n",
      "\n",
      "logits shape: torch.Size([1, 6, 30522])\n",
      "\n",
      "tensor([2])\n",
      "\n",
      "mask token logits shape: torch.Size([30522])\n",
      "\n",
      "tensor([4633, 2154, 2305, 2250, 4785, 3467, 3712, 3612])\n",
      "The weather was cold\n",
      "The day was cold\n",
      "The night was cold\n",
      "The air was cold\n",
      "The climate was cold\n",
      "The winter was cold\n",
      "The sky was cold\n",
      "The wind was cold\n"
     ]
    }
   ],
   "source": [
    "text = 'The [MASK] was cold'\n",
    "\n",
    "inputs = tokenizer(text)\n",
    "print(inputs, end='\\n\\n')\n",
    "\n",
    "print(tokenizer.decode(inputs['input_ids']), end='\\n\\n')\n",
    "\n",
    "inputs_pt = tokenizer(text, return_tensors='pt')\n",
    "print(inputs_pt, end='\\n\\n')\n",
    "\n",
    "output = model(**inputs_pt)\n",
    "print(output, end='\\n\\n')\n",
    "\n",
    "token_logits = output['logits']\n",
    "print('logits shape:', token_logits.shape, end='\\n\\n')\n",
    "\n",
    "#Find the location of [MASK] and extract its logits\n",
    "mask_token_index = torch.where(inputs_pt['input_ids'] == tokenizer.mask_token_id)[1] #returns (samp idx, token position)\n",
    "print(mask_token_index, end='\\n\\n')\n",
    "\n",
    "mask_token_logits = token_logits[0, mask_token_index, :].ravel()\n",
    "print('mask token logits shape:', mask_token_logits.shape, end='\\n\\n')\n",
    "\n",
    "#Pick the vocab candidates for this [MASK] token\n",
    "top_k_tokens = torch.topk(mask_token_logits, k=8).indices\n",
    "print(top_k_tokens)\n",
    "\n",
    "for token_id in top_k_tokens:\n",
    "    print(text.replace(tokenizer.mask_token, tokenizer.decode(token_id)))"
   ]
  },
  {
   "cell_type": "markdown",
   "metadata": {},
   "source": [
    "### Dataset"
   ]
  },
  {
   "cell_type": "markdown",
   "metadata": {},
   "source": [
    "What is the distribution of tokenized lengths?\n",
    "\n",
    "Median (10 tokens) and 95th percentiles (53 tokens) are $<<$ model's context window (512 distilbert)"
   ]
  },
  {
   "cell_type": "code",
   "execution_count": 6,
   "metadata": {},
   "outputs": [
    {
     "name": "stderr",
     "output_type": "stream",
     "text": [
      "Token indices sequence length is longer than the specified maximum sequence length for this model (846 > 512). Running this sequence through the model will result in indexing errors\n"
     ]
    },
    {
     "data": {
      "text/plain": [
       "count    3929.000000\n",
       "mean       19.576737\n",
       "std        26.703848\n",
       "min         3.000000\n",
       "5%          4.000000\n",
       "25%         7.000000\n",
       "50%        13.000000\n",
       "75%        23.000000\n",
       "95%        56.000000\n",
       "max       846.000000\n",
       "Name: answer_clean, dtype: float64"
      ]
     },
     "metadata": {},
     "output_type": "display_data"
    },
    {
     "data": {
      "image/png": "[encoded data removed]",
      "text/plain": [
       "<Figure size 800x300 with 1 Axes>"
      ]
     },
     "metadata": {},
     "output_type": "display_data"
    }
   ],
   "source": [
    "(\n",
    "    df_trn.answer_clean\n",
    "    .apply(lambda txt: len(tokenizer(txt)['input_ids']))\n",
    "    .pipe(\n",
    "        lambda ser_:\n",
    "        display(ser_.describe(percentiles=[0.05, 0.25, 0.5, 0.75, 0.95])) or ser_\n",
    "    )\n",
    "    .hist(bins=200, grid=False, color='green', alpha=0.8)\n",
    ")\n",
    "plt.xlim(0, 150)\n",
    "plt.gcf().set_size_inches(8, 3)\n",
    "plt.xlabel('number of tokens')\n",
    "plt.title(f'Distribution of tokenized lens\\nmodel_max_length: {tokenizer.model_max_length}')\n",
    "plt.gca().spines[['bottom', 'right', 'top']].set_visible(False)"
   ]
  },
  {
   "cell_type": "code",
   "execution_count": 7,
   "metadata": {},
   "outputs": [
    {
     "data": {
      "text/plain": [
       "DatasetDict({\n",
       "    train: Dataset({\n",
       "        features: ['index', 'answer_clean'],\n",
       "        num_rows: 3929\n",
       "    })\n",
       "    val: Dataset({\n",
       "        features: ['index', 'answer_clean'],\n",
       "        num_rows: 1310\n",
       "    })\n",
       "})"
      ]
     },
     "metadata": {},
     "output_type": "display_data"
    }
   ],
   "source": [
    "from datasets import Dataset, DatasetDict\n",
    "\n",
    "dataset = DatasetDict({\n",
    "    'train': Dataset.from_dict(df_trn[['answer_clean']].reset_index(names='index')),\n",
    "    'val': Dataset.from_dict(df_val[['answer_clean']].reset_index(names='index'))\n",
    "})\n",
    "display(dataset)"
   ]
  },
  {
   "cell_type": "markdown",
   "metadata": {},
   "source": [
    "### Prepare data for MLM"
   ]
  },
  {
   "cell_type": "markdown",
   "metadata": {},
   "source": [
    "Tokenize without special tokens\n",
    "\n",
    "String them together with [SEP] between samples\n",
    "\n",
    "Chunk into 512, enforcing it starts/ends with [CLS]/[SEP]\n",
    "\n",
    "Define labels=copy of input tokens"
   ]
  },
  {
   "cell_type": "code",
   "execution_count": 8,
   "metadata": {},
   "outputs": [
    {
     "data": {
      "application/vnd.jupyter.widget-view+json": {
       "model_id": "7d2eec4937844874b70976d5d733502a",
       "version_major": 2,
       "version_minor": 0
      },
      "text/plain": [
       "Map:   0%|          | 0/3929 [00:00<?, ? examples/s]"
      ]
     },
     "metadata": {},
     "output_type": "display_data"
    },
    {
     "data": {
      "application/vnd.jupyter.widget-view+json": {
       "model_id": "26929332f3d14e47b856943facf1e914",
       "version_major": 2,
       "version_minor": 0
      },
      "text/plain": [
       "Map:   0%|          | 0/1310 [00:00<?, ? examples/s]"
      ]
     },
     "metadata": {},
     "output_type": "display_data"
    },
    {
     "data": {
      "application/vnd.jupyter.widget-view+json": {
       "model_id": "736a8e9ef23346c2a70b59bfe9222a85",
       "version_major": 2,
       "version_minor": 0
      },
      "text/plain": [
       "Map:   0%|          | 0/143 [00:00<?, ? examples/s]"
      ]
     },
     "metadata": {},
     "output_type": "display_data"
    },
    {
     "data": {
      "application/vnd.jupyter.widget-view+json": {
       "model_id": "bee82c9b833e4a679b49f74bad33db1f",
       "version_major": 2,
       "version_minor": 0
      },
      "text/plain": [
       "Map:   0%|          | 0/49 [00:00<?, ? examples/s]"
      ]
     },
     "metadata": {},
     "output_type": "display_data"
    }
   ],
   "source": [
    "#These will include the last irregular chunk\n",
    "def concat_and_chunk(dataset, tokenizer):\n",
    "    chunk_size = tokenizer.model_max_length\n",
    "\n",
    "    cls_token_id, sep_token_id = [\n",
    "        tokenizer.convert_tokens_to_ids(tokenizer.special_tokens_map[token])\n",
    "        for token in ['cls_token', 'sep_token',]\n",
    "    ]\n",
    "    pad_token_id = tokenizer.pad_token_type_id\n",
    "\n",
    "    dataset = dataset.to_dict() #same as dataset[:] ie returns dict (aot Dataset)\n",
    "\n",
    "    #Mark each end-of-record before stringing the corpus together\n",
    "    # BERT doesn't have eos_token_id. All BERT seq start with CLS. Will use SEP btw samples. And end for compat.\n",
    "    \n",
    "    #tids0 [SEP] tids1 [SEP] ... tidsN [SEP]\n",
    "    dataset['input_ids'] = [\n",
    "        ids + [sep_token_id]\n",
    "        for ids in dataset['input_ids']\n",
    "    ]\n",
    "    dataset['attention_mask'] = [\n",
    "        attn_mask + [1]\n",
    "        for attn_mask in dataset['attention_mask']\n",
    "    ]\n",
    "    \n",
    "    #Concatenate\n",
    "    concatenated = {\n",
    "        k: sum(list_per_sample, []) for k, list_per_sample in dataset.items()\n",
    "    }\n",
    "\n",
    "    #Chunk\n",
    "    # This will include the final irregular chunk\n",
    "    concat_length = len(concatenated['input_ids'])\n",
    "    chunked = {\n",
    "        k: [ v[ix : ix + chunk_size] for ix in range(0, concat_length, chunk_size) ]\n",
    "        for k, v in concatenated.items()\n",
    "    }\n",
    "\n",
    "    #Enforce that first/last token of each 512 input_id chunk are [CLS]/[SEP]\n",
    "    # each chunk will become->   [CLS]  chunk_i[:-2]  [SEP]\n",
    "    # extra detail of using [PAD] in cases where [3rd from last] [SEP] would result in [SEP] [SEP]\n",
    "    chunked['input_ids'] = [\n",
    "        [cls_token_id] + ids_chunk[:-2] + ([sep_token_id] if ids_chunk[-3] != sep_token_id else [pad_token_id])\n",
    "        for ids_chunk in chunked['input_ids']\n",
    "    ]\n",
    "\n",
    "    #right-pad the tail to chunk_size\n",
    "    # use pad_token_id for input_ids padding, and 0 for padding attention_mask\n",
    "    padding_len = chunk_size - len(chunked['input_ids'][-1])\n",
    "\n",
    "    if padding_len:\n",
    "        for k in concatenated.keys():\n",
    "            chunked[k][-1] = chunked[k][-1] + padding_len * [pad_token_id if k=='input_ids' else 0]\n",
    "\n",
    "    return Dataset.from_dict(chunked)\n",
    "\n",
    "#Tokenize and retain only input_ids and attention_mask\n",
    "# Skip special tokens as they'll be handled on concatenation & chunking\n",
    "tokenized = dataset.map(\n",
    "    lambda batch: tokenizer(batch['answer_clean'], truncation=False, add_special_tokens=False),\n",
    "    batched=True,\n",
    "    remove_columns=['answer_clean', 'index']\n",
    ")\n",
    "\n",
    "chunked = DatasetDict({\n",
    "    'train': concat_and_chunk(tokenized['train'], tokenizer),\n",
    "    'val': concat_and_chunk(tokenized['val'], tokenizer)\n",
    "})\n",
    "\n",
    "#Assign labels\n",
    "chunked = chunked.map(lambda dataset: {'labels': dataset['input_ids'].copy()})\n",
    "\n",
    "if 'tinybert' in use_checkpoint.lower():\n",
    "    chunked = chunked.remove_columns('token_type_ids') #tb adds this, remove"
   ]
  },
  {
   "cell_type": "markdown",
   "metadata": {},
   "source": [
    "### Fine-tuning"
   ]
  },
  {
   "cell_type": "markdown",
   "metadata": {},
   "source": [
    "Instantiate collator"
   ]
  },
  {
   "cell_type": "code",
   "execution_count": 9,
   "metadata": {},
   "outputs": [],
   "source": [
    "from transformers import DataCollatorForLanguageModeling\n",
    "\n",
    "#Lanuage modelling collator\n",
    "# Expects list of dict [{sample1}, ..., {sampleN}]\n",
    "mlm_collator = DataCollatorForLanguageModeling(\n",
    "    tokenizer=tokenizer,\n",
    "    mlm_probability=0.15,\n",
    "    return_tensors='pt'\n",
    ")"
   ]
  },
  {
   "cell_type": "markdown",
   "metadata": {},
   "source": [
    "Try collator"
   ]
  },
  {
   "cell_type": "code",
   "execution_count": 10,
   "metadata": {},
   "outputs": [
    {
     "data": {
      "text/plain": [
       "dict_keys(['input_ids', 'attention_mask', 'labels'])"
      ]
     },
     "metadata": {},
     "output_type": "display_data"
    },
    {
     "data": {
      "text/plain": [
       "torch.Size([2, 512])"
      ]
     },
     "metadata": {},
     "output_type": "display_data"
    },
    {
     "data": {
      "text/plain": [
       "'[CLS] made me comfortable and [MASK] ease. [SEP] [MASK] honest. [SEP] absolutely everything. [SEP] nothing. [SEP] [MASK] the ward is too noisy. sometimes my routine changes and i find [MASK] hared to deal with. [SEP] the care staff, the nursing staff and the domestic staff. food, cleanliness 7 [MASK] ( mon - fri ) [MASK] [SEP] kind and very [MASK]fecional made me feel at ease [SEP] compromise, stop constantlyoshi [MASK] [SEP] ambulance staff very good, [MASK], friendly approach [MASK]. [SEP] healed my [MASK] ulcer, helped me get antibiotics. nothing was too much trouble. [SEP] food. [SEP] [MASK]. [SEP] nuffin, things are fine as they are. [SEP] nothing. [SEP] because i cannot use public transport due to disability and because i was asked to [MASK] this survey. [SEP] the [MASK]naire i receive every week can be modified a bit [MASK] [SEP] very helpful [SEP] [MASK] [MASK] could be up to 1 hour 30 mins arrived less than 30 minutes [SEP] nothing, doing everything you can instructions [SEP] general experience cubic ( form [MASK] [MASK] on several years experience of ambulance [MASK]. my worst experience was an unann [MASK]ced call at 3. 20 am [MASK] the team ( i think 1 man and one woman ) rang the bell [MASK]雄 in - fortunately i [MASK] working late. [MASK] was [MASK] at the hospital ( darlington memorial ) until 9. 30 [MASK]. i was and still [MASK] incensed [MASK] this. i have had neither explanation [MASK] apology. [MASK] years ago i was taken by [MASK] ambulance to james cook after an accident. ) [SEP] i waited 4 hrs from the [MASK] centre but with [MASK]vid restrictions only i [MASK] per vehicle. [SEP] [MASK] [MASK] were polite, pleasant and very helpful. [SEP] was excellent [SEP] [MASK], because it helped me to [MASK] safely. [SEP] resonded quickly and were very patient [SEP] nothingthank you [SEP] it [MASK] a modern approach to care remix minimises stress cause to patients about their care. staff are attentive and genuinely here because they [MASK]. [SEP] we [MASK] more [MASK] satisfied with the service [MASK] [SEP] more [MASK], underdores and on way out. celebrations [MASK] [SEP] they were [MASK] and a godsend when it was needed. [SEP] sort out tec side of things. not able [MASK] speak to nurses as too busy. [SEP] worried about waiting time. [MASK] case condition deteriorated. waited about 20 mins. [SEP] advice given by human being [MASK] accurate and timely. [SEP] [MASK] attendents are always very [MASK], pleasant and will go the extra mile to leaned. [SEP] being able to discus items with someone, seek [SEP]'"
      ]
     },
     "metadata": {},
     "output_type": "display_data"
    },
    {
     "data": {
      "text/plain": [
       "'[PAD] [PAD] [PAD] [PAD] [PAD] at [PAD] [PAD] [PAD] being [PAD] [PAD] [PAD] [PAD] [PAD] [PAD] [PAD] [PAD] [PAD] [PAD] sometimes [PAD] [PAD] [PAD] [PAD] [PAD] [PAD] [PAD] [PAD] [PAD] [PAD] [PAD] [PAD] [PAD] it [PAD] [PAD] [PAD] [PAD] [PAD] [PAD] [PAD] [PAD] [PAD] [PAD] [PAD] [PAD] [PAD] [PAD] [PAD] [PAD] [PAD] [PAD] [PAD] [PAD] [PAD] [PAD] [PAD] [PAD] activities [PAD] [PAD] [PAD] [PAD] [PAD] [PAD]. [PAD] [PAD] [PAD] [PAD] prof [PAD] [PAD] [PAD] [PAD] [PAD] feel [PAD] [PAD] [PAD] [PAD] [PAD] [PAD] [PAD] being. [PAD] [PAD] [PAD] [PAD] [PAD] [PAD] reassuring [PAD] [PAD] [PAD]able [PAD] [PAD] [PAD] [PAD] leg [PAD] [PAD] [PAD] [PAD] [PAD] [PAD] [PAD] [PAD] [PAD] [PAD] [PAD] [PAD] [PAD] [PAD] [PAD] [PAD] [PAD] [PAD] nothing [PAD] [PAD] [PAD] [PAD] [PAD] [PAD] [PAD] [PAD] [PAD] [PAD] [PAD] [PAD] [PAD] [PAD] [PAD] [PAD] [PAD] [PAD] [PAD] [PAD] [PAD] [PAD] [PAD] [PAD] [PAD] and [PAD] [PAD] [PAD] [PAD] [PAD] fill [PAD] [PAD] [PAD] [PAD] [PAD] question [PAD] [PAD] [PAD] every [PAD] [PAD] [PAD] [PAD] [PAD] [PAD]. [PAD] [PAD] [PAD] [PAD] was told [PAD] [PAD] [PAD] [PAD] [PAD] [PAD] [PAD] [PAD] [PAD] [PAD] [PAD] [PAD] [PAD] [PAD] [PAD] [PAD] [PAD] [PAD] [PAD] [PAD] [PAD]. [PAD] [PAD] [PAD]. [PAD] [PAD] completed based [PAD] [PAD] [PAD] [PAD] [PAD] [PAD] calls [PAD] [PAD] [PAD] [PAD] [PAD] [PAD] [PAD] [PAD]oun [PAD] [PAD] [PAD] [PAD] [PAD] [PAD] [PAD]. [PAD] [PAD] [PAD] [PAD] [PAD] [PAD] [PAD] [PAD] [PAD] [PAD] [PAD] [PAD] [PAD] [PAD] and walked [PAD] [PAD] [PAD] [PAD] was [PAD] [PAD] [PAD] nothing [PAD] done [PAD] [PAD] [PAD] [PAD] darlington [PAD] [PAD] [PAD] [PAD]. [PAD] am [PAD] [PAD] [PAD] [PAD] [PAD] am [PAD] [PAD] by [PAD] [PAD] [PAD] [PAD] [PAD] [PAD] [PAD] or [PAD] [PAD] 4 [PAD] [PAD] [PAD] [PAD] [PAD] [PAD] air [PAD] [PAD] [PAD] [PAD] [PAD] [PAD] [PAD] [PAD] [PAD] [PAD] [PAD] [PAD] [PAD] [PAD] [PAD] [PAD] [PAD] discharge [PAD] [PAD] [PAD] co [PAD] [PAD] [PAD] [PAD] person [PAD] [PAD] [PAD] [PAD] the drivers [PAD] [PAD] [PAD] [PAD] [PAD] [PAD] [PAD] [PAD] [PAD] [PAD] [PAD] [PAD] everything [PAD] [PAD] [PAD] [PAD] [PAD] [PAD] walk [PAD] [PAD] [PAD] [PAD] [PAD] [PAD] [PAD] [PAD] [PAD] [PAD] [PAD] [PAD] [PAD] [PAD] [PAD] [PAD] [PAD] [PAD] is [PAD] [PAD] [PAD] [PAD] [PAD], [PAD] [PAD] [PAD] [PAD] [PAD] [PAD] [PAD] [PAD] [PAD] [PAD] [PAD] [PAD] [PAD] [PAD] [PAD] [PAD] [PAD] [PAD] [PAD] [PAD] [PAD] care [PAD] [PAD] we were [PAD] than [PAD] [PAD] [PAD] [PAD]. [PAD] [PAD] information [PAD] [PAD] [PAD] [PAD] [PAD] [PAD] [PAD] [PAD] [PAD] tv. [PAD] [PAD] [PAD] reliable [PAD] [PAD] [PAD] [PAD] [PAD] [PAD] [PAD] [PAD] [PAD] [PAD] [PAD] [PAD] [PAD] [PAD] [PAD] [PAD] [PAD] [PAD] [PAD] [PAD] to [PAD] [PAD] [PAD] [PAD] [PAD] [PAD] [PAD] [PAD] [PAD] [PAD] [PAD] [PAD] [PAD] in [PAD] [PAD] [PAD] [PAD] [PAD] [PAD] [PAD] [PAD] [PAD] [PAD] [PAD] [PAD] [PAD] by [PAD] [PAD] was [PAD] [PAD] [PAD] [PAD] [PAD] all [PAD] [PAD] [PAD] [PAD] [PAD] good [PAD] [PAD] [PAD] [PAD] [PAD] [PAD] [PAD] [PAD] [PAD] help [PAD] [PAD] [PAD] [PAD] [PAD] [PAD] [PAD] with [PAD] [PAD] [PAD] [PAD]'"
      ]
     },
     "metadata": {},
     "output_type": "display_data"
    }
   ],
   "source": [
    "samples = [chunked['train'][i] for i in range(2)]\n",
    "# display(samples)\n",
    "\n",
    "collated_batch = mlm_collator(samples)\n",
    "\n",
    "display( collated_batch.keys() )\n",
    "display( collated_batch['input_ids'].shape )\n",
    "\n",
    "#What a masked sample looks like:\n",
    "display(\n",
    "    tokenizer.decode( collated_batch['input_ids'][0])\n",
    ")\n",
    "\n",
    "#What the corresponding labels look like\n",
    "coll_labels = collated_batch['labels'][0]\n",
    "coll_labels[coll_labels==-100] = tokenizer.pad_token_type_id\n",
    "display( tokenizer.decode(coll_labels) )\n",
    "\n",
    "#NB. It masks tokens (parts of words) and not necessarily an entire word\n",
    "# tokenizer.convert_ids_to_tokens(collated_batch['input_ids'][0])"
   ]
  },
  {
   "cell_type": "markdown",
   "metadata": {},
   "source": [
    "Training loop\n",
    "\n",
    "- bs 16\n",
    "- 80 epochs"
   ]
  },
  {
   "cell_type": "code",
   "execution_count": 11,
   "metadata": {},
   "outputs": [
    {
     "name": "stdout",
     "output_type": "stream",
     "text": [
      "Steps per epoch: 9\n",
      "Total training steps: 720\n"
     ]
    },
    {
     "name": "stderr",
     "output_type": "stream",
     "text": [
      "Device set to use cuda:0\n"
     ]
    },
    {
     "name": "stdout",
     "output_type": "stream",
     "text": [
      "`````````````````````baseline distilbert/distilbert-base-uncased`````````````````````\n",
      "base model: loss 3.882 | perplexity 48.5\n",
      "\n",
      "the [MASK] took a while\n"
     ]
    },
    {
     "data": {
      "text/html": [
       "<div>\n",
       "<style scoped>\n",
       "    .dataframe tbody tr th:only-of-type {\n",
       "        vertical-align: middle;\n",
       "    }\n",
       "\n",
       "    .dataframe tbody tr th {\n",
       "        vertical-align: top;\n",
       "    }\n",
       "\n",
       "    .dataframe thead th {\n",
       "        text-align: right;\n",
       "    }\n",
       "</style>\n",
       "<table border=\"1\" class=\"dataframe\">\n",
       "  <thead>\n",
       "    <tr style=\"text-align: right;\">\n",
       "      <th>top k</th>\n",
       "      <th>0</th>\n",
       "      <th>1</th>\n",
       "      <th>2</th>\n",
       "      <th>3</th>\n",
       "      <th>4</th>\n",
       "      <th>5</th>\n",
       "      <th>6</th>\n",
       "      <th>7</th>\n",
       "    </tr>\n",
       "  </thead>\n",
       "  <tbody>\n",
       "    <tr>\n",
       "      <th>base</th>\n",
       "      <td>movie</td>\n",
       "      <td>story</td>\n",
       "      <td>film</td>\n",
       "      <td>conversation</td>\n",
       "      <td>project</td>\n",
       "      <td>painting</td>\n",
       "      <td>game</td>\n",
       "      <td>filming</td>\n",
       "    </tr>\n",
       "  </tbody>\n",
       "</table>\n",
       "</div>"
      ],
      "text/plain": [
       "top k      0      1     2             3        4         5     6        7\n",
       "base   movie  story  film  conversation  project  painting  game  filming"
      ]
     },
     "metadata": {},
     "output_type": "display_data"
    },
    {
     "data": {
      "application/vnd.jupyter.widget-view+json": {
       "model_id": "f701b4ce2ea24e969a341b826b6f800b",
       "version_major": 2,
       "version_minor": 0
      },
      "text/plain": [
       "training steps:   0%|          | 0/720 [00:00<?, ?minibatch/s]"
      ]
     },
     "metadata": {},
     "output_type": "display_data"
    },
    {
     "name": "stderr",
     "output_type": "stream",
     "text": [
      "Device set to use cuda:0\n"
     ]
    },
    {
     "name": "stdout",
     "output_type": "stream",
     "text": [
      "[epoch  1/80] [TRN loss: 3.646 | perp  38.3] [VAL loss: 3.779 | perp  43.8]\n"
     ]
    },
    {
     "name": "stderr",
     "output_type": "stream",
     "text": [
      "Device set to use cuda:0\n"
     ]
    },
    {
     "name": "stdout",
     "output_type": "stream",
     "text": [
      "[epoch  2/80] [TRN loss: 3.262 | perp  26.1] [VAL loss: 3.149 | perp  23.3]\n"
     ]
    },
    {
     "name": "stderr",
     "output_type": "stream",
     "text": [
      "Device set to use cuda:0\n"
     ]
    },
    {
     "name": "stdout",
     "output_type": "stream",
     "text": [
      "[epoch  3/80] [TRN loss: 3.021 | perp  20.5] [VAL loss: 2.620 | perp  13.7]\n"
     ]
    },
    {
     "name": "stderr",
     "output_type": "stream",
     "text": [
      "Device set to use cuda:0\n"
     ]
    },
    {
     "name": "stdout",
     "output_type": "stream",
     "text": [
      "[epoch  4/80] [TRN loss: 2.934 | perp  18.8] [VAL loss: 3.008 | perp  20.2]\n"
     ]
    },
    {
     "name": "stderr",
     "output_type": "stream",
     "text": [
      "Device set to use cuda:0\n"
     ]
    },
    {
     "name": "stdout",
     "output_type": "stream",
     "text": [
      "[epoch  5/80] [TRN loss: 2.864 | perp  17.5] [VAL loss: 2.541 | perp  12.7]\n"
     ]
    },
    {
     "name": "stderr",
     "output_type": "stream",
     "text": [
      "Device set to use cuda:0\n"
     ]
    },
    {
     "name": "stdout",
     "output_type": "stream",
     "text": [
      "[epoch  6/80] [TRN loss: 2.778 | perp  16.1] [VAL loss: 2.625 | perp  13.8]\n"
     ]
    },
    {
     "name": "stderr",
     "output_type": "stream",
     "text": [
      "Device set to use cuda:0\n"
     ]
    },
    {
     "name": "stdout",
     "output_type": "stream",
     "text": [
      "[epoch  7/80] [TRN loss: 2.675 | perp  14.5] [VAL loss: 2.673 | perp  14.5]\n"
     ]
    },
    {
     "name": "stderr",
     "output_type": "stream",
     "text": [
      "Device set to use cuda:0\n"
     ]
    },
    {
     "name": "stdout",
     "output_type": "stream",
     "text": [
      "[epoch  8/80] [TRN loss: 2.600 | perp  13.5] [VAL loss: 2.894 | perp  18.1]\n"
     ]
    },
    {
     "name": "stderr",
     "output_type": "stream",
     "text": [
      "Device set to use cuda:0\n"
     ]
    },
    {
     "name": "stdout",
     "output_type": "stream",
     "text": [
      "[epoch  9/80] [TRN loss: 2.626 | perp  13.8] [VAL loss: 2.775 | perp  16.0]\n"
     ]
    },
    {
     "name": "stderr",
     "output_type": "stream",
     "text": [
      "Device set to use cuda:0\n"
     ]
    },
    {
     "name": "stdout",
     "output_type": "stream",
     "text": [
      "[epoch 10/80] [TRN loss: 2.549 | perp  12.8] [VAL loss: 2.396 | perp  11.0]\n"
     ]
    },
    {
     "name": "stderr",
     "output_type": "stream",
     "text": [
      "Device set to use cuda:0\n"
     ]
    },
    {
     "name": "stdout",
     "output_type": "stream",
     "text": [
      "[epoch 11/80] [TRN loss: 2.461 | perp  11.7] [VAL loss: 2.533 | perp  12.6]\n"
     ]
    },
    {
     "name": "stderr",
     "output_type": "stream",
     "text": [
      "Device set to use cuda:0\n"
     ]
    },
    {
     "name": "stdout",
     "output_type": "stream",
     "text": [
      "[epoch 12/80] [TRN loss: 2.426 | perp  11.3] [VAL loss: 2.683 | perp  14.6]\n"
     ]
    },
    {
     "name": "stderr",
     "output_type": "stream",
     "text": [
      "Device set to use cuda:0\n"
     ]
    },
    {
     "name": "stdout",
     "output_type": "stream",
     "text": [
      "[epoch 13/80] [TRN loss: 2.349 | perp  10.5] [VAL loss: 2.474 | perp  11.9]\n"
     ]
    },
    {
     "name": "stderr",
     "output_type": "stream",
     "text": [
      "Device set to use cuda:0\n"
     ]
    },
    {
     "name": "stdout",
     "output_type": "stream",
     "text": [
      "[epoch 14/80] [TRN loss: 2.370 | perp  10.7] [VAL loss: 2.403 | perp  11.1]\n"
     ]
    },
    {
     "name": "stderr",
     "output_type": "stream",
     "text": [
      "Device set to use cuda:0\n"
     ]
    },
    {
     "name": "stdout",
     "output_type": "stream",
     "text": [
      "[epoch 15/80] [TRN loss: 2.319 | perp  10.2] [VAL loss: 2.308 | perp  10.1]\n"
     ]
    },
    {
     "name": "stderr",
     "output_type": "stream",
     "text": [
      "Device set to use cuda:0\n"
     ]
    },
    {
     "name": "stdout",
     "output_type": "stream",
     "text": [
      "[epoch 16/80] [TRN loss: 2.320 | perp  10.2] [VAL loss: 2.859 | perp  17.4]\n"
     ]
    },
    {
     "name": "stderr",
     "output_type": "stream",
     "text": [
      "Device set to use cuda:0\n"
     ]
    },
    {
     "name": "stdout",
     "output_type": "stream",
     "text": [
      "[epoch 17/80] [TRN loss: 2.241 | perp   9.4] [VAL loss: 2.603 | perp  13.5]\n"
     ]
    },
    {
     "name": "stderr",
     "output_type": "stream",
     "text": [
      "Device set to use cuda:0\n"
     ]
    },
    {
     "name": "stdout",
     "output_type": "stream",
     "text": [
      "[epoch 18/80] [TRN loss: 2.260 | perp   9.6] [VAL loss: 2.567 | perp  13.0]\n"
     ]
    },
    {
     "name": "stderr",
     "output_type": "stream",
     "text": [
      "Device set to use cuda:0\n"
     ]
    },
    {
     "name": "stdout",
     "output_type": "stream",
     "text": [
      "[epoch 19/80] [TRN loss: 2.187 | perp   8.9] [VAL loss: 2.314 | perp  10.1]\n"
     ]
    },
    {
     "name": "stderr",
     "output_type": "stream",
     "text": [
      "Device set to use cuda:0\n"
     ]
    },
    {
     "name": "stdout",
     "output_type": "stream",
     "text": [
      "[epoch 20/80] [TRN loss: 2.144 | perp   8.5] [VAL loss: 2.559 | perp  12.9]\n"
     ]
    },
    {
     "name": "stderr",
     "output_type": "stream",
     "text": [
      "Device set to use cuda:0\n"
     ]
    },
    {
     "name": "stdout",
     "output_type": "stream",
     "text": [
      "[epoch 21/80] [TRN loss: 2.140 | perp   8.5] [VAL loss: 2.677 | perp  14.5]\n"
     ]
    },
    {
     "name": "stderr",
     "output_type": "stream",
     "text": [
      "Device set to use cuda:0\n"
     ]
    },
    {
     "name": "stdout",
     "output_type": "stream",
     "text": [
      "[epoch 22/80] [TRN loss: 2.109 | perp   8.2] [VAL loss: 2.555 | perp  12.9]\n"
     ]
    },
    {
     "name": "stderr",
     "output_type": "stream",
     "text": [
      "Device set to use cuda:0\n"
     ]
    },
    {
     "name": "stdout",
     "output_type": "stream",
     "text": [
      "[epoch 23/80] [TRN loss: 2.114 | perp   8.3] [VAL loss: 2.465 | perp  11.8]\n"
     ]
    },
    {
     "name": "stderr",
     "output_type": "stream",
     "text": [
      "Device set to use cuda:0\n"
     ]
    },
    {
     "name": "stdout",
     "output_type": "stream",
     "text": [
      "[epoch 24/80] [TRN loss: 2.080 | perp   8.0] [VAL loss: 2.778 | perp  16.1]\n"
     ]
    },
    {
     "name": "stderr",
     "output_type": "stream",
     "text": [
      "Device set to use cuda:0\n"
     ]
    },
    {
     "name": "stdout",
     "output_type": "stream",
     "text": [
      "[epoch 25/80] [TRN loss: 2.022 | perp   7.5] [VAL loss: 2.598 | perp  13.4]\n"
     ]
    },
    {
     "name": "stderr",
     "output_type": "stream",
     "text": [
      "Device set to use cuda:0\n"
     ]
    },
    {
     "name": "stdout",
     "output_type": "stream",
     "text": [
      "[epoch 26/80] [TRN loss: 2.020 | perp   7.5] [VAL loss: 2.689 | perp  14.7]\n"
     ]
    },
    {
     "name": "stderr",
     "output_type": "stream",
     "text": [
      "Device set to use cuda:0\n"
     ]
    },
    {
     "name": "stdout",
     "output_type": "stream",
     "text": [
      "[epoch 27/80] [TRN loss: 2.034 | perp   7.6] [VAL loss: 2.628 | perp  13.8]\n"
     ]
    },
    {
     "name": "stderr",
     "output_type": "stream",
     "text": [
      "Device set to use cuda:0\n"
     ]
    },
    {
     "name": "stdout",
     "output_type": "stream",
     "text": [
      "[epoch 28/80] [TRN loss: 1.974 | perp   7.2] [VAL loss: 2.497 | perp  12.2]\n"
     ]
    },
    {
     "name": "stderr",
     "output_type": "stream",
     "text": [
      "Device set to use cuda:0\n"
     ]
    },
    {
     "name": "stdout",
     "output_type": "stream",
     "text": [
      "[epoch 29/80] [TRN loss: 1.962 | perp   7.1] [VAL loss: 2.571 | perp  13.1]\n"
     ]
    },
    {
     "name": "stderr",
     "output_type": "stream",
     "text": [
      "Device set to use cuda:0\n"
     ]
    },
    {
     "name": "stdout",
     "output_type": "stream",
     "text": [
      "[epoch 30/80] [TRN loss: 1.958 | perp   7.1] [VAL loss: 2.189 | perp   8.9]\n"
     ]
    },
    {
     "name": "stderr",
     "output_type": "stream",
     "text": [
      "Device set to use cuda:0\n"
     ]
    },
    {
     "name": "stdout",
     "output_type": "stream",
     "text": [
      "[epoch 31/80] [TRN loss: 1.897 | perp   6.7] [VAL loss: 2.575 | perp  13.1]\n"
     ]
    },
    {
     "name": "stderr",
     "output_type": "stream",
     "text": [
      "Device set to use cuda:0\n"
     ]
    },
    {
     "name": "stdout",
     "output_type": "stream",
     "text": [
      "[epoch 32/80] [TRN loss: 1.927 | perp   6.9] [VAL loss: 2.854 | perp  17.4]\n"
     ]
    },
    {
     "name": "stderr",
     "output_type": "stream",
     "text": [
      "Device set to use cuda:0\n"
     ]
    },
    {
     "name": "stdout",
     "output_type": "stream",
     "text": [
      "[epoch 33/80] [TRN loss: 1.903 | perp   6.7] [VAL loss: 2.179 | perp   8.8]\n"
     ]
    },
    {
     "name": "stderr",
     "output_type": "stream",
     "text": [
      "Device set to use cuda:0\n"
     ]
    },
    {
     "name": "stdout",
     "output_type": "stream",
     "text": [
      "[epoch 34/80] [TRN loss: 1.868 | perp   6.5] [VAL loss: 2.363 | perp  10.6]\n"
     ]
    },
    {
     "name": "stderr",
     "output_type": "stream",
     "text": [
      "Device set to use cuda:0\n"
     ]
    },
    {
     "name": "stdout",
     "output_type": "stream",
     "text": [
      "[epoch 35/80] [TRN loss: 1.879 | perp   6.5] [VAL loss: 2.442 | perp  11.5]\n"
     ]
    },
    {
     "name": "stderr",
     "output_type": "stream",
     "text": [
      "Device set to use cuda:0\n"
     ]
    },
    {
     "name": "stdout",
     "output_type": "stream",
     "text": [
      "[epoch 36/80] [TRN loss: 1.820 | perp   6.2] [VAL loss: 2.426 | perp  11.3]\n"
     ]
    },
    {
     "name": "stderr",
     "output_type": "stream",
     "text": [
      "Device set to use cuda:0\n"
     ]
    },
    {
     "name": "stdout",
     "output_type": "stream",
     "text": [
      "[epoch 37/80] [TRN loss: 1.814 | perp   6.1] [VAL loss: 2.696 | perp  14.8]\n"
     ]
    },
    {
     "name": "stderr",
     "output_type": "stream",
     "text": [
      "Device set to use cuda:0\n"
     ]
    },
    {
     "name": "stdout",
     "output_type": "stream",
     "text": [
      "[epoch 38/80] [TRN loss: 1.837 | perp   6.3] [VAL loss: 2.619 | perp  13.7]\n"
     ]
    },
    {
     "name": "stderr",
     "output_type": "stream",
     "text": [
      "Device set to use cuda:0\n"
     ]
    },
    {
     "name": "stdout",
     "output_type": "stream",
     "text": [
      "[epoch 39/80] [TRN loss: 1.797 | perp   6.0] [VAL loss: 2.395 | perp  11.0]\n"
     ]
    },
    {
     "name": "stderr",
     "output_type": "stream",
     "text": [
      "Device set to use cuda:0\n"
     ]
    },
    {
     "name": "stdout",
     "output_type": "stream",
     "text": [
      "[epoch 40/80] [TRN loss: 1.802 | perp   6.1] [VAL loss: 2.513 | perp  12.3]\n"
     ]
    },
    {
     "name": "stderr",
     "output_type": "stream",
     "text": [
      "Device set to use cuda:0\n"
     ]
    },
    {
     "name": "stdout",
     "output_type": "stream",
     "text": [
      "[epoch 41/80] [TRN loss: 1.748 | perp   5.7] [VAL loss: 2.393 | perp  10.9]\n"
     ]
    },
    {
     "name": "stderr",
     "output_type": "stream",
     "text": [
      "Device set to use cuda:0\n"
     ]
    },
    {
     "name": "stdout",
     "output_type": "stream",
     "text": [
      "[epoch 42/80] [TRN loss: 1.785 | perp   6.0] [VAL loss: 2.578 | perp  13.2]\n"
     ]
    },
    {
     "name": "stderr",
     "output_type": "stream",
     "text": [
      "Device set to use cuda:0\n"
     ]
    },
    {
     "name": "stdout",
     "output_type": "stream",
     "text": [
      "[epoch 43/80] [TRN loss: 1.736 | perp   5.7] [VAL loss: 2.182 | perp   8.9]\n"
     ]
    },
    {
     "name": "stderr",
     "output_type": "stream",
     "text": [
      "Device set to use cuda:0\n"
     ]
    },
    {
     "name": "stdout",
     "output_type": "stream",
     "text": [
      "[epoch 44/80] [TRN loss: 1.743 | perp   5.7] [VAL loss: 2.484 | perp  12.0]\n"
     ]
    },
    {
     "name": "stderr",
     "output_type": "stream",
     "text": [
      "Device set to use cuda:0\n"
     ]
    },
    {
     "name": "stdout",
     "output_type": "stream",
     "text": [
      "[epoch 45/80] [TRN loss: 1.722 | perp   5.6] [VAL loss: 2.866 | perp  17.6]\n"
     ]
    },
    {
     "name": "stderr",
     "output_type": "stream",
     "text": [
      "Device set to use cuda:0\n"
     ]
    },
    {
     "name": "stdout",
     "output_type": "stream",
     "text": [
      "[epoch 46/80] [TRN loss: 1.738 | perp   5.7] [VAL loss: 2.371 | perp  10.7]\n"
     ]
    },
    {
     "name": "stderr",
     "output_type": "stream",
     "text": [
      "Device set to use cuda:0\n"
     ]
    },
    {
     "name": "stdout",
     "output_type": "stream",
     "text": [
      "[epoch 47/80] [TRN loss: 1.684 | perp   5.4] [VAL loss: 2.259 | perp   9.6]\n"
     ]
    },
    {
     "name": "stderr",
     "output_type": "stream",
     "text": [
      "Device set to use cuda:0\n"
     ]
    },
    {
     "name": "stdout",
     "output_type": "stream",
     "text": [
      "[epoch 48/80] [TRN loss: 1.688 | perp   5.4] [VAL loss: 2.041 | perp   7.7]\n"
     ]
    },
    {
     "name": "stderr",
     "output_type": "stream",
     "text": [
      "Device set to use cuda:0\n"
     ]
    },
    {
     "name": "stdout",
     "output_type": "stream",
     "text": [
      "[epoch 49/80] [TRN loss: 1.687 | perp   5.4] [VAL loss: 2.452 | perp  11.6]\n"
     ]
    },
    {
     "name": "stderr",
     "output_type": "stream",
     "text": [
      "Device set to use cuda:0\n"
     ]
    },
    {
     "name": "stdout",
     "output_type": "stream",
     "text": [
      "[epoch 50/80] [TRN loss: 1.640 | perp   5.2] [VAL loss: 2.074 | perp   8.0]\n"
     ]
    },
    {
     "name": "stderr",
     "output_type": "stream",
     "text": [
      "Device set to use cuda:0\n"
     ]
    },
    {
     "name": "stdout",
     "output_type": "stream",
     "text": [
      "[epoch 51/80] [TRN loss: 1.659 | perp   5.3] [VAL loss: 2.453 | perp  11.6]\n"
     ]
    },
    {
     "name": "stderr",
     "output_type": "stream",
     "text": [
      "Device set to use cuda:0\n"
     ]
    },
    {
     "name": "stdout",
     "output_type": "stream",
     "text": [
      "[epoch 52/80] [TRN loss: 1.649 | perp   5.2] [VAL loss: 2.885 | perp  17.9]\n"
     ]
    },
    {
     "name": "stderr",
     "output_type": "stream",
     "text": [
      "Device set to use cuda:0\n"
     ]
    },
    {
     "name": "stdout",
     "output_type": "stream",
     "text": [
      "[epoch 53/80] [TRN loss: 1.596 | perp   4.9] [VAL loss: 2.560 | perp  12.9]\n"
     ]
    },
    {
     "name": "stderr",
     "output_type": "stream",
     "text": [
      "Device set to use cuda:0\n"
     ]
    },
    {
     "name": "stdout",
     "output_type": "stream",
     "text": [
      "[epoch 54/80] [TRN loss: 1.642 | perp   5.2] [VAL loss: 2.499 | perp  12.2]\n"
     ]
    },
    {
     "name": "stderr",
     "output_type": "stream",
     "text": [
      "Device set to use cuda:0\n"
     ]
    },
    {
     "name": "stdout",
     "output_type": "stream",
     "text": [
      "[epoch 55/80] [TRN loss: 1.601 | perp   5.0] [VAL loss: 2.765 | perp  15.9]\n"
     ]
    },
    {
     "name": "stderr",
     "output_type": "stream",
     "text": [
      "Device set to use cuda:0\n"
     ]
    },
    {
     "name": "stdout",
     "output_type": "stream",
     "text": [
      "[epoch 56/80] [TRN loss: 1.618 | perp   5.0] [VAL loss: 2.155 | perp   8.6]\n"
     ]
    },
    {
     "name": "stderr",
     "output_type": "stream",
     "text": [
      "Device set to use cuda:0\n"
     ]
    },
    {
     "name": "stdout",
     "output_type": "stream",
     "text": [
      "[epoch 57/80] [TRN loss: 1.640 | perp   5.2] [VAL loss: 2.120 | perp   8.3]\n"
     ]
    },
    {
     "name": "stderr",
     "output_type": "stream",
     "text": [
      "Device set to use cuda:0\n"
     ]
    },
    {
     "name": "stdout",
     "output_type": "stream",
     "text": [
      "[epoch 58/80] [TRN loss: 1.598 | perp   4.9] [VAL loss: 2.647 | perp  14.1]\n"
     ]
    },
    {
     "name": "stderr",
     "output_type": "stream",
     "text": [
      "Device set to use cuda:0\n"
     ]
    },
    {
     "name": "stdout",
     "output_type": "stream",
     "text": [
      "[epoch 59/80] [TRN loss: 1.613 | perp   5.0] [VAL loss: 2.251 | perp   9.5]\n"
     ]
    },
    {
     "name": "stderr",
     "output_type": "stream",
     "text": [
      "Device set to use cuda:0\n"
     ]
    },
    {
     "name": "stdout",
     "output_type": "stream",
     "text": [
      "[epoch 60/80] [TRN loss: 1.591 | perp   4.9] [VAL loss: 2.153 | perp   8.6]\n"
     ]
    },
    {
     "name": "stderr",
     "output_type": "stream",
     "text": [
      "Device set to use cuda:0\n"
     ]
    },
    {
     "name": "stdout",
     "output_type": "stream",
     "text": [
      "[epoch 61/80] [TRN loss: 1.576 | perp   4.8] [VAL loss: 2.135 | perp   8.5]\n"
     ]
    },
    {
     "name": "stderr",
     "output_type": "stream",
     "text": [
      "Device set to use cuda:0\n"
     ]
    },
    {
     "name": "stdout",
     "output_type": "stream",
     "text": [
      "[epoch 62/80] [TRN loss: 1.573 | perp   4.8] [VAL loss: 2.422 | perp  11.3]\n"
     ]
    },
    {
     "name": "stderr",
     "output_type": "stream",
     "text": [
      "Device set to use cuda:0\n"
     ]
    },
    {
     "name": "stdout",
     "output_type": "stream",
     "text": [
      "[epoch 63/80] [TRN loss: 1.536 | perp   4.6] [VAL loss: 1.988 | perp   7.3]\n"
     ]
    },
    {
     "name": "stderr",
     "output_type": "stream",
     "text": [
      "Device set to use cuda:0\n"
     ]
    },
    {
     "name": "stdout",
     "output_type": "stream",
     "text": [
      "[epoch 64/80] [TRN loss: 1.521 | perp   4.6] [VAL loss: 2.145 | perp   8.5]\n"
     ]
    },
    {
     "name": "stderr",
     "output_type": "stream",
     "text": [
      "Device set to use cuda:0\n"
     ]
    },
    {
     "name": "stdout",
     "output_type": "stream",
     "text": [
      "[epoch 65/80] [TRN loss: 1.550 | perp   4.7] [VAL loss: 2.719 | perp  15.2]\n"
     ]
    },
    {
     "name": "stderr",
     "output_type": "stream",
     "text": [
      "Device set to use cuda:0\n"
     ]
    },
    {
     "name": "stdout",
     "output_type": "stream",
     "text": [
      "[epoch 66/80] [TRN loss: 1.542 | perp   4.7] [VAL loss: 2.432 | perp  11.4]\n"
     ]
    },
    {
     "name": "stderr",
     "output_type": "stream",
     "text": [
      "Device set to use cuda:0\n"
     ]
    },
    {
     "name": "stdout",
     "output_type": "stream",
     "text": [
      "[epoch 67/80] [TRN loss: 1.529 | perp   4.6] [VAL loss: 2.669 | perp  14.4]\n"
     ]
    },
    {
     "name": "stderr",
     "output_type": "stream",
     "text": [
      "Device set to use cuda:0\n"
     ]
    },
    {
     "name": "stdout",
     "output_type": "stream",
     "text": [
      "[epoch 68/80] [TRN loss: 1.535 | perp   4.6] [VAL loss: 2.510 | perp  12.3]\n"
     ]
    },
    {
     "name": "stderr",
     "output_type": "stream",
     "text": [
      "Device set to use cuda:0\n"
     ]
    },
    {
     "name": "stdout",
     "output_type": "stream",
     "text": [
      "[epoch 69/80] [TRN loss: 1.512 | perp   4.5] [VAL loss: 2.253 | perp   9.5]\n"
     ]
    },
    {
     "name": "stderr",
     "output_type": "stream",
     "text": [
      "Device set to use cuda:0\n"
     ]
    },
    {
     "name": "stdout",
     "output_type": "stream",
     "text": [
      "[epoch 70/80] [TRN loss: 1.542 | perp   4.7] [VAL loss: 2.456 | perp  11.7]\n"
     ]
    },
    {
     "name": "stderr",
     "output_type": "stream",
     "text": [
      "Device set to use cuda:0\n"
     ]
    },
    {
     "name": "stdout",
     "output_type": "stream",
     "text": [
      "[epoch 71/80] [TRN loss: 1.501 | perp   4.5] [VAL loss: 2.334 | perp  10.3]\n"
     ]
    },
    {
     "name": "stderr",
     "output_type": "stream",
     "text": [
      "Device set to use cuda:0\n"
     ]
    },
    {
     "name": "stdout",
     "output_type": "stream",
     "text": [
      "[epoch 72/80] [TRN loss: 1.545 | perp   4.7] [VAL loss: 2.676 | perp  14.5]\n"
     ]
    },
    {
     "name": "stderr",
     "output_type": "stream",
     "text": [
      "Device set to use cuda:0\n"
     ]
    },
    {
     "name": "stdout",
     "output_type": "stream",
     "text": [
      "[epoch 73/80] [TRN loss: 1.488 | perp   4.4] [VAL loss: 2.525 | perp  12.5]\n"
     ]
    },
    {
     "name": "stderr",
     "output_type": "stream",
     "text": [
      "Device set to use cuda:0\n"
     ]
    },
    {
     "name": "stdout",
     "output_type": "stream",
     "text": [
      "[epoch 74/80] [TRN loss: 1.481 | perp   4.4] [VAL loss: 2.202 | perp   9.0]\n"
     ]
    },
    {
     "name": "stderr",
     "output_type": "stream",
     "text": [
      "Device set to use cuda:0\n"
     ]
    },
    {
     "name": "stdout",
     "output_type": "stream",
     "text": [
      "[epoch 75/80] [TRN loss: 1.495 | perp   4.5] [VAL loss: 1.953 | perp   7.1]\n"
     ]
    },
    {
     "name": "stderr",
     "output_type": "stream",
     "text": [
      "Device set to use cuda:0\n"
     ]
    },
    {
     "name": "stdout",
     "output_type": "stream",
     "text": [
      "[epoch 76/80] [TRN loss: 1.515 | perp   4.6] [VAL loss: 2.158 | perp   8.7]\n"
     ]
    },
    {
     "name": "stderr",
     "output_type": "stream",
     "text": [
      "Device set to use cuda:0\n"
     ]
    },
    {
     "name": "stdout",
     "output_type": "stream",
     "text": [
      "[epoch 77/80] [TRN loss: 1.546 | perp   4.7] [VAL loss: 2.269 | perp   9.7]\n"
     ]
    },
    {
     "name": "stderr",
     "output_type": "stream",
     "text": [
      "Device set to use cuda:0\n"
     ]
    },
    {
     "name": "stdout",
     "output_type": "stream",
     "text": [
      "[epoch 78/80] [TRN loss: 1.517 | perp   4.6] [VAL loss: 2.426 | perp  11.3]\n"
     ]
    },
    {
     "name": "stderr",
     "output_type": "stream",
     "text": [
      "Device set to use cuda:0\n"
     ]
    },
    {
     "name": "stdout",
     "output_type": "stream",
     "text": [
      "[epoch 79/80] [TRN loss: 1.537 | perp   4.6] [VAL loss: 2.553 | perp  12.8]\n"
     ]
    },
    {
     "name": "stderr",
     "output_type": "stream",
     "text": [
      "Device set to use cuda:0\n"
     ]
    },
    {
     "name": "stdout",
     "output_type": "stream",
     "text": [
      "[epoch 80/80] [TRN loss: 1.505 | perp   4.5] [VAL loss: 3.019 | perp  20.5]\n"
     ]
    },
    {
     "data": {
      "text/html": [
       "<style type=\"text/css\">\n",
       "</style>\n",
       "<table id=\"T_4d6c7\">\n",
       "  <thead>\n",
       "    <tr>\n",
       "      <th class=\"index_name level0\" >top k</th>\n",
       "      <th id=\"T_4d6c7_level0_col0\" class=\"col_heading level0 col0\" >0</th>\n",
       "      <th id=\"T_4d6c7_level0_col1\" class=\"col_heading level0 col1\" >1</th>\n",
       "      <th id=\"T_4d6c7_level0_col2\" class=\"col_heading level0 col2\" >2</th>\n",
       "      <th id=\"T_4d6c7_level0_col3\" class=\"col_heading level0 col3\" >3</th>\n",
       "      <th id=\"T_4d6c7_level0_col4\" class=\"col_heading level0 col4\" >4</th>\n",
       "      <th id=\"T_4d6c7_level0_col5\" class=\"col_heading level0 col5\" >5</th>\n",
       "      <th id=\"T_4d6c7_level0_col6\" class=\"col_heading level0 col6\" >6</th>\n",
       "      <th id=\"T_4d6c7_level0_col7\" class=\"col_heading level0 col7\" >7</th>\n",
       "      <th id=\"T_4d6c7_level0_col8\" class=\"col_heading level0 col8\" >8</th>\n",
       "      <th id=\"T_4d6c7_level0_col9\" class=\"col_heading level0 col9\" >9</th>\n",
       "      <th id=\"T_4d6c7_level0_col10\" class=\"col_heading level0 col10\" >10</th>\n",
       "      <th id=\"T_4d6c7_level0_col11\" class=\"col_heading level0 col11\" >11</th>\n",
       "      <th id=\"T_4d6c7_level0_col12\" class=\"col_heading level0 col12\" >12</th>\n",
       "      <th id=\"T_4d6c7_level0_col13\" class=\"col_heading level0 col13\" >13</th>\n",
       "    </tr>\n",
       "    <tr>\n",
       "      <th class=\"index_name level0\" >epoch</th>\n",
       "      <th class=\"blank col0\" >&nbsp;</th>\n",
       "      <th class=\"blank col1\" >&nbsp;</th>\n",
       "      <th class=\"blank col2\" >&nbsp;</th>\n",
       "      <th class=\"blank col3\" >&nbsp;</th>\n",
       "      <th class=\"blank col4\" >&nbsp;</th>\n",
       "      <th class=\"blank col5\" >&nbsp;</th>\n",
       "      <th class=\"blank col6\" >&nbsp;</th>\n",
       "      <th class=\"blank col7\" >&nbsp;</th>\n",
       "      <th class=\"blank col8\" >&nbsp;</th>\n",
       "      <th class=\"blank col9\" >&nbsp;</th>\n",
       "      <th class=\"blank col10\" >&nbsp;</th>\n",
       "      <th class=\"blank col11\" >&nbsp;</th>\n",
       "      <th class=\"blank col12\" >&nbsp;</th>\n",
       "      <th class=\"blank col13\" >&nbsp;</th>\n",
       "    </tr>\n",
       "  </thead>\n",
       "  <tbody>\n",
       "    <tr>\n",
       "      <th id=\"T_4d6c7_level0_row0\" class=\"row_heading level0 row0\" >1</th>\n",
       "      <td id=\"T_4d6c7_row0_col0\" class=\"data row0 col0\" >movie</td>\n",
       "      <td id=\"T_4d6c7_row0_col1\" class=\"data row0 col1\" >story</td>\n",
       "      <td id=\"T_4d6c7_row0_col2\" class=\"data row0 col2\" >film</td>\n",
       "      <td id=\"T_4d6c7_row0_col3\" class=\"data row0 col3\" >project</td>\n",
       "      <td id=\"T_4d6c7_row0_col4\" class=\"data row0 col4\" >conversation</td>\n",
       "      <td id=\"T_4d6c7_row0_col5\" class=\"data row0 col5\" >game</td>\n",
       "      <td id=\"T_4d6c7_row0_col6\" class=\"data row0 col6\" >painting</td>\n",
       "      <td id=\"T_4d6c7_row0_col7\" class=\"data row0 col7\" >song</td>\n",
       "      <td id=\"T_4d6c7_row0_col8\" class=\"data row0 col8\" >filming</td>\n",
       "      <td id=\"T_4d6c7_row0_col9\" class=\"data row0 col9\" >meeting</td>\n",
       "      <td id=\"T_4d6c7_row0_col10\" class=\"data row0 col10\" >trip</td>\n",
       "      <td id=\"T_4d6c7_row0_col11\" class=\"data row0 col11\" >show</td>\n",
       "      <td id=\"T_4d6c7_row0_col12\" class=\"data row0 col12\" >ride</td>\n",
       "      <td id=\"T_4d6c7_row0_col13\" class=\"data row0 col13\" >search</td>\n",
       "    </tr>\n",
       "    <tr>\n",
       "      <th id=\"T_4d6c7_level0_row1\" class=\"row_heading level0 row1\" >2</th>\n",
       "      <td id=\"T_4d6c7_row1_col0\" class=\"data row1 col0\" >movie</td>\n",
       "      <td id=\"T_4d6c7_row1_col1\" class=\"data row1 col1\" >story</td>\n",
       "      <td id=\"T_4d6c7_row1_col2\" class=\"data row1 col2\" >film</td>\n",
       "      <td id=\"T_4d6c7_row1_col3\" class=\"data row1 col3\" >project</td>\n",
       "      <td id=\"T_4d6c7_row1_col4\" class=\"data row1 col4\" >song</td>\n",
       "      <td id=\"T_4d6c7_row1_col5\" class=\"data row1 col5\" >show</td>\n",
       "      <td id=\"T_4d6c7_row1_col6\" class=\"data row1 col6\" >game</td>\n",
       "      <td id=\"T_4d6c7_row1_col7\" class=\"data row1 col7\" >meeting</td>\n",
       "      <td id=\"T_4d6c7_row1_col8\" class=\"data row1 col8\" >conversation</td>\n",
       "      <td id=\"T_4d6c7_row1_col9\" class=\"data row1 col9\" >filming</td>\n",
       "      <td id=\"T_4d6c7_row1_col10\" class=\"data row1 col10\" >ride</td>\n",
       "      <td id=\"T_4d6c7_row1_col11\" class=\"data row1 col11\" >trip</td>\n",
       "      <td id=\"T_4d6c7_row1_col12\" class=\"data row1 col12\" >play</td>\n",
       "      <td id=\"T_4d6c7_row1_col13\" class=\"data row1 col13\" >painting</td>\n",
       "    </tr>\n",
       "    <tr>\n",
       "      <th id=\"T_4d6c7_level0_row2\" class=\"row_heading level0 row2\" >3</th>\n",
       "      <td id=\"T_4d6c7_row2_col0\" class=\"data row2 col0\" >story</td>\n",
       "      <td id=\"T_4d6c7_row2_col1\" class=\"data row2 col1\" >movie</td>\n",
       "      <td id=\"T_4d6c7_row2_col2\" class=\"data row2 col2\" >film</td>\n",
       "      <td id=\"T_4d6c7_row2_col3\" class=\"data row2 col3\" >project</td>\n",
       "      <td id=\"T_4d6c7_row2_col4\" class=\"data row2 col4\" >song</td>\n",
       "      <td id=\"T_4d6c7_row2_col5\" class=\"data row2 col5\" >show</td>\n",
       "      <td id=\"T_4d6c7_row2_col6\" class=\"data row2 col6\" >game</td>\n",
       "      <td id=\"T_4d6c7_row2_col7\" class=\"data row2 col7\" >filming</td>\n",
       "      <td id=\"T_4d6c7_row2_col8\" class=\"data row2 col8\" >meeting</td>\n",
       "      <td id=\"T_4d6c7_row2_col9\" class=\"data row2 col9\" >play</td>\n",
       "      <td id=\"T_4d6c7_row2_col10\" class=\"data row2 col10\" >ride</td>\n",
       "      <td id=\"T_4d6c7_row2_col11\" class=\"data row2 col11\" >conversation</td>\n",
       "      <td id=\"T_4d6c7_row2_col12\" class=\"data row2 col12\" >search</td>\n",
       "      <td id=\"T_4d6c7_row2_col13\" class=\"data row2 col13\" >trip</td>\n",
       "    </tr>\n",
       "    <tr>\n",
       "      <th id=\"T_4d6c7_level0_row3\" class=\"row_heading level0 row3\" >4</th>\n",
       "      <td id=\"T_4d6c7_row3_col0\" class=\"data row3 col0\" >story</td>\n",
       "      <td id=\"T_4d6c7_row3_col1\" class=\"data row3 col1\" >movie</td>\n",
       "      <td id=\"T_4d6c7_row3_col2\" class=\"data row3 col2\" >film</td>\n",
       "      <td id=\"T_4d6c7_row3_col3\" class=\"data row3 col3\" >conversation</td>\n",
       "      <td id=\"T_4d6c7_row3_col4\" class=\"data row3 col4\" >song</td>\n",
       "      <td id=\"T_4d6c7_row3_col5\" class=\"data row3 col5\" >project</td>\n",
       "      <td id=\"T_4d6c7_row3_col6\" class=\"data row3 col6\" >show</td>\n",
       "      <td id=\"T_4d6c7_row3_col7\" class=\"data row3 col7\" >search</td>\n",
       "      <td id=\"T_4d6c7_row3_col8\" class=\"data row3 col8\" >game</td>\n",
       "      <td id=\"T_4d6c7_row3_col9\" class=\"data row3 col9\" >play</td>\n",
       "      <td id=\"T_4d6c7_row3_col10\" class=\"data row3 col10\" >book</td>\n",
       "      <td id=\"T_4d6c7_row3_col11\" class=\"data row3 col11\" >filming</td>\n",
       "      <td id=\"T_4d6c7_row3_col12\" class=\"data row3 col12\" >ride</td>\n",
       "      <td id=\"T_4d6c7_row3_col13\" class=\"data row3 col13\" >trial</td>\n",
       "    </tr>\n",
       "    <tr>\n",
       "      <th id=\"T_4d6c7_level0_row4\" class=\"row_heading level0 row4\" >5</th>\n",
       "      <td id=\"T_4d6c7_row4_col0\" class=\"data row4 col0\" >movie</td>\n",
       "      <td id=\"T_4d6c7_row4_col1\" class=\"data row4 col1\" >story</td>\n",
       "      <td id=\"T_4d6c7_row4_col2\" class=\"data row4 col2\" >film</td>\n",
       "      <td id=\"T_4d6c7_row4_col3\" class=\"data row4 col3\" >show</td>\n",
       "      <td id=\"T_4d6c7_row4_col4\" class=\"data row4 col4\" >song</td>\n",
       "      <td id=\"T_4d6c7_row4_col5\" class=\"data row4 col5\" >project</td>\n",
       "      <td id=\"T_4d6c7_row4_col6\" class=\"data row4 col6\" >conversation</td>\n",
       "      <td id=\"T_4d6c7_row4_col7\" class=\"data row4 col7\" >search</td>\n",
       "      <td id=\"T_4d6c7_row4_col8\" class=\"data row4 col8\" >journey</td>\n",
       "      <td id=\"T_4d6c7_row4_col9\" class=\"data row4 col9\" >ride</td>\n",
       "      <td id=\"T_4d6c7_row4_col10\" class=\"data row4 col10\" >incident</td>\n",
       "      <td id=\"T_4d6c7_row4_col11\" class=\"data row4 col11\" >play</td>\n",
       "      <td id=\"T_4d6c7_row4_col12\" class=\"data row4 col12\" >filming</td>\n",
       "      <td id=\"T_4d6c7_row4_col13\" class=\"data row4 col13\" >book</td>\n",
       "    </tr>\n",
       "    <tr>\n",
       "      <th id=\"T_4d6c7_level0_row5\" class=\"row_heading level0 row5\" >6</th>\n",
       "      <td id=\"T_4d6c7_row5_col0\" class=\"data row5 col0\" >movie</td>\n",
       "      <td id=\"T_4d6c7_row5_col1\" class=\"data row5 col1\" >story</td>\n",
       "      <td id=\"T_4d6c7_row5_col2\" class=\"data row5 col2\" >film</td>\n",
       "      <td id=\"T_4d6c7_row5_col3\" class=\"data row5 col3\" >show</td>\n",
       "      <td id=\"T_4d6c7_row5_col4\" class=\"data row5 col4\" >project</td>\n",
       "      <td id=\"T_4d6c7_row5_col5\" class=\"data row5 col5\" >search</td>\n",
       "      <td id=\"T_4d6c7_row5_col6\" class=\"data row5 col6\" >ride</td>\n",
       "      <td id=\"T_4d6c7_row5_col7\" class=\"data row5 col7\" >journey</td>\n",
       "      <td id=\"T_4d6c7_row5_col8\" class=\"data row5 col8\" >song</td>\n",
       "      <td id=\"T_4d6c7_row5_col9\" class=\"data row5 col9\" >play</td>\n",
       "      <td id=\"T_4d6c7_row5_col10\" class=\"data row5 col10\" >conversation</td>\n",
       "      <td id=\"T_4d6c7_row5_col11\" class=\"data row5 col11\" >filming</td>\n",
       "      <td id=\"T_4d6c7_row5_col12\" class=\"data row5 col12\" >investigation</td>\n",
       "      <td id=\"T_4d6c7_row5_col13\" class=\"data row5 col13\" >video</td>\n",
       "    </tr>\n",
       "    <tr>\n",
       "      <th id=\"T_4d6c7_level0_row6\" class=\"row_heading level0 row6\" >7</th>\n",
       "      <td id=\"T_4d6c7_row6_col0\" class=\"data row6 col0\" >movie</td>\n",
       "      <td id=\"T_4d6c7_row6_col1\" class=\"data row6 col1\" >story</td>\n",
       "      <td id=\"T_4d6c7_row6_col2\" class=\"data row6 col2\" >film</td>\n",
       "      <td id=\"T_4d6c7_row6_col3\" class=\"data row6 col3\" >project</td>\n",
       "      <td id=\"T_4d6c7_row6_col4\" class=\"data row6 col4\" >ride</td>\n",
       "      <td id=\"T_4d6c7_row6_col5\" class=\"data row6 col5\" >show</td>\n",
       "      <td id=\"T_4d6c7_row6_col6\" class=\"data row6 col6\" >journey</td>\n",
       "      <td id=\"T_4d6c7_row6_col7\" class=\"data row6 col7\" >song</td>\n",
       "      <td id=\"T_4d6c7_row6_col8\" class=\"data row6 col8\" >search</td>\n",
       "      <td id=\"T_4d6c7_row6_col9\" class=\"data row6 col9\" >play</td>\n",
       "      <td id=\"T_4d6c7_row6_col10\" class=\"data row6 col10\" >conversation</td>\n",
       "      <td id=\"T_4d6c7_row6_col11\" class=\"data row6 col11\" >investigation</td>\n",
       "      <td id=\"T_4d6c7_row6_col12\" class=\"data row6 col12\" >tour</td>\n",
       "      <td id=\"T_4d6c7_row6_col13\" class=\"data row6 col13\" >time</td>\n",
       "    </tr>\n",
       "    <tr>\n",
       "      <th id=\"T_4d6c7_level0_row7\" class=\"row_heading level0 row7\" >8</th>\n",
       "      <td id=\"T_4d6c7_row7_col0\" class=\"data row7 col0\" >story</td>\n",
       "      <td id=\"T_4d6c7_row7_col1\" class=\"data row7 col1\" >movie</td>\n",
       "      <td id=\"T_4d6c7_row7_col2\" class=\"data row7 col2\" >project</td>\n",
       "      <td id=\"T_4d6c7_row7_col3\" class=\"data row7 col3\" >search</td>\n",
       "      <td id=\"T_4d6c7_row7_col4\" class=\"data row7 col4\" >journey</td>\n",
       "      <td id=\"T_4d6c7_row7_col5\" class=\"data row7 col5\" >song</td>\n",
       "      <td id=\"T_4d6c7_row7_col6\" class=\"data row7 col6\" >ride</td>\n",
       "      <td id=\"T_4d6c7_row7_col7\" class=\"data row7 col7\" >film</td>\n",
       "      <td id=\"T_4d6c7_row7_col8\" class=\"data row7 col8\" >show</td>\n",
       "      <td id=\"T_4d6c7_row7_col9\" class=\"data row7 col9\" >play</td>\n",
       "      <td id=\"T_4d6c7_row7_col10\" class=\"data row7 col10\" >investigation</td>\n",
       "      <td id=\"T_4d6c7_row7_col11\" class=\"data row7 col11\" >time</td>\n",
       "      <td id=\"T_4d6c7_row7_col12\" class=\"data row7 col12\" >conversation</td>\n",
       "      <td id=\"T_4d6c7_row7_col13\" class=\"data row7 col13\" >appointment</td>\n",
       "    </tr>\n",
       "    <tr>\n",
       "      <th id=\"T_4d6c7_level0_row8\" class=\"row_heading level0 row8\" >9</th>\n",
       "      <td id=\"T_4d6c7_row8_col0\" class=\"data row8 col0\" >story</td>\n",
       "      <td id=\"T_4d6c7_row8_col1\" class=\"data row8 col1\" >journey</td>\n",
       "      <td id=\"T_4d6c7_row8_col2\" class=\"data row8 col2\" >ride</td>\n",
       "      <td id=\"T_4d6c7_row8_col3\" class=\"data row8 col3\" >movie</td>\n",
       "      <td id=\"T_4d6c7_row8_col4\" class=\"data row8 col4\" >appointment</td>\n",
       "      <td id=\"T_4d6c7_row8_col5\" class=\"data row8 col5\" >search</td>\n",
       "      <td id=\"T_4d6c7_row8_col6\" class=\"data row8 col6\" >song</td>\n",
       "      <td id=\"T_4d6c7_row8_col7\" class=\"data row8 col7\" >project</td>\n",
       "      <td id=\"T_4d6c7_row8_col8\" class=\"data row8 col8\" >investigation</td>\n",
       "      <td id=\"T_4d6c7_row8_col9\" class=\"data row8 col9\" >play</td>\n",
       "      <td id=\"T_4d6c7_row8_col10\" class=\"data row8 col10\" >conversation</td>\n",
       "      <td id=\"T_4d6c7_row8_col11\" class=\"data row8 col11\" >show</td>\n",
       "      <td id=\"T_4d6c7_row8_col12\" class=\"data row8 col12\" >trip</td>\n",
       "      <td id=\"T_4d6c7_row8_col13\" class=\"data row8 col13\" >film</td>\n",
       "    </tr>\n",
       "    <tr>\n",
       "      <th id=\"T_4d6c7_level0_row9\" class=\"row_heading level0 row9\" >10</th>\n",
       "      <td id=\"T_4d6c7_row9_col0\" class=\"data row9 col0\" >journey</td>\n",
       "      <td id=\"T_4d6c7_row9_col1\" class=\"data row9 col1\" >ride</td>\n",
       "      <td id=\"T_4d6c7_row9_col2\" class=\"data row9 col2\" >story</td>\n",
       "      <td id=\"T_4d6c7_row9_col3\" class=\"data row9 col3\" >search</td>\n",
       "      <td id=\"T_4d6c7_row9_col4\" class=\"data row9 col4\" >appointment</td>\n",
       "      <td id=\"T_4d6c7_row9_col5\" class=\"data row9 col5\" >movie</td>\n",
       "      <td id=\"T_4d6c7_row9_col6\" class=\"data row9 col6\" >investigation</td>\n",
       "      <td id=\"T_4d6c7_row9_col7\" class=\"data row9 col7\" >show</td>\n",
       "      <td id=\"T_4d6c7_row9_col8\" class=\"data row9 col8\" >song</td>\n",
       "      <td id=\"T_4d6c7_row9_col9\" class=\"data row9 col9\" >conversation</td>\n",
       "      <td id=\"T_4d6c7_row9_col10\" class=\"data row9 col10\" >trip</td>\n",
       "      <td id=\"T_4d6c7_row9_col11\" class=\"data row9 col11\" >project</td>\n",
       "      <td id=\"T_4d6c7_row9_col12\" class=\"data row9 col12\" >service</td>\n",
       "      <td id=\"T_4d6c7_row9_col13\" class=\"data row9 col13\" >video</td>\n",
       "    </tr>\n",
       "    <tr>\n",
       "      <th id=\"T_4d6c7_level0_row10\" class=\"row_heading level0 row10\" >11</th>\n",
       "      <td id=\"T_4d6c7_row10_col0\" class=\"data row10 col0\" >journey</td>\n",
       "      <td id=\"T_4d6c7_row10_col1\" class=\"data row10 col1\" >investigation</td>\n",
       "      <td id=\"T_4d6c7_row10_col2\" class=\"data row10 col2\" >movie</td>\n",
       "      <td id=\"T_4d6c7_row10_col3\" class=\"data row10 col3\" >story</td>\n",
       "      <td id=\"T_4d6c7_row10_col4\" class=\"data row10 col4\" >show</td>\n",
       "      <td id=\"T_4d6c7_row10_col5\" class=\"data row10 col5\" >search</td>\n",
       "      <td id=\"T_4d6c7_row10_col6\" class=\"data row10 col6\" >song</td>\n",
       "      <td id=\"T_4d6c7_row10_col7\" class=\"data row10 col7\" >ride</td>\n",
       "      <td id=\"T_4d6c7_row10_col8\" class=\"data row10 col8\" >project</td>\n",
       "      <td id=\"T_4d6c7_row10_col9\" class=\"data row10 col9\" >process</td>\n",
       "      <td id=\"T_4d6c7_row10_col10\" class=\"data row10 col10\" >video</td>\n",
       "      <td id=\"T_4d6c7_row10_col11\" class=\"data row10 col11\" >appointment</td>\n",
       "      <td id=\"T_4d6c7_row10_col12\" class=\"data row10 col12\" >service</td>\n",
       "      <td id=\"T_4d6c7_row10_col13\" class=\"data row10 col13\" >conversation</td>\n",
       "    </tr>\n",
       "    <tr>\n",
       "      <th id=\"T_4d6c7_level0_row11\" class=\"row_heading level0 row11\" >12</th>\n",
       "      <td id=\"T_4d6c7_row11_col0\" class=\"data row11 col0\" >appointment</td>\n",
       "      <td id=\"T_4d6c7_row11_col1\" class=\"data row11 col1\" >story</td>\n",
       "      <td id=\"T_4d6c7_row11_col2\" class=\"data row11 col2\" >journey</td>\n",
       "      <td id=\"T_4d6c7_row11_col3\" class=\"data row11 col3\" >movie</td>\n",
       "      <td id=\"T_4d6c7_row11_col4\" class=\"data row11 col4\" >show</td>\n",
       "      <td id=\"T_4d6c7_row11_col5\" class=\"data row11 col5\" >investigation</td>\n",
       "      <td id=\"T_4d6c7_row11_col6\" class=\"data row11 col6\" >service</td>\n",
       "      <td id=\"T_4d6c7_row11_col7\" class=\"data row11 col7\" >search</td>\n",
       "      <td id=\"T_4d6c7_row11_col8\" class=\"data row11 col8\" >song</td>\n",
       "      <td id=\"T_4d6c7_row11_col9\" class=\"data row11 col9\" >project</td>\n",
       "      <td id=\"T_4d6c7_row11_col10\" class=\"data row11 col10\" >ride</td>\n",
       "      <td id=\"T_4d6c7_row11_col11\" class=\"data row11 col11\" >book</td>\n",
       "      <td id=\"T_4d6c7_row11_col12\" class=\"data row11 col12\" >process</td>\n",
       "      <td id=\"T_4d6c7_row11_col13\" class=\"data row11 col13\" >video</td>\n",
       "    </tr>\n",
       "    <tr>\n",
       "      <th id=\"T_4d6c7_level0_row12\" class=\"row_heading level0 row12\" >13</th>\n",
       "      <td id=\"T_4d6c7_row12_col0\" class=\"data row12 col0\" >journey</td>\n",
       "      <td id=\"T_4d6c7_row12_col1\" class=\"data row12 col1\" >story</td>\n",
       "      <td id=\"T_4d6c7_row12_col2\" class=\"data row12 col2\" >appointment</td>\n",
       "      <td id=\"T_4d6c7_row12_col3\" class=\"data row12 col3\" >investigation</td>\n",
       "      <td id=\"T_4d6c7_row12_col4\" class=\"data row12 col4\" >movie</td>\n",
       "      <td id=\"T_4d6c7_row12_col5\" class=\"data row12 col5\" >show</td>\n",
       "      <td id=\"T_4d6c7_row12_col6\" class=\"data row12 col6\" >song</td>\n",
       "      <td id=\"T_4d6c7_row12_col7\" class=\"data row12 col7\" >ride</td>\n",
       "      <td id=\"T_4d6c7_row12_col8\" class=\"data row12 col8\" >search</td>\n",
       "      <td id=\"T_4d6c7_row12_col9\" class=\"data row12 col9\" >video</td>\n",
       "      <td id=\"T_4d6c7_row12_col10\" class=\"data row12 col10\" >book</td>\n",
       "      <td id=\"T_4d6c7_row12_col11\" class=\"data row12 col11\" >process</td>\n",
       "      <td id=\"T_4d6c7_row12_col12\" class=\"data row12 col12\" >service</td>\n",
       "      <td id=\"T_4d6c7_row12_col13\" class=\"data row12 col13\" >treatment</td>\n",
       "    </tr>\n",
       "    <tr>\n",
       "      <th id=\"T_4d6c7_level0_row13\" class=\"row_heading level0 row13\" >14</th>\n",
       "      <td id=\"T_4d6c7_row13_col0\" class=\"data row13 col0\" >journey</td>\n",
       "      <td id=\"T_4d6c7_row13_col1\" class=\"data row13 col1\" >appointment</td>\n",
       "      <td id=\"T_4d6c7_row13_col2\" class=\"data row13 col2\" >story</td>\n",
       "      <td id=\"T_4d6c7_row13_col3\" class=\"data row13 col3\" >ride</td>\n",
       "      <td id=\"T_4d6c7_row13_col4\" class=\"data row13 col4\" >call</td>\n",
       "      <td id=\"T_4d6c7_row13_col5\" class=\"data row13 col5\" >show</td>\n",
       "      <td id=\"T_4d6c7_row13_col6\" class=\"data row13 col6\" >investigation</td>\n",
       "      <td id=\"T_4d6c7_row13_col7\" class=\"data row13 col7\" >service</td>\n",
       "      <td id=\"T_4d6c7_row13_col8\" class=\"data row13 col8\" >song</td>\n",
       "      <td id=\"T_4d6c7_row13_col9\" class=\"data row13 col9\" >search</td>\n",
       "      <td id=\"T_4d6c7_row13_col10\" class=\"data row13 col10\" >book</td>\n",
       "      <td id=\"T_4d6c7_row13_col11\" class=\"data row13 col11\" >movie</td>\n",
       "      <td id=\"T_4d6c7_row13_col12\" class=\"data row13 col12\" >process</td>\n",
       "      <td id=\"T_4d6c7_row13_col13\" class=\"data row13 col13\" >session</td>\n",
       "    </tr>\n",
       "    <tr>\n",
       "      <th id=\"T_4d6c7_level0_row14\" class=\"row_heading level0 row14\" >15</th>\n",
       "      <td id=\"T_4d6c7_row14_col0\" class=\"data row14 col0\" >journey</td>\n",
       "      <td id=\"T_4d6c7_row14_col1\" class=\"data row14 col1\" >appointment</td>\n",
       "      <td id=\"T_4d6c7_row14_col2\" class=\"data row14 col2\" >service</td>\n",
       "      <td id=\"T_4d6c7_row14_col3\" class=\"data row14 col3\" >investigation</td>\n",
       "      <td id=\"T_4d6c7_row14_col4\" class=\"data row14 col4\" >story</td>\n",
       "      <td id=\"T_4d6c7_row14_col5\" class=\"data row14 col5\" >song</td>\n",
       "      <td id=\"T_4d6c7_row14_col6\" class=\"data row14 col6\" >show</td>\n",
       "      <td id=\"T_4d6c7_row14_col7\" class=\"data row14 col7\" >call</td>\n",
       "      <td id=\"T_4d6c7_row14_col8\" class=\"data row14 col8\" >ride</td>\n",
       "      <td id=\"T_4d6c7_row14_col9\" class=\"data row14 col9\" >search</td>\n",
       "      <td id=\"T_4d6c7_row14_col10\" class=\"data row14 col10\" >wait</td>\n",
       "      <td id=\"T_4d6c7_row14_col11\" class=\"data row14 col11\" >book</td>\n",
       "      <td id=\"T_4d6c7_row14_col12\" class=\"data row14 col12\" >treatment</td>\n",
       "      <td id=\"T_4d6c7_row14_col13\" class=\"data row14 col13\" >process</td>\n",
       "    </tr>\n",
       "    <tr>\n",
       "      <th id=\"T_4d6c7_level0_row15\" class=\"row_heading level0 row15\" >16</th>\n",
       "      <td id=\"T_4d6c7_row15_col0\" class=\"data row15 col0\" >journey</td>\n",
       "      <td id=\"T_4d6c7_row15_col1\" class=\"data row15 col1\" >appointment</td>\n",
       "      <td id=\"T_4d6c7_row15_col2\" class=\"data row15 col2\" >story</td>\n",
       "      <td id=\"T_4d6c7_row15_col3\" class=\"data row15 col3\" >song</td>\n",
       "      <td id=\"T_4d6c7_row15_col4\" class=\"data row15 col4\" >show</td>\n",
       "      <td id=\"T_4d6c7_row15_col5\" class=\"data row15 col5\" >book</td>\n",
       "      <td id=\"T_4d6c7_row15_col6\" class=\"data row15 col6\" >service</td>\n",
       "      <td id=\"T_4d6c7_row15_col7\" class=\"data row15 col7\" >investigation</td>\n",
       "      <td id=\"T_4d6c7_row15_col8\" class=\"data row15 col8\" >ride</td>\n",
       "      <td id=\"T_4d6c7_row15_col9\" class=\"data row15 col9\" >wait</td>\n",
       "      <td id=\"T_4d6c7_row15_col10\" class=\"data row15 col10\" >search</td>\n",
       "      <td id=\"T_4d6c7_row15_col11\" class=\"data row15 col11\" >movie</td>\n",
       "      <td id=\"T_4d6c7_row15_col12\" class=\"data row15 col12\" >crew</td>\n",
       "      <td id=\"T_4d6c7_row15_col13\" class=\"data row15 col13\" >process</td>\n",
       "    </tr>\n",
       "    <tr>\n",
       "      <th id=\"T_4d6c7_level0_row16\" class=\"row_heading level0 row16\" >17</th>\n",
       "      <td id=\"T_4d6c7_row16_col0\" class=\"data row16 col0\" >journey</td>\n",
       "      <td id=\"T_4d6c7_row16_col1\" class=\"data row16 col1\" >appointment</td>\n",
       "      <td id=\"T_4d6c7_row16_col2\" class=\"data row16 col2\" >book</td>\n",
       "      <td id=\"T_4d6c7_row16_col3\" class=\"data row16 col3\" >service</td>\n",
       "      <td id=\"T_4d6c7_row16_col4\" class=\"data row16 col4\" >story</td>\n",
       "      <td id=\"T_4d6c7_row16_col5\" class=\"data row16 col5\" >investigation</td>\n",
       "      <td id=\"T_4d6c7_row16_col6\" class=\"data row16 col6\" >song</td>\n",
       "      <td id=\"T_4d6c7_row16_col7\" class=\"data row16 col7\" >crew</td>\n",
       "      <td id=\"T_4d6c7_row16_col8\" class=\"data row16 col8\" >show</td>\n",
       "      <td id=\"T_4d6c7_row16_col9\" class=\"data row16 col9\" >treatment</td>\n",
       "      <td id=\"T_4d6c7_row16_col10\" class=\"data row16 col10\" >call</td>\n",
       "      <td id=\"T_4d6c7_row16_col11\" class=\"data row16 col11\" >ride</td>\n",
       "      <td id=\"T_4d6c7_row16_col12\" class=\"data row16 col12\" >search</td>\n",
       "      <td id=\"T_4d6c7_row16_col13\" class=\"data row16 col13\" >movie</td>\n",
       "    </tr>\n",
       "    <tr>\n",
       "      <th id=\"T_4d6c7_level0_row17\" class=\"row_heading level0 row17\" >18</th>\n",
       "      <td id=\"T_4d6c7_row17_col0\" class=\"data row17 col0\" >journey</td>\n",
       "      <td id=\"T_4d6c7_row17_col1\" class=\"data row17 col1\" >appointment</td>\n",
       "      <td id=\"T_4d6c7_row17_col2\" class=\"data row17 col2\" >service</td>\n",
       "      <td id=\"T_4d6c7_row17_col3\" class=\"data row17 col3\" >investigation</td>\n",
       "      <td id=\"T_4d6c7_row17_col4\" class=\"data row17 col4\" >book</td>\n",
       "      <td id=\"T_4d6c7_row17_col5\" class=\"data row17 col5\" >wait</td>\n",
       "      <td id=\"T_4d6c7_row17_col6\" class=\"data row17 col6\" >ride</td>\n",
       "      <td id=\"T_4d6c7_row17_col7\" class=\"data row17 col7\" >story</td>\n",
       "      <td id=\"T_4d6c7_row17_col8\" class=\"data row17 col8\" >song</td>\n",
       "      <td id=\"T_4d6c7_row17_col9\" class=\"data row17 col9\" >show</td>\n",
       "      <td id=\"T_4d6c7_row17_col10\" class=\"data row17 col10\" >search</td>\n",
       "      <td id=\"T_4d6c7_row17_col11\" class=\"data row17 col11\" >treatment</td>\n",
       "      <td id=\"T_4d6c7_row17_col12\" class=\"data row17 col12\" >work</td>\n",
       "      <td id=\"T_4d6c7_row17_col13\" class=\"data row17 col13\" >visit</td>\n",
       "    </tr>\n",
       "    <tr>\n",
       "      <th id=\"T_4d6c7_level0_row18\" class=\"row_heading level0 row18\" >19</th>\n",
       "      <td id=\"T_4d6c7_row18_col0\" class=\"data row18 col0\" >journey</td>\n",
       "      <td id=\"T_4d6c7_row18_col1\" class=\"data row18 col1\" >appointment</td>\n",
       "      <td id=\"T_4d6c7_row18_col2\" class=\"data row18 col2\" >story</td>\n",
       "      <td id=\"T_4d6c7_row18_col3\" class=\"data row18 col3\" >book</td>\n",
       "      <td id=\"T_4d6c7_row18_col4\" class=\"data row18 col4\" >song</td>\n",
       "      <td id=\"T_4d6c7_row18_col5\" class=\"data row18 col5\" >investigation</td>\n",
       "      <td id=\"T_4d6c7_row18_col6\" class=\"data row18 col6\" >service</td>\n",
       "      <td id=\"T_4d6c7_row18_col7\" class=\"data row18 col7\" >wait</td>\n",
       "      <td id=\"T_4d6c7_row18_col8\" class=\"data row18 col8\" >call</td>\n",
       "      <td id=\"T_4d6c7_row18_col9\" class=\"data row18 col9\" >ride</td>\n",
       "      <td id=\"T_4d6c7_row18_col10\" class=\"data row18 col10\" >crew</td>\n",
       "      <td id=\"T_4d6c7_row18_col11\" class=\"data row18 col11\" >show</td>\n",
       "      <td id=\"T_4d6c7_row18_col12\" class=\"data row18 col12\" >search</td>\n",
       "      <td id=\"T_4d6c7_row18_col13\" class=\"data row18 col13\" >idea</td>\n",
       "    </tr>\n",
       "    <tr>\n",
       "      <th id=\"T_4d6c7_level0_row19\" class=\"row_heading level0 row19\" >20</th>\n",
       "      <td id=\"T_4d6c7_row19_col0\" class=\"data row19 col0\" >journey</td>\n",
       "      <td id=\"T_4d6c7_row19_col1\" class=\"data row19 col1\" >appointment</td>\n",
       "      <td id=\"T_4d6c7_row19_col2\" class=\"data row19 col2\" >book</td>\n",
       "      <td id=\"T_4d6c7_row19_col3\" class=\"data row19 col3\" >service</td>\n",
       "      <td id=\"T_4d6c7_row19_col4\" class=\"data row19 col4\" >song</td>\n",
       "      <td id=\"T_4d6c7_row19_col5\" class=\"data row19 col5\" >story</td>\n",
       "      <td id=\"T_4d6c7_row19_col6\" class=\"data row19 col6\" >ride</td>\n",
       "      <td id=\"T_4d6c7_row19_col7\" class=\"data row19 col7\" >investigation</td>\n",
       "      <td id=\"T_4d6c7_row19_col8\" class=\"data row19 col8\" >wait</td>\n",
       "      <td id=\"T_4d6c7_row19_col9\" class=\"data row19 col9\" >treatment</td>\n",
       "      <td id=\"T_4d6c7_row19_col10\" class=\"data row19 col10\" >call</td>\n",
       "      <td id=\"T_4d6c7_row19_col11\" class=\"data row19 col11\" >search</td>\n",
       "      <td id=\"T_4d6c7_row19_col12\" class=\"data row19 col12\" >incident</td>\n",
       "      <td id=\"T_4d6c7_row19_col13\" class=\"data row19 col13\" >crew</td>\n",
       "    </tr>\n",
       "    <tr>\n",
       "      <th id=\"T_4d6c7_level0_row20\" class=\"row_heading level0 row20\" >21</th>\n",
       "      <td id=\"T_4d6c7_row20_col0\" class=\"data row20 col0\" >journey</td>\n",
       "      <td id=\"T_4d6c7_row20_col1\" class=\"data row20 col1\" >appointment</td>\n",
       "      <td id=\"T_4d6c7_row20_col2\" class=\"data row20 col2\" >book</td>\n",
       "      <td id=\"T_4d6c7_row20_col3\" class=\"data row20 col3\" >service</td>\n",
       "      <td id=\"T_4d6c7_row20_col4\" class=\"data row20 col4\" >treatment</td>\n",
       "      <td id=\"T_4d6c7_row20_col5\" class=\"data row20 col5\" >investigation</td>\n",
       "      <td id=\"T_4d6c7_row20_col6\" class=\"data row20 col6\" >story</td>\n",
       "      <td id=\"T_4d6c7_row20_col7\" class=\"data row20 col7\" >song</td>\n",
       "      <td id=\"T_4d6c7_row20_col8\" class=\"data row20 col8\" >wait</td>\n",
       "      <td id=\"T_4d6c7_row20_col9\" class=\"data row20 col9\" >call</td>\n",
       "      <td id=\"T_4d6c7_row20_col10\" class=\"data row20 col10\" >visit</td>\n",
       "      <td id=\"T_4d6c7_row20_col11\" class=\"data row20 col11\" >ride</td>\n",
       "      <td id=\"T_4d6c7_row20_col12\" class=\"data row20 col12\" >sessions</td>\n",
       "      <td id=\"T_4d6c7_row20_col13\" class=\"data row20 col13\" >video</td>\n",
       "    </tr>\n",
       "    <tr>\n",
       "      <th id=\"T_4d6c7_level0_row21\" class=\"row_heading level0 row21\" >22</th>\n",
       "      <td id=\"T_4d6c7_row21_col0\" class=\"data row21 col0\" >journey</td>\n",
       "      <td id=\"T_4d6c7_row21_col1\" class=\"data row21 col1\" >appointment</td>\n",
       "      <td id=\"T_4d6c7_row21_col2\" class=\"data row21 col2\" >wait</td>\n",
       "      <td id=\"T_4d6c7_row21_col3\" class=\"data row21 col3\" >investigation</td>\n",
       "      <td id=\"T_4d6c7_row21_col4\" class=\"data row21 col4\" >service</td>\n",
       "      <td id=\"T_4d6c7_row21_col5\" class=\"data row21 col5\" >story</td>\n",
       "      <td id=\"T_4d6c7_row21_col6\" class=\"data row21 col6\" >treatment</td>\n",
       "      <td id=\"T_4d6c7_row21_col7\" class=\"data row21 col7\" >book</td>\n",
       "      <td id=\"T_4d6c7_row21_col8\" class=\"data row21 col8\" >search</td>\n",
       "      <td id=\"T_4d6c7_row21_col9\" class=\"data row21 col9\" >song</td>\n",
       "      <td id=\"T_4d6c7_row21_col10\" class=\"data row21 col10\" >call</td>\n",
       "      <td id=\"T_4d6c7_row21_col11\" class=\"data row21 col11\" >process</td>\n",
       "      <td id=\"T_4d6c7_row21_col12\" class=\"data row21 col12\" >visit</td>\n",
       "      <td id=\"T_4d6c7_row21_col13\" class=\"data row21 col13\" >situation</td>\n",
       "    </tr>\n",
       "    <tr>\n",
       "      <th id=\"T_4d6c7_level0_row22\" class=\"row_heading level0 row22\" >23</th>\n",
       "      <td id=\"T_4d6c7_row22_col0\" class=\"data row22 col0\" >journey</td>\n",
       "      <td id=\"T_4d6c7_row22_col1\" class=\"data row22 col1\" >appointment</td>\n",
       "      <td id=\"T_4d6c7_row22_col2\" class=\"data row22 col2\" >wait</td>\n",
       "      <td id=\"T_4d6c7_row22_col3\" class=\"data row22 col3\" >service</td>\n",
       "      <td id=\"T_4d6c7_row22_col4\" class=\"data row22 col4\" >investigation</td>\n",
       "      <td id=\"T_4d6c7_row22_col5\" class=\"data row22 col5\" >book</td>\n",
       "      <td id=\"T_4d6c7_row22_col6\" class=\"data row22 col6\" >treatment</td>\n",
       "      <td id=\"T_4d6c7_row22_col7\" class=\"data row22 col7\" >story</td>\n",
       "      <td id=\"T_4d6c7_row22_col8\" class=\"data row22 col8\" >process</td>\n",
       "      <td id=\"T_4d6c7_row22_col9\" class=\"data row22 col9\" >song</td>\n",
       "      <td id=\"T_4d6c7_row22_col10\" class=\"data row22 col10\" >ride</td>\n",
       "      <td id=\"T_4d6c7_row22_col11\" class=\"data row22 col11\" >work</td>\n",
       "      <td id=\"T_4d6c7_row22_col12\" class=\"data row22 col12\" >search</td>\n",
       "      <td id=\"T_4d6c7_row22_col13\" class=\"data row22 col13\" >time</td>\n",
       "    </tr>\n",
       "    <tr>\n",
       "      <th id=\"T_4d6c7_level0_row23\" class=\"row_heading level0 row23\" >24</th>\n",
       "      <td id=\"T_4d6c7_row23_col0\" class=\"data row23 col0\" >journey</td>\n",
       "      <td id=\"T_4d6c7_row23_col1\" class=\"data row23 col1\" >appointment</td>\n",
       "      <td id=\"T_4d6c7_row23_col2\" class=\"data row23 col2\" >wait</td>\n",
       "      <td id=\"T_4d6c7_row23_col3\" class=\"data row23 col3\" >service</td>\n",
       "      <td id=\"T_4d6c7_row23_col4\" class=\"data row23 col4\" >investigation</td>\n",
       "      <td id=\"T_4d6c7_row23_col5\" class=\"data row23 col5\" >book</td>\n",
       "      <td id=\"T_4d6c7_row23_col6\" class=\"data row23 col6\" >treatment</td>\n",
       "      <td id=\"T_4d6c7_row23_col7\" class=\"data row23 col7\" >song</td>\n",
       "      <td id=\"T_4d6c7_row23_col8\" class=\"data row23 col8\" >call</td>\n",
       "      <td id=\"T_4d6c7_row23_col9\" class=\"data row23 col9\" >ride</td>\n",
       "      <td id=\"T_4d6c7_row23_col10\" class=\"data row23 col10\" >process</td>\n",
       "      <td id=\"T_4d6c7_row23_col11\" class=\"data row23 col11\" >story</td>\n",
       "      <td id=\"T_4d6c7_row23_col12\" class=\"data row23 col12\" >search</td>\n",
       "      <td id=\"T_4d6c7_row23_col13\" class=\"data row23 col13\" >interview</td>\n",
       "    </tr>\n",
       "    <tr>\n",
       "      <th id=\"T_4d6c7_level0_row24\" class=\"row_heading level0 row24\" >25</th>\n",
       "      <td id=\"T_4d6c7_row24_col0\" class=\"data row24 col0\" >journey</td>\n",
       "      <td id=\"T_4d6c7_row24_col1\" class=\"data row24 col1\" >appointment</td>\n",
       "      <td id=\"T_4d6c7_row24_col2\" class=\"data row24 col2\" >wait</td>\n",
       "      <td id=\"T_4d6c7_row24_col3\" class=\"data row24 col3\" >book</td>\n",
       "      <td id=\"T_4d6c7_row24_col4\" class=\"data row24 col4\" >investigation</td>\n",
       "      <td id=\"T_4d6c7_row24_col5\" class=\"data row24 col5\" >treatment</td>\n",
       "      <td id=\"T_4d6c7_row24_col6\" class=\"data row24 col6\" >service</td>\n",
       "      <td id=\"T_4d6c7_row24_col7\" class=\"data row24 col7\" >situation</td>\n",
       "      <td id=\"T_4d6c7_row24_col8\" class=\"data row24 col8\" >song</td>\n",
       "      <td id=\"T_4d6c7_row24_col9\" class=\"data row24 col9\" >call</td>\n",
       "      <td id=\"T_4d6c7_row24_col10\" class=\"data row24 col10\" >visit</td>\n",
       "      <td id=\"T_4d6c7_row24_col11\" class=\"data row24 col11\" >process</td>\n",
       "      <td id=\"T_4d6c7_row24_col12\" class=\"data row24 col12\" >time</td>\n",
       "      <td id=\"T_4d6c7_row24_col13\" class=\"data row24 col13\" >interview</td>\n",
       "    </tr>\n",
       "    <tr>\n",
       "      <th id=\"T_4d6c7_level0_row25\" class=\"row_heading level0 row25\" >26</th>\n",
       "      <td id=\"T_4d6c7_row25_col0\" class=\"data row25 col0\" >journey</td>\n",
       "      <td id=\"T_4d6c7_row25_col1\" class=\"data row25 col1\" >appointment</td>\n",
       "      <td id=\"T_4d6c7_row25_col2\" class=\"data row25 col2\" >wait</td>\n",
       "      <td id=\"T_4d6c7_row25_col3\" class=\"data row25 col3\" >book</td>\n",
       "      <td id=\"T_4d6c7_row25_col4\" class=\"data row25 col4\" >call</td>\n",
       "      <td id=\"T_4d6c7_row25_col5\" class=\"data row25 col5\" >treatment</td>\n",
       "      <td id=\"T_4d6c7_row25_col6\" class=\"data row25 col6\" >service</td>\n",
       "      <td id=\"T_4d6c7_row25_col7\" class=\"data row25 col7\" >investigation</td>\n",
       "      <td id=\"T_4d6c7_row25_col8\" class=\"data row25 col8\" >ride</td>\n",
       "      <td id=\"T_4d6c7_row25_col9\" class=\"data row25 col9\" >song</td>\n",
       "      <td id=\"T_4d6c7_row25_col10\" class=\"data row25 col10\" >sessions</td>\n",
       "      <td id=\"T_4d6c7_row25_col11\" class=\"data row25 col11\" >visit</td>\n",
       "      <td id=\"T_4d6c7_row25_col12\" class=\"data row25 col12\" >situation</td>\n",
       "      <td id=\"T_4d6c7_row25_col13\" class=\"data row25 col13\" >session</td>\n",
       "    </tr>\n",
       "    <tr>\n",
       "      <th id=\"T_4d6c7_level0_row26\" class=\"row_heading level0 row26\" >27</th>\n",
       "      <td id=\"T_4d6c7_row26_col0\" class=\"data row26 col0\" >journey</td>\n",
       "      <td id=\"T_4d6c7_row26_col1\" class=\"data row26 col1\" >appointment</td>\n",
       "      <td id=\"T_4d6c7_row26_col2\" class=\"data row26 col2\" >book</td>\n",
       "      <td id=\"T_4d6c7_row26_col3\" class=\"data row26 col3\" >wait</td>\n",
       "      <td id=\"T_4d6c7_row26_col4\" class=\"data row26 col4\" >service</td>\n",
       "      <td id=\"T_4d6c7_row26_col5\" class=\"data row26 col5\" >song</td>\n",
       "      <td id=\"T_4d6c7_row26_col6\" class=\"data row26 col6\" >investigation</td>\n",
       "      <td id=\"T_4d6c7_row26_col7\" class=\"data row26 col7\" >ride</td>\n",
       "      <td id=\"T_4d6c7_row26_col8\" class=\"data row26 col8\" >situation</td>\n",
       "      <td id=\"T_4d6c7_row26_col9\" class=\"data row26 col9\" >treatment</td>\n",
       "      <td id=\"T_4d6c7_row26_col10\" class=\"data row26 col10\" >call</td>\n",
       "      <td id=\"T_4d6c7_row26_col11\" class=\"data row26 col11\" >sessions</td>\n",
       "      <td id=\"T_4d6c7_row26_col12\" class=\"data row26 col12\" >show</td>\n",
       "      <td id=\"T_4d6c7_row26_col13\" class=\"data row26 col13\" >session</td>\n",
       "    </tr>\n",
       "    <tr>\n",
       "      <th id=\"T_4d6c7_level0_row27\" class=\"row_heading level0 row27\" >28</th>\n",
       "      <td id=\"T_4d6c7_row27_col0\" class=\"data row27 col0\" >journey</td>\n",
       "      <td id=\"T_4d6c7_row27_col1\" class=\"data row27 col1\" >appointment</td>\n",
       "      <td id=\"T_4d6c7_row27_col2\" class=\"data row27 col2\" >wait</td>\n",
       "      <td id=\"T_4d6c7_row27_col3\" class=\"data row27 col3\" >service</td>\n",
       "      <td id=\"T_4d6c7_row27_col4\" class=\"data row27 col4\" >book</td>\n",
       "      <td id=\"T_4d6c7_row27_col5\" class=\"data row27 col5\" >situation</td>\n",
       "      <td id=\"T_4d6c7_row27_col6\" class=\"data row27 col6\" >investigation</td>\n",
       "      <td id=\"T_4d6c7_row27_col7\" class=\"data row27 col7\" >song</td>\n",
       "      <td id=\"T_4d6c7_row27_col8\" class=\"data row27 col8\" >treatment</td>\n",
       "      <td id=\"T_4d6c7_row27_col9\" class=\"data row27 col9\" >sessions</td>\n",
       "      <td id=\"T_4d6c7_row27_col10\" class=\"data row27 col10\" >visit</td>\n",
       "      <td id=\"T_4d6c7_row27_col11\" class=\"data row27 col11\" >show</td>\n",
       "      <td id=\"T_4d6c7_row27_col12\" class=\"data row27 col12\" >call</td>\n",
       "      <td id=\"T_4d6c7_row27_col13\" class=\"data row27 col13\" >ride</td>\n",
       "    </tr>\n",
       "    <tr>\n",
       "      <th id=\"T_4d6c7_level0_row28\" class=\"row_heading level0 row28\" >29</th>\n",
       "      <td id=\"T_4d6c7_row28_col0\" class=\"data row28 col0\" >journey</td>\n",
       "      <td id=\"T_4d6c7_row28_col1\" class=\"data row28 col1\" >appointment</td>\n",
       "      <td id=\"T_4d6c7_row28_col2\" class=\"data row28 col2\" >wait</td>\n",
       "      <td id=\"T_4d6c7_row28_col3\" class=\"data row28 col3\" >service</td>\n",
       "      <td id=\"T_4d6c7_row28_col4\" class=\"data row28 col4\" >investigation</td>\n",
       "      <td id=\"T_4d6c7_row28_col5\" class=\"data row28 col5\" >call</td>\n",
       "      <td id=\"T_4d6c7_row28_col6\" class=\"data row28 col6\" >treatment</td>\n",
       "      <td id=\"T_4d6c7_row28_col7\" class=\"data row28 col7\" >book</td>\n",
       "      <td id=\"T_4d6c7_row28_col8\" class=\"data row28 col8\" >process</td>\n",
       "      <td id=\"T_4d6c7_row28_col9\" class=\"data row28 col9\" >situation</td>\n",
       "      <td id=\"T_4d6c7_row28_col10\" class=\"data row28 col10\" >interview</td>\n",
       "      <td id=\"T_4d6c7_row28_col11\" class=\"data row28 col11\" >discussion</td>\n",
       "      <td id=\"T_4d6c7_row28_col12\" class=\"data row28 col12\" >song</td>\n",
       "      <td id=\"T_4d6c7_row28_col13\" class=\"data row28 col13\" >time</td>\n",
       "    </tr>\n",
       "    <tr>\n",
       "      <th id=\"T_4d6c7_level0_row29\" class=\"row_heading level0 row29\" >30</th>\n",
       "      <td id=\"T_4d6c7_row29_col0\" class=\"data row29 col0\" >journey</td>\n",
       "      <td id=\"T_4d6c7_row29_col1\" class=\"data row29 col1\" >wait</td>\n",
       "      <td id=\"T_4d6c7_row29_col2\" class=\"data row29 col2\" >appointment</td>\n",
       "      <td id=\"T_4d6c7_row29_col3\" class=\"data row29 col3\" >service</td>\n",
       "      <td id=\"T_4d6c7_row29_col4\" class=\"data row29 col4\" >treatment</td>\n",
       "      <td id=\"T_4d6c7_row29_col5\" class=\"data row29 col5\" >book</td>\n",
       "      <td id=\"T_4d6c7_row29_col6\" class=\"data row29 col6\" >ride</td>\n",
       "      <td id=\"T_4d6c7_row29_col7\" class=\"data row29 col7\" >investigation</td>\n",
       "      <td id=\"T_4d6c7_row29_col8\" class=\"data row29 col8\" >call</td>\n",
       "      <td id=\"T_4d6c7_row29_col9\" class=\"data row29 col9\" >visit</td>\n",
       "      <td id=\"T_4d6c7_row29_col10\" class=\"data row29 col10\" >situation</td>\n",
       "      <td id=\"T_4d6c7_row29_col11\" class=\"data row29 col11\" >process</td>\n",
       "      <td id=\"T_4d6c7_row29_col12\" class=\"data row29 col12\" >song</td>\n",
       "      <td id=\"T_4d6c7_row29_col13\" class=\"data row29 col13\" >time</td>\n",
       "    </tr>\n",
       "    <tr>\n",
       "      <th id=\"T_4d6c7_level0_row30\" class=\"row_heading level0 row30\" >31</th>\n",
       "      <td id=\"T_4d6c7_row30_col0\" class=\"data row30 col0\" >journey</td>\n",
       "      <td id=\"T_4d6c7_row30_col1\" class=\"data row30 col1\" >wait</td>\n",
       "      <td id=\"T_4d6c7_row30_col2\" class=\"data row30 col2\" >appointment</td>\n",
       "      <td id=\"T_4d6c7_row30_col3\" class=\"data row30 col3\" >service</td>\n",
       "      <td id=\"T_4d6c7_row30_col4\" class=\"data row30 col4\" >treatment</td>\n",
       "      <td id=\"T_4d6c7_row30_col5\" class=\"data row30 col5\" >ride</td>\n",
       "      <td id=\"T_4d6c7_row30_col6\" class=\"data row30 col6\" >sessions</td>\n",
       "      <td id=\"T_4d6c7_row30_col7\" class=\"data row30 col7\" >investigation</td>\n",
       "      <td id=\"T_4d6c7_row30_col8\" class=\"data row30 col8\" >call</td>\n",
       "      <td id=\"T_4d6c7_row30_col9\" class=\"data row30 col9\" >book</td>\n",
       "      <td id=\"T_4d6c7_row30_col10\" class=\"data row30 col10\" >crew</td>\n",
       "      <td id=\"T_4d6c7_row30_col11\" class=\"data row30 col11\" >situation</td>\n",
       "      <td id=\"T_4d6c7_row30_col12\" class=\"data row30 col12\" >discussion</td>\n",
       "      <td id=\"T_4d6c7_row30_col13\" class=\"data row30 col13\" >song</td>\n",
       "    </tr>\n",
       "    <tr>\n",
       "      <th id=\"T_4d6c7_level0_row31\" class=\"row_heading level0 row31\" >32</th>\n",
       "      <td id=\"T_4d6c7_row31_col0\" class=\"data row31 col0\" >journey</td>\n",
       "      <td id=\"T_4d6c7_row31_col1\" class=\"data row31 col1\" >wait</td>\n",
       "      <td id=\"T_4d6c7_row31_col2\" class=\"data row31 col2\" >appointment</td>\n",
       "      <td id=\"T_4d6c7_row31_col3\" class=\"data row31 col3\" >treatment</td>\n",
       "      <td id=\"T_4d6c7_row31_col4\" class=\"data row31 col4\" >service</td>\n",
       "      <td id=\"T_4d6c7_row31_col5\" class=\"data row31 col5\" >call</td>\n",
       "      <td id=\"T_4d6c7_row31_col6\" class=\"data row31 col6\" >book</td>\n",
       "      <td id=\"T_4d6c7_row31_col7\" class=\"data row31 col7\" >discussion</td>\n",
       "      <td id=\"T_4d6c7_row31_col8\" class=\"data row31 col8\" >investigation</td>\n",
       "      <td id=\"T_4d6c7_row31_col9\" class=\"data row31 col9\" >ride</td>\n",
       "      <td id=\"T_4d6c7_row31_col10\" class=\"data row31 col10\" >sessions</td>\n",
       "      <td id=\"T_4d6c7_row31_col11\" class=\"data row31 col11\" >situation</td>\n",
       "      <td id=\"T_4d6c7_row31_col12\" class=\"data row31 col12\" >song</td>\n",
       "      <td id=\"T_4d6c7_row31_col13\" class=\"data row31 col13\" >session</td>\n",
       "    </tr>\n",
       "    <tr>\n",
       "      <th id=\"T_4d6c7_level0_row32\" class=\"row_heading level0 row32\" >33</th>\n",
       "      <td id=\"T_4d6c7_row32_col0\" class=\"data row32 col0\" >journey</td>\n",
       "      <td id=\"T_4d6c7_row32_col1\" class=\"data row32 col1\" >wait</td>\n",
       "      <td id=\"T_4d6c7_row32_col2\" class=\"data row32 col2\" >appointment</td>\n",
       "      <td id=\"T_4d6c7_row32_col3\" class=\"data row32 col3\" >service</td>\n",
       "      <td id=\"T_4d6c7_row32_col4\" class=\"data row32 col4\" >call</td>\n",
       "      <td id=\"T_4d6c7_row32_col5\" class=\"data row32 col5\" >treatment</td>\n",
       "      <td id=\"T_4d6c7_row32_col6\" class=\"data row32 col6\" >book</td>\n",
       "      <td id=\"T_4d6c7_row32_col7\" class=\"data row32 col7\" >investigation</td>\n",
       "      <td id=\"T_4d6c7_row32_col8\" class=\"data row32 col8\" >sessions</td>\n",
       "      <td id=\"T_4d6c7_row32_col9\" class=\"data row32 col9\" >situation</td>\n",
       "      <td id=\"T_4d6c7_row32_col10\" class=\"data row32 col10\" >ride</td>\n",
       "      <td id=\"T_4d6c7_row32_col11\" class=\"data row32 col11\" >song</td>\n",
       "      <td id=\"T_4d6c7_row32_col12\" class=\"data row32 col12\" >time</td>\n",
       "      <td id=\"T_4d6c7_row32_col13\" class=\"data row32 col13\" >session</td>\n",
       "    </tr>\n",
       "    <tr>\n",
       "      <th id=\"T_4d6c7_level0_row33\" class=\"row_heading level0 row33\" >34</th>\n",
       "      <td id=\"T_4d6c7_row33_col0\" class=\"data row33 col0\" >journey</td>\n",
       "      <td id=\"T_4d6c7_row33_col1\" class=\"data row33 col1\" >wait</td>\n",
       "      <td id=\"T_4d6c7_row33_col2\" class=\"data row33 col2\" >appointment</td>\n",
       "      <td id=\"T_4d6c7_row33_col3\" class=\"data row33 col3\" >service</td>\n",
       "      <td id=\"T_4d6c7_row33_col4\" class=\"data row33 col4\" >call</td>\n",
       "      <td id=\"T_4d6c7_row33_col5\" class=\"data row33 col5\" >investigation</td>\n",
       "      <td id=\"T_4d6c7_row33_col6\" class=\"data row33 col6\" >book</td>\n",
       "      <td id=\"T_4d6c7_row33_col7\" class=\"data row33 col7\" >ride</td>\n",
       "      <td id=\"T_4d6c7_row33_col8\" class=\"data row33 col8\" >situation</td>\n",
       "      <td id=\"T_4d6c7_row33_col9\" class=\"data row33 col9\" >sessions</td>\n",
       "      <td id=\"T_4d6c7_row33_col10\" class=\"data row33 col10\" >song</td>\n",
       "      <td id=\"T_4d6c7_row33_col11\" class=\"data row33 col11\" >treatment</td>\n",
       "      <td id=\"T_4d6c7_row33_col12\" class=\"data row33 col12\" >process</td>\n",
       "      <td id=\"T_4d6c7_row33_col13\" class=\"data row33 col13\" >discussion</td>\n",
       "    </tr>\n",
       "    <tr>\n",
       "      <th id=\"T_4d6c7_level0_row34\" class=\"row_heading level0 row34\" >35</th>\n",
       "      <td id=\"T_4d6c7_row34_col0\" class=\"data row34 col0\" >journey</td>\n",
       "      <td id=\"T_4d6c7_row34_col1\" class=\"data row34 col1\" >wait</td>\n",
       "      <td id=\"T_4d6c7_row34_col2\" class=\"data row34 col2\" >appointment</td>\n",
       "      <td id=\"T_4d6c7_row34_col3\" class=\"data row34 col3\" >service</td>\n",
       "      <td id=\"T_4d6c7_row34_col4\" class=\"data row34 col4\" >investigation</td>\n",
       "      <td id=\"T_4d6c7_row34_col5\" class=\"data row34 col5\" >book</td>\n",
       "      <td id=\"T_4d6c7_row34_col6\" class=\"data row34 col6\" >call</td>\n",
       "      <td id=\"T_4d6c7_row34_col7\" class=\"data row34 col7\" >situation</td>\n",
       "      <td id=\"T_4d6c7_row34_col8\" class=\"data row34 col8\" >discussion</td>\n",
       "      <td id=\"T_4d6c7_row34_col9\" class=\"data row34 col9\" >sessions</td>\n",
       "      <td id=\"T_4d6c7_row34_col10\" class=\"data row34 col10\" >song</td>\n",
       "      <td id=\"T_4d6c7_row34_col11\" class=\"data row34 col11\" >ride</td>\n",
       "      <td id=\"T_4d6c7_row34_col12\" class=\"data row34 col12\" >session</td>\n",
       "      <td id=\"T_4d6c7_row34_col13\" class=\"data row34 col13\" >treatment</td>\n",
       "    </tr>\n",
       "    <tr>\n",
       "      <th id=\"T_4d6c7_level0_row35\" class=\"row_heading level0 row35\" >36</th>\n",
       "      <td id=\"T_4d6c7_row35_col0\" class=\"data row35 col0\" >journey</td>\n",
       "      <td id=\"T_4d6c7_row35_col1\" class=\"data row35 col1\" >appointment</td>\n",
       "      <td id=\"T_4d6c7_row35_col2\" class=\"data row35 col2\" >wait</td>\n",
       "      <td id=\"T_4d6c7_row35_col3\" class=\"data row35 col3\" >service</td>\n",
       "      <td id=\"T_4d6c7_row35_col4\" class=\"data row35 col4\" >call</td>\n",
       "      <td id=\"T_4d6c7_row35_col5\" class=\"data row35 col5\" >song</td>\n",
       "      <td id=\"T_4d6c7_row35_col6\" class=\"data row35 col6\" >book</td>\n",
       "      <td id=\"T_4d6c7_row35_col7\" class=\"data row35 col7\" >investigation</td>\n",
       "      <td id=\"T_4d6c7_row35_col8\" class=\"data row35 col8\" >situation</td>\n",
       "      <td id=\"T_4d6c7_row35_col9\" class=\"data row35 col9\" >ride</td>\n",
       "      <td id=\"T_4d6c7_row35_col10\" class=\"data row35 col10\" >discussion</td>\n",
       "      <td id=\"T_4d6c7_row35_col11\" class=\"data row35 col11\" >treatment</td>\n",
       "      <td id=\"T_4d6c7_row35_col12\" class=\"data row35 col12\" >crew</td>\n",
       "      <td id=\"T_4d6c7_row35_col13\" class=\"data row35 col13\" >sessions</td>\n",
       "    </tr>\n",
       "    <tr>\n",
       "      <th id=\"T_4d6c7_level0_row36\" class=\"row_heading level0 row36\" >37</th>\n",
       "      <td id=\"T_4d6c7_row36_col0\" class=\"data row36 col0\" >journey</td>\n",
       "      <td id=\"T_4d6c7_row36_col1\" class=\"data row36 col1\" >appointment</td>\n",
       "      <td id=\"T_4d6c7_row36_col2\" class=\"data row36 col2\" >wait</td>\n",
       "      <td id=\"T_4d6c7_row36_col3\" class=\"data row36 col3\" >service</td>\n",
       "      <td id=\"T_4d6c7_row36_col4\" class=\"data row36 col4\" >book</td>\n",
       "      <td id=\"T_4d6c7_row36_col5\" class=\"data row36 col5\" >call</td>\n",
       "      <td id=\"T_4d6c7_row36_col6\" class=\"data row36 col6\" >investigation</td>\n",
       "      <td id=\"T_4d6c7_row36_col7\" class=\"data row36 col7\" >song</td>\n",
       "      <td id=\"T_4d6c7_row36_col8\" class=\"data row36 col8\" >situation</td>\n",
       "      <td id=\"T_4d6c7_row36_col9\" class=\"data row36 col9\" >discussion</td>\n",
       "      <td id=\"T_4d6c7_row36_col10\" class=\"data row36 col10\" >treatment</td>\n",
       "      <td id=\"T_4d6c7_row36_col11\" class=\"data row36 col11\" >show</td>\n",
       "      <td id=\"T_4d6c7_row36_col12\" class=\"data row36 col12\" >ride</td>\n",
       "      <td id=\"T_4d6c7_row36_col13\" class=\"data row36 col13\" >session</td>\n",
       "    </tr>\n",
       "    <tr>\n",
       "      <th id=\"T_4d6c7_level0_row37\" class=\"row_heading level0 row37\" >38</th>\n",
       "      <td id=\"T_4d6c7_row37_col0\" class=\"data row37 col0\" >journey</td>\n",
       "      <td id=\"T_4d6c7_row37_col1\" class=\"data row37 col1\" >appointment</td>\n",
       "      <td id=\"T_4d6c7_row37_col2\" class=\"data row37 col2\" >wait</td>\n",
       "      <td id=\"T_4d6c7_row37_col3\" class=\"data row37 col3\" >service</td>\n",
       "      <td id=\"T_4d6c7_row37_col4\" class=\"data row37 col4\" >investigation</td>\n",
       "      <td id=\"T_4d6c7_row37_col5\" class=\"data row37 col5\" >call</td>\n",
       "      <td id=\"T_4d6c7_row37_col6\" class=\"data row37 col6\" >situation</td>\n",
       "      <td id=\"T_4d6c7_row37_col7\" class=\"data row37 col7\" >book</td>\n",
       "      <td id=\"T_4d6c7_row37_col8\" class=\"data row37 col8\" >song</td>\n",
       "      <td id=\"T_4d6c7_row37_col9\" class=\"data row37 col9\" >treatment</td>\n",
       "      <td id=\"T_4d6c7_row37_col10\" class=\"data row37 col10\" >discussion</td>\n",
       "      <td id=\"T_4d6c7_row37_col11\" class=\"data row37 col11\" >sessions</td>\n",
       "      <td id=\"T_4d6c7_row37_col12\" class=\"data row37 col12\" >interview</td>\n",
       "      <td id=\"T_4d6c7_row37_col13\" class=\"data row37 col13\" >session</td>\n",
       "    </tr>\n",
       "    <tr>\n",
       "      <th id=\"T_4d6c7_level0_row38\" class=\"row_heading level0 row38\" >39</th>\n",
       "      <td id=\"T_4d6c7_row38_col0\" class=\"data row38 col0\" >journey</td>\n",
       "      <td id=\"T_4d6c7_row38_col1\" class=\"data row38 col1\" >appointment</td>\n",
       "      <td id=\"T_4d6c7_row38_col2\" class=\"data row38 col2\" >wait</td>\n",
       "      <td id=\"T_4d6c7_row38_col3\" class=\"data row38 col3\" >call</td>\n",
       "      <td id=\"T_4d6c7_row38_col4\" class=\"data row38 col4\" >service</td>\n",
       "      <td id=\"T_4d6c7_row38_col5\" class=\"data row38 col5\" >investigation</td>\n",
       "      <td id=\"T_4d6c7_row38_col6\" class=\"data row38 col6\" >situation</td>\n",
       "      <td id=\"T_4d6c7_row38_col7\" class=\"data row38 col7\" >treatment</td>\n",
       "      <td id=\"T_4d6c7_row38_col8\" class=\"data row38 col8\" >book</td>\n",
       "      <td id=\"T_4d6c7_row38_col9\" class=\"data row38 col9\" >sessions</td>\n",
       "      <td id=\"T_4d6c7_row38_col10\" class=\"data row38 col10\" >song</td>\n",
       "      <td id=\"T_4d6c7_row38_col11\" class=\"data row38 col11\" >ride</td>\n",
       "      <td id=\"T_4d6c7_row38_col12\" class=\"data row38 col12\" >session</td>\n",
       "      <td id=\"T_4d6c7_row38_col13\" class=\"data row38 col13\" >discussion</td>\n",
       "    </tr>\n",
       "    <tr>\n",
       "      <th id=\"T_4d6c7_level0_row39\" class=\"row_heading level0 row39\" >40</th>\n",
       "      <td id=\"T_4d6c7_row39_col0\" class=\"data row39 col0\" >journey</td>\n",
       "      <td id=\"T_4d6c7_row39_col1\" class=\"data row39 col1\" >wait</td>\n",
       "      <td id=\"T_4d6c7_row39_col2\" class=\"data row39 col2\" >appointment</td>\n",
       "      <td id=\"T_4d6c7_row39_col3\" class=\"data row39 col3\" >service</td>\n",
       "      <td id=\"T_4d6c7_row39_col4\" class=\"data row39 col4\" >call</td>\n",
       "      <td id=\"T_4d6c7_row39_col5\" class=\"data row39 col5\" >investigation</td>\n",
       "      <td id=\"T_4d6c7_row39_col6\" class=\"data row39 col6\" >situation</td>\n",
       "      <td id=\"T_4d6c7_row39_col7\" class=\"data row39 col7\" >treatment</td>\n",
       "      <td id=\"T_4d6c7_row39_col8\" class=\"data row39 col8\" >book</td>\n",
       "      <td id=\"T_4d6c7_row39_col9\" class=\"data row39 col9\" >song</td>\n",
       "      <td id=\"T_4d6c7_row39_col10\" class=\"data row39 col10\" >ride</td>\n",
       "      <td id=\"T_4d6c7_row39_col11\" class=\"data row39 col11\" >discussion</td>\n",
       "      <td id=\"T_4d6c7_row39_col12\" class=\"data row39 col12\" >visit</td>\n",
       "      <td id=\"T_4d6c7_row39_col13\" class=\"data row39 col13\" >sessions</td>\n",
       "    </tr>\n",
       "    <tr>\n",
       "      <th id=\"T_4d6c7_level0_row40\" class=\"row_heading level0 row40\" >41</th>\n",
       "      <td id=\"T_4d6c7_row40_col0\" class=\"data row40 col0\" >journey</td>\n",
       "      <td id=\"T_4d6c7_row40_col1\" class=\"data row40 col1\" >appointment</td>\n",
       "      <td id=\"T_4d6c7_row40_col2\" class=\"data row40 col2\" >wait</td>\n",
       "      <td id=\"T_4d6c7_row40_col3\" class=\"data row40 col3\" >investigation</td>\n",
       "      <td id=\"T_4d6c7_row40_col4\" class=\"data row40 col4\" >call</td>\n",
       "      <td id=\"T_4d6c7_row40_col5\" class=\"data row40 col5\" >treatment</td>\n",
       "      <td id=\"T_4d6c7_row40_col6\" class=\"data row40 col6\" >service</td>\n",
       "      <td id=\"T_4d6c7_row40_col7\" class=\"data row40 col7\" >book</td>\n",
       "      <td id=\"T_4d6c7_row40_col8\" class=\"data row40 col8\" >visit</td>\n",
       "      <td id=\"T_4d6c7_row40_col9\" class=\"data row40 col9\" >sessions</td>\n",
       "      <td id=\"T_4d6c7_row40_col10\" class=\"data row40 col10\" >situation</td>\n",
       "      <td id=\"T_4d6c7_row40_col11\" class=\"data row40 col11\" >session</td>\n",
       "      <td id=\"T_4d6c7_row40_col12\" class=\"data row40 col12\" >discussion</td>\n",
       "      <td id=\"T_4d6c7_row40_col13\" class=\"data row40 col13\" >interview</td>\n",
       "    </tr>\n",
       "    <tr>\n",
       "      <th id=\"T_4d6c7_level0_row41\" class=\"row_heading level0 row41\" >42</th>\n",
       "      <td id=\"T_4d6c7_row41_col0\" class=\"data row41 col0\" >journey</td>\n",
       "      <td id=\"T_4d6c7_row41_col1\" class=\"data row41 col1\" >appointment</td>\n",
       "      <td id=\"T_4d6c7_row41_col2\" class=\"data row41 col2\" >wait</td>\n",
       "      <td id=\"T_4d6c7_row41_col3\" class=\"data row41 col3\" >service</td>\n",
       "      <td id=\"T_4d6c7_row41_col4\" class=\"data row41 col4\" >investigation</td>\n",
       "      <td id=\"T_4d6c7_row41_col5\" class=\"data row41 col5\" >treatment</td>\n",
       "      <td id=\"T_4d6c7_row41_col6\" class=\"data row41 col6\" >book</td>\n",
       "      <td id=\"T_4d6c7_row41_col7\" class=\"data row41 col7\" >sessions</td>\n",
       "      <td id=\"T_4d6c7_row41_col8\" class=\"data row41 col8\" >call</td>\n",
       "      <td id=\"T_4d6c7_row41_col9\" class=\"data row41 col9\" >situation</td>\n",
       "      <td id=\"T_4d6c7_row41_col10\" class=\"data row41 col10\" >visit</td>\n",
       "      <td id=\"T_4d6c7_row41_col11\" class=\"data row41 col11\" >discussion</td>\n",
       "      <td id=\"T_4d6c7_row41_col12\" class=\"data row41 col12\" >session</td>\n",
       "      <td id=\"T_4d6c7_row41_col13\" class=\"data row41 col13\" >experience</td>\n",
       "    </tr>\n",
       "    <tr>\n",
       "      <th id=\"T_4d6c7_level0_row42\" class=\"row_heading level0 row42\" >43</th>\n",
       "      <td id=\"T_4d6c7_row42_col0\" class=\"data row42 col0\" >journey</td>\n",
       "      <td id=\"T_4d6c7_row42_col1\" class=\"data row42 col1\" >appointment</td>\n",
       "      <td id=\"T_4d6c7_row42_col2\" class=\"data row42 col2\" >wait</td>\n",
       "      <td id=\"T_4d6c7_row42_col3\" class=\"data row42 col3\" >investigation</td>\n",
       "      <td id=\"T_4d6c7_row42_col4\" class=\"data row42 col4\" >service</td>\n",
       "      <td id=\"T_4d6c7_row42_col5\" class=\"data row42 col5\" >book</td>\n",
       "      <td id=\"T_4d6c7_row42_col6\" class=\"data row42 col6\" >treatment</td>\n",
       "      <td id=\"T_4d6c7_row42_col7\" class=\"data row42 col7\" >call</td>\n",
       "      <td id=\"T_4d6c7_row42_col8\" class=\"data row42 col8\" >sessions</td>\n",
       "      <td id=\"T_4d6c7_row42_col9\" class=\"data row42 col9\" >discussion</td>\n",
       "      <td id=\"T_4d6c7_row42_col10\" class=\"data row42 col10\" >situation</td>\n",
       "      <td id=\"T_4d6c7_row42_col11\" class=\"data row42 col11\" >visit</td>\n",
       "      <td id=\"T_4d6c7_row42_col12\" class=\"data row42 col12\" >interview</td>\n",
       "      <td id=\"T_4d6c7_row42_col13\" class=\"data row42 col13\" >session</td>\n",
       "    </tr>\n",
       "    <tr>\n",
       "      <th id=\"T_4d6c7_level0_row43\" class=\"row_heading level0 row43\" >44</th>\n",
       "      <td id=\"T_4d6c7_row43_col0\" class=\"data row43 col0\" >journey</td>\n",
       "      <td id=\"T_4d6c7_row43_col1\" class=\"data row43 col1\" >appointment</td>\n",
       "      <td id=\"T_4d6c7_row43_col2\" class=\"data row43 col2\" >wait</td>\n",
       "      <td id=\"T_4d6c7_row43_col3\" class=\"data row43 col3\" >investigation</td>\n",
       "      <td id=\"T_4d6c7_row43_col4\" class=\"data row43 col4\" >book</td>\n",
       "      <td id=\"T_4d6c7_row43_col5\" class=\"data row43 col5\" >treatment</td>\n",
       "      <td id=\"T_4d6c7_row43_col6\" class=\"data row43 col6\" >sessions</td>\n",
       "      <td id=\"T_4d6c7_row43_col7\" class=\"data row43 col7\" >service</td>\n",
       "      <td id=\"T_4d6c7_row43_col8\" class=\"data row43 col8\" >visit</td>\n",
       "      <td id=\"T_4d6c7_row43_col9\" class=\"data row43 col9\" >call</td>\n",
       "      <td id=\"T_4d6c7_row43_col10\" class=\"data row43 col10\" >discussion</td>\n",
       "      <td id=\"T_4d6c7_row43_col11\" class=\"data row43 col11\" >situation</td>\n",
       "      <td id=\"T_4d6c7_row43_col12\" class=\"data row43 col12\" >session</td>\n",
       "      <td id=\"T_4d6c7_row43_col13\" class=\"data row43 col13\" >interview</td>\n",
       "    </tr>\n",
       "    <tr>\n",
       "      <th id=\"T_4d6c7_level0_row44\" class=\"row_heading level0 row44\" >45</th>\n",
       "      <td id=\"T_4d6c7_row44_col0\" class=\"data row44 col0\" >journey</td>\n",
       "      <td id=\"T_4d6c7_row44_col1\" class=\"data row44 col1\" >wait</td>\n",
       "      <td id=\"T_4d6c7_row44_col2\" class=\"data row44 col2\" >appointment</td>\n",
       "      <td id=\"T_4d6c7_row44_col3\" class=\"data row44 col3\" >treatment</td>\n",
       "      <td id=\"T_4d6c7_row44_col4\" class=\"data row44 col4\" >book</td>\n",
       "      <td id=\"T_4d6c7_row44_col5\" class=\"data row44 col5\" >investigation</td>\n",
       "      <td id=\"T_4d6c7_row44_col6\" class=\"data row44 col6\" >sessions</td>\n",
       "      <td id=\"T_4d6c7_row44_col7\" class=\"data row44 col7\" >call</td>\n",
       "      <td id=\"T_4d6c7_row44_col8\" class=\"data row44 col8\" >situation</td>\n",
       "      <td id=\"T_4d6c7_row44_col9\" class=\"data row44 col9\" >discussion</td>\n",
       "      <td id=\"T_4d6c7_row44_col10\" class=\"data row44 col10\" >session</td>\n",
       "      <td id=\"T_4d6c7_row44_col11\" class=\"data row44 col11\" >service</td>\n",
       "      <td id=\"T_4d6c7_row44_col12\" class=\"data row44 col12\" >visit</td>\n",
       "      <td id=\"T_4d6c7_row44_col13\" class=\"data row44 col13\" >song</td>\n",
       "    </tr>\n",
       "    <tr>\n",
       "      <th id=\"T_4d6c7_level0_row45\" class=\"row_heading level0 row45\" >46</th>\n",
       "      <td id=\"T_4d6c7_row45_col0\" class=\"data row45 col0\" >journey</td>\n",
       "      <td id=\"T_4d6c7_row45_col1\" class=\"data row45 col1\" >appointment</td>\n",
       "      <td id=\"T_4d6c7_row45_col2\" class=\"data row45 col2\" >wait</td>\n",
       "      <td id=\"T_4d6c7_row45_col3\" class=\"data row45 col3\" >call</td>\n",
       "      <td id=\"T_4d6c7_row45_col4\" class=\"data row45 col4\" >treatment</td>\n",
       "      <td id=\"T_4d6c7_row45_col5\" class=\"data row45 col5\" >investigation</td>\n",
       "      <td id=\"T_4d6c7_row45_col6\" class=\"data row45 col6\" >service</td>\n",
       "      <td id=\"T_4d6c7_row45_col7\" class=\"data row45 col7\" >situation</td>\n",
       "      <td id=\"T_4d6c7_row45_col8\" class=\"data row45 col8\" >visit</td>\n",
       "      <td id=\"T_4d6c7_row45_col9\" class=\"data row45 col9\" >book</td>\n",
       "      <td id=\"T_4d6c7_row45_col10\" class=\"data row45 col10\" >session</td>\n",
       "      <td id=\"T_4d6c7_row45_col11\" class=\"data row45 col11\" >sessions</td>\n",
       "      <td id=\"T_4d6c7_row45_col12\" class=\"data row45 col12\" >discussion</td>\n",
       "      <td id=\"T_4d6c7_row45_col13\" class=\"data row45 col13\" >ride</td>\n",
       "    </tr>\n",
       "    <tr>\n",
       "      <th id=\"T_4d6c7_level0_row46\" class=\"row_heading level0 row46\" >47</th>\n",
       "      <td id=\"T_4d6c7_row46_col0\" class=\"data row46 col0\" >journey</td>\n",
       "      <td id=\"T_4d6c7_row46_col1\" class=\"data row46 col1\" >appointment</td>\n",
       "      <td id=\"T_4d6c7_row46_col2\" class=\"data row46 col2\" >wait</td>\n",
       "      <td id=\"T_4d6c7_row46_col3\" class=\"data row46 col3\" >service</td>\n",
       "      <td id=\"T_4d6c7_row46_col4\" class=\"data row46 col4\" >treatment</td>\n",
       "      <td id=\"T_4d6c7_row46_col5\" class=\"data row46 col5\" >investigation</td>\n",
       "      <td id=\"T_4d6c7_row46_col6\" class=\"data row46 col6\" >call</td>\n",
       "      <td id=\"T_4d6c7_row46_col7\" class=\"data row46 col7\" >sessions</td>\n",
       "      <td id=\"T_4d6c7_row46_col8\" class=\"data row46 col8\" >visit</td>\n",
       "      <td id=\"T_4d6c7_row46_col9\" class=\"data row46 col9\" >session</td>\n",
       "      <td id=\"T_4d6c7_row46_col10\" class=\"data row46 col10\" >crew</td>\n",
       "      <td id=\"T_4d6c7_row46_col11\" class=\"data row46 col11\" >situation</td>\n",
       "      <td id=\"T_4d6c7_row46_col12\" class=\"data row46 col12\" >discussion</td>\n",
       "      <td id=\"T_4d6c7_row46_col13\" class=\"data row46 col13\" >book</td>\n",
       "    </tr>\n",
       "    <tr>\n",
       "      <th id=\"T_4d6c7_level0_row47\" class=\"row_heading level0 row47\" >48</th>\n",
       "      <td id=\"T_4d6c7_row47_col0\" class=\"data row47 col0\" >journey</td>\n",
       "      <td id=\"T_4d6c7_row47_col1\" class=\"data row47 col1\" >wait</td>\n",
       "      <td id=\"T_4d6c7_row47_col2\" class=\"data row47 col2\" >appointment</td>\n",
       "      <td id=\"T_4d6c7_row47_col3\" class=\"data row47 col3\" >service</td>\n",
       "      <td id=\"T_4d6c7_row47_col4\" class=\"data row47 col4\" >call</td>\n",
       "      <td id=\"T_4d6c7_row47_col5\" class=\"data row47 col5\" >investigation</td>\n",
       "      <td id=\"T_4d6c7_row47_col6\" class=\"data row47 col6\" >treatment</td>\n",
       "      <td id=\"T_4d6c7_row47_col7\" class=\"data row47 col7\" >sessions</td>\n",
       "      <td id=\"T_4d6c7_row47_col8\" class=\"data row47 col8\" >discussion</td>\n",
       "      <td id=\"T_4d6c7_row47_col9\" class=\"data row47 col9\" >visit</td>\n",
       "      <td id=\"T_4d6c7_row47_col10\" class=\"data row47 col10\" >book</td>\n",
       "      <td id=\"T_4d6c7_row47_col11\" class=\"data row47 col11\" >session</td>\n",
       "      <td id=\"T_4d6c7_row47_col12\" class=\"data row47 col12\" >situation</td>\n",
       "      <td id=\"T_4d6c7_row47_col13\" class=\"data row47 col13\" >interview</td>\n",
       "    </tr>\n",
       "    <tr>\n",
       "      <th id=\"T_4d6c7_level0_row48\" class=\"row_heading level0 row48\" >49</th>\n",
       "      <td id=\"T_4d6c7_row48_col0\" class=\"data row48 col0\" >journey</td>\n",
       "      <td id=\"T_4d6c7_row48_col1\" class=\"data row48 col1\" >wait</td>\n",
       "      <td id=\"T_4d6c7_row48_col2\" class=\"data row48 col2\" >appointment</td>\n",
       "      <td id=\"T_4d6c7_row48_col3\" class=\"data row48 col3\" >investigation</td>\n",
       "      <td id=\"T_4d6c7_row48_col4\" class=\"data row48 col4\" >discussion</td>\n",
       "      <td id=\"T_4d6c7_row48_col5\" class=\"data row48 col5\" >call</td>\n",
       "      <td id=\"T_4d6c7_row48_col6\" class=\"data row48 col6\" >sessions</td>\n",
       "      <td id=\"T_4d6c7_row48_col7\" class=\"data row48 col7\" >treatment</td>\n",
       "      <td id=\"T_4d6c7_row48_col8\" class=\"data row48 col8\" >book</td>\n",
       "      <td id=\"T_4d6c7_row48_col9\" class=\"data row48 col9\" >visit</td>\n",
       "      <td id=\"T_4d6c7_row48_col10\" class=\"data row48 col10\" >session</td>\n",
       "      <td id=\"T_4d6c7_row48_col11\" class=\"data row48 col11\" >service</td>\n",
       "      <td id=\"T_4d6c7_row48_col12\" class=\"data row48 col12\" >situation</td>\n",
       "      <td id=\"T_4d6c7_row48_col13\" class=\"data row48 col13\" >interview</td>\n",
       "    </tr>\n",
       "    <tr>\n",
       "      <th id=\"T_4d6c7_level0_row49\" class=\"row_heading level0 row49\" >50</th>\n",
       "      <td id=\"T_4d6c7_row49_col0\" class=\"data row49 col0\" >journey</td>\n",
       "      <td id=\"T_4d6c7_row49_col1\" class=\"data row49 col1\" >appointment</td>\n",
       "      <td id=\"T_4d6c7_row49_col2\" class=\"data row49 col2\" >wait</td>\n",
       "      <td id=\"T_4d6c7_row49_col3\" class=\"data row49 col3\" >call</td>\n",
       "      <td id=\"T_4d6c7_row49_col4\" class=\"data row49 col4\" >service</td>\n",
       "      <td id=\"T_4d6c7_row49_col5\" class=\"data row49 col5\" >investigation</td>\n",
       "      <td id=\"T_4d6c7_row49_col6\" class=\"data row49 col6\" >visit</td>\n",
       "      <td id=\"T_4d6c7_row49_col7\" class=\"data row49 col7\" >discussion</td>\n",
       "      <td id=\"T_4d6c7_row49_col8\" class=\"data row49 col8\" >treatment</td>\n",
       "      <td id=\"T_4d6c7_row49_col9\" class=\"data row49 col9\" >sessions</td>\n",
       "      <td id=\"T_4d6c7_row49_col10\" class=\"data row49 col10\" >book</td>\n",
       "      <td id=\"T_4d6c7_row49_col11\" class=\"data row49 col11\" >session</td>\n",
       "      <td id=\"T_4d6c7_row49_col12\" class=\"data row49 col12\" >situation</td>\n",
       "      <td id=\"T_4d6c7_row49_col13\" class=\"data row49 col13\" >ride</td>\n",
       "    </tr>\n",
       "    <tr>\n",
       "      <th id=\"T_4d6c7_level0_row50\" class=\"row_heading level0 row50\" >51</th>\n",
       "      <td id=\"T_4d6c7_row50_col0\" class=\"data row50 col0\" >journey</td>\n",
       "      <td id=\"T_4d6c7_row50_col1\" class=\"data row50 col1\" >appointment</td>\n",
       "      <td id=\"T_4d6c7_row50_col2\" class=\"data row50 col2\" >wait</td>\n",
       "      <td id=\"T_4d6c7_row50_col3\" class=\"data row50 col3\" >call</td>\n",
       "      <td id=\"T_4d6c7_row50_col4\" class=\"data row50 col4\" >treatment</td>\n",
       "      <td id=\"T_4d6c7_row50_col5\" class=\"data row50 col5\" >service</td>\n",
       "      <td id=\"T_4d6c7_row50_col6\" class=\"data row50 col6\" >investigation</td>\n",
       "      <td id=\"T_4d6c7_row50_col7\" class=\"data row50 col7\" >visit</td>\n",
       "      <td id=\"T_4d6c7_row50_col8\" class=\"data row50 col8\" >discussion</td>\n",
       "      <td id=\"T_4d6c7_row50_col9\" class=\"data row50 col9\" >sessions</td>\n",
       "      <td id=\"T_4d6c7_row50_col10\" class=\"data row50 col10\" >situation</td>\n",
       "      <td id=\"T_4d6c7_row50_col11\" class=\"data row50 col11\" >session</td>\n",
       "      <td id=\"T_4d6c7_row50_col12\" class=\"data row50 col12\" >book</td>\n",
       "      <td id=\"T_4d6c7_row50_col13\" class=\"data row50 col13\" >ride</td>\n",
       "    </tr>\n",
       "    <tr>\n",
       "      <th id=\"T_4d6c7_level0_row51\" class=\"row_heading level0 row51\" >52</th>\n",
       "      <td id=\"T_4d6c7_row51_col0\" class=\"data row51 col0\" >journey</td>\n",
       "      <td id=\"T_4d6c7_row51_col1\" class=\"data row51 col1\" >wait</td>\n",
       "      <td id=\"T_4d6c7_row51_col2\" class=\"data row51 col2\" >appointment</td>\n",
       "      <td id=\"T_4d6c7_row51_col3\" class=\"data row51 col3\" >treatment</td>\n",
       "      <td id=\"T_4d6c7_row51_col4\" class=\"data row51 col4\" >sessions</td>\n",
       "      <td id=\"T_4d6c7_row51_col5\" class=\"data row51 col5\" >discussion</td>\n",
       "      <td id=\"T_4d6c7_row51_col6\" class=\"data row51 col6\" >investigation</td>\n",
       "      <td id=\"T_4d6c7_row51_col7\" class=\"data row51 col7\" >call</td>\n",
       "      <td id=\"T_4d6c7_row51_col8\" class=\"data row51 col8\" >visit</td>\n",
       "      <td id=\"T_4d6c7_row51_col9\" class=\"data row51 col9\" >service</td>\n",
       "      <td id=\"T_4d6c7_row51_col10\" class=\"data row51 col10\" >session</td>\n",
       "      <td id=\"T_4d6c7_row51_col11\" class=\"data row51 col11\" >situation</td>\n",
       "      <td id=\"T_4d6c7_row51_col12\" class=\"data row51 col12\" >book</td>\n",
       "      <td id=\"T_4d6c7_row51_col13\" class=\"data row51 col13\" >ride</td>\n",
       "    </tr>\n",
       "    <tr>\n",
       "      <th id=\"T_4d6c7_level0_row52\" class=\"row_heading level0 row52\" >53</th>\n",
       "      <td id=\"T_4d6c7_row52_col0\" class=\"data row52 col0\" >journey</td>\n",
       "      <td id=\"T_4d6c7_row52_col1\" class=\"data row52 col1\" >wait</td>\n",
       "      <td id=\"T_4d6c7_row52_col2\" class=\"data row52 col2\" >appointment</td>\n",
       "      <td id=\"T_4d6c7_row52_col3\" class=\"data row52 col3\" >investigation</td>\n",
       "      <td id=\"T_4d6c7_row52_col4\" class=\"data row52 col4\" >service</td>\n",
       "      <td id=\"T_4d6c7_row52_col5\" class=\"data row52 col5\" >treatment</td>\n",
       "      <td id=\"T_4d6c7_row52_col6\" class=\"data row52 col6\" >discussion</td>\n",
       "      <td id=\"T_4d6c7_row52_col7\" class=\"data row52 col7\" >sessions</td>\n",
       "      <td id=\"T_4d6c7_row52_col8\" class=\"data row52 col8\" >call</td>\n",
       "      <td id=\"T_4d6c7_row52_col9\" class=\"data row52 col9\" >session</td>\n",
       "      <td id=\"T_4d6c7_row52_col10\" class=\"data row52 col10\" >visit</td>\n",
       "      <td id=\"T_4d6c7_row52_col11\" class=\"data row52 col11\" >situation</td>\n",
       "      <td id=\"T_4d6c7_row52_col12\" class=\"data row52 col12\" >crew</td>\n",
       "      <td id=\"T_4d6c7_row52_col13\" class=\"data row52 col13\" >ride</td>\n",
       "    </tr>\n",
       "    <tr>\n",
       "      <th id=\"T_4d6c7_level0_row53\" class=\"row_heading level0 row53\" >54</th>\n",
       "      <td id=\"T_4d6c7_row53_col0\" class=\"data row53 col0\" >journey</td>\n",
       "      <td id=\"T_4d6c7_row53_col1\" class=\"data row53 col1\" >wait</td>\n",
       "      <td id=\"T_4d6c7_row53_col2\" class=\"data row53 col2\" >appointment</td>\n",
       "      <td id=\"T_4d6c7_row53_col3\" class=\"data row53 col3\" >investigation</td>\n",
       "      <td id=\"T_4d6c7_row53_col4\" class=\"data row53 col4\" >discussion</td>\n",
       "      <td id=\"T_4d6c7_row53_col5\" class=\"data row53 col5\" >service</td>\n",
       "      <td id=\"T_4d6c7_row53_col6\" class=\"data row53 col6\" >sessions</td>\n",
       "      <td id=\"T_4d6c7_row53_col7\" class=\"data row53 col7\" >treatment</td>\n",
       "      <td id=\"T_4d6c7_row53_col8\" class=\"data row53 col8\" >call</td>\n",
       "      <td id=\"T_4d6c7_row53_col9\" class=\"data row53 col9\" >session</td>\n",
       "      <td id=\"T_4d6c7_row53_col10\" class=\"data row53 col10\" >visit</td>\n",
       "      <td id=\"T_4d6c7_row53_col11\" class=\"data row53 col11\" >situation</td>\n",
       "      <td id=\"T_4d6c7_row53_col12\" class=\"data row53 col12\" >interview</td>\n",
       "      <td id=\"T_4d6c7_row53_col13\" class=\"data row53 col13\" >ride</td>\n",
       "    </tr>\n",
       "    <tr>\n",
       "      <th id=\"T_4d6c7_level0_row54\" class=\"row_heading level0 row54\" >55</th>\n",
       "      <td id=\"T_4d6c7_row54_col0\" class=\"data row54 col0\" >journey</td>\n",
       "      <td id=\"T_4d6c7_row54_col1\" class=\"data row54 col1\" >wait</td>\n",
       "      <td id=\"T_4d6c7_row54_col2\" class=\"data row54 col2\" >appointment</td>\n",
       "      <td id=\"T_4d6c7_row54_col3\" class=\"data row54 col3\" >service</td>\n",
       "      <td id=\"T_4d6c7_row54_col4\" class=\"data row54 col4\" >investigation</td>\n",
       "      <td id=\"T_4d6c7_row54_col5\" class=\"data row54 col5\" >discussion</td>\n",
       "      <td id=\"T_4d6c7_row54_col6\" class=\"data row54 col6\" >treatment</td>\n",
       "      <td id=\"T_4d6c7_row54_col7\" class=\"data row54 col7\" >sessions</td>\n",
       "      <td id=\"T_4d6c7_row54_col8\" class=\"data row54 col8\" >call</td>\n",
       "      <td id=\"T_4d6c7_row54_col9\" class=\"data row54 col9\" >visit</td>\n",
       "      <td id=\"T_4d6c7_row54_col10\" class=\"data row54 col10\" >situation</td>\n",
       "      <td id=\"T_4d6c7_row54_col11\" class=\"data row54 col11\" >session</td>\n",
       "      <td id=\"T_4d6c7_row54_col12\" class=\"data row54 col12\" >ride</td>\n",
       "      <td id=\"T_4d6c7_row54_col13\" class=\"data row54 col13\" >interview</td>\n",
       "    </tr>\n",
       "    <tr>\n",
       "      <th id=\"T_4d6c7_level0_row55\" class=\"row_heading level0 row55\" >56</th>\n",
       "      <td id=\"T_4d6c7_row55_col0\" class=\"data row55 col0\" >journey</td>\n",
       "      <td id=\"T_4d6c7_row55_col1\" class=\"data row55 col1\" >wait</td>\n",
       "      <td id=\"T_4d6c7_row55_col2\" class=\"data row55 col2\" >appointment</td>\n",
       "      <td id=\"T_4d6c7_row55_col3\" class=\"data row55 col3\" >investigation</td>\n",
       "      <td id=\"T_4d6c7_row55_col4\" class=\"data row55 col4\" >service</td>\n",
       "      <td id=\"T_4d6c7_row55_col5\" class=\"data row55 col5\" >discussion</td>\n",
       "      <td id=\"T_4d6c7_row55_col6\" class=\"data row55 col6\" >treatment</td>\n",
       "      <td id=\"T_4d6c7_row55_col7\" class=\"data row55 col7\" >call</td>\n",
       "      <td id=\"T_4d6c7_row55_col8\" class=\"data row55 col8\" >visit</td>\n",
       "      <td id=\"T_4d6c7_row55_col9\" class=\"data row55 col9\" >situation</td>\n",
       "      <td id=\"T_4d6c7_row55_col10\" class=\"data row55 col10\" >sessions</td>\n",
       "      <td id=\"T_4d6c7_row55_col11\" class=\"data row55 col11\" >session</td>\n",
       "      <td id=\"T_4d6c7_row55_col12\" class=\"data row55 col12\" >interview</td>\n",
       "      <td id=\"T_4d6c7_row55_col13\" class=\"data row55 col13\" >book</td>\n",
       "    </tr>\n",
       "    <tr>\n",
       "      <th id=\"T_4d6c7_level0_row56\" class=\"row_heading level0 row56\" >57</th>\n",
       "      <td id=\"T_4d6c7_row56_col0\" class=\"data row56 col0\" >journey</td>\n",
       "      <td id=\"T_4d6c7_row56_col1\" class=\"data row56 col1\" >wait</td>\n",
       "      <td id=\"T_4d6c7_row56_col2\" class=\"data row56 col2\" >appointment</td>\n",
       "      <td id=\"T_4d6c7_row56_col3\" class=\"data row56 col3\" >investigation</td>\n",
       "      <td id=\"T_4d6c7_row56_col4\" class=\"data row56 col4\" >discussion</td>\n",
       "      <td id=\"T_4d6c7_row56_col5\" class=\"data row56 col5\" >call</td>\n",
       "      <td id=\"T_4d6c7_row56_col6\" class=\"data row56 col6\" >service</td>\n",
       "      <td id=\"T_4d6c7_row56_col7\" class=\"data row56 col7\" >treatment</td>\n",
       "      <td id=\"T_4d6c7_row56_col8\" class=\"data row56 col8\" >situation</td>\n",
       "      <td id=\"T_4d6c7_row56_col9\" class=\"data row56 col9\" >sessions</td>\n",
       "      <td id=\"T_4d6c7_row56_col10\" class=\"data row56 col10\" >visit</td>\n",
       "      <td id=\"T_4d6c7_row56_col11\" class=\"data row56 col11\" >interview</td>\n",
       "      <td id=\"T_4d6c7_row56_col12\" class=\"data row56 col12\" >session</td>\n",
       "      <td id=\"T_4d6c7_row56_col13\" class=\"data row56 col13\" >book</td>\n",
       "    </tr>\n",
       "    <tr>\n",
       "      <th id=\"T_4d6c7_level0_row57\" class=\"row_heading level0 row57\" >58</th>\n",
       "      <td id=\"T_4d6c7_row57_col0\" class=\"data row57 col0\" >journey</td>\n",
       "      <td id=\"T_4d6c7_row57_col1\" class=\"data row57 col1\" >wait</td>\n",
       "      <td id=\"T_4d6c7_row57_col2\" class=\"data row57 col2\" >appointment</td>\n",
       "      <td id=\"T_4d6c7_row57_col3\" class=\"data row57 col3\" >service</td>\n",
       "      <td id=\"T_4d6c7_row57_col4\" class=\"data row57 col4\" >investigation</td>\n",
       "      <td id=\"T_4d6c7_row57_col5\" class=\"data row57 col5\" >call</td>\n",
       "      <td id=\"T_4d6c7_row57_col6\" class=\"data row57 col6\" >treatment</td>\n",
       "      <td id=\"T_4d6c7_row57_col7\" class=\"data row57 col7\" >discussion</td>\n",
       "      <td id=\"T_4d6c7_row57_col8\" class=\"data row57 col8\" >situation</td>\n",
       "      <td id=\"T_4d6c7_row57_col9\" class=\"data row57 col9\" >visit</td>\n",
       "      <td id=\"T_4d6c7_row57_col10\" class=\"data row57 col10\" >sessions</td>\n",
       "      <td id=\"T_4d6c7_row57_col11\" class=\"data row57 col11\" >interview</td>\n",
       "      <td id=\"T_4d6c7_row57_col12\" class=\"data row57 col12\" >book</td>\n",
       "      <td id=\"T_4d6c7_row57_col13\" class=\"data row57 col13\" >session</td>\n",
       "    </tr>\n",
       "    <tr>\n",
       "      <th id=\"T_4d6c7_level0_row58\" class=\"row_heading level0 row58\" >59</th>\n",
       "      <td id=\"T_4d6c7_row58_col0\" class=\"data row58 col0\" >journey</td>\n",
       "      <td id=\"T_4d6c7_row58_col1\" class=\"data row58 col1\" >wait</td>\n",
       "      <td id=\"T_4d6c7_row58_col2\" class=\"data row58 col2\" >appointment</td>\n",
       "      <td id=\"T_4d6c7_row58_col3\" class=\"data row58 col3\" >call</td>\n",
       "      <td id=\"T_4d6c7_row58_col4\" class=\"data row58 col4\" >investigation</td>\n",
       "      <td id=\"T_4d6c7_row58_col5\" class=\"data row58 col5\" >service</td>\n",
       "      <td id=\"T_4d6c7_row58_col6\" class=\"data row58 col6\" >treatment</td>\n",
       "      <td id=\"T_4d6c7_row58_col7\" class=\"data row58 col7\" >situation</td>\n",
       "      <td id=\"T_4d6c7_row58_col8\" class=\"data row58 col8\" >discussion</td>\n",
       "      <td id=\"T_4d6c7_row58_col9\" class=\"data row58 col9\" >sessions</td>\n",
       "      <td id=\"T_4d6c7_row58_col10\" class=\"data row58 col10\" >visit</td>\n",
       "      <td id=\"T_4d6c7_row58_col11\" class=\"data row58 col11\" >interview</td>\n",
       "      <td id=\"T_4d6c7_row58_col12\" class=\"data row58 col12\" >book</td>\n",
       "      <td id=\"T_4d6c7_row58_col13\" class=\"data row58 col13\" >ride</td>\n",
       "    </tr>\n",
       "    <tr>\n",
       "      <th id=\"T_4d6c7_level0_row59\" class=\"row_heading level0 row59\" >60</th>\n",
       "      <td id=\"T_4d6c7_row59_col0\" class=\"data row59 col0\" >journey</td>\n",
       "      <td id=\"T_4d6c7_row59_col1\" class=\"data row59 col1\" >wait</td>\n",
       "      <td id=\"T_4d6c7_row59_col2\" class=\"data row59 col2\" >appointment</td>\n",
       "      <td id=\"T_4d6c7_row59_col3\" class=\"data row59 col3\" >call</td>\n",
       "      <td id=\"T_4d6c7_row59_col4\" class=\"data row59 col4\" >investigation</td>\n",
       "      <td id=\"T_4d6c7_row59_col5\" class=\"data row59 col5\" >treatment</td>\n",
       "      <td id=\"T_4d6c7_row59_col6\" class=\"data row59 col6\" >service</td>\n",
       "      <td id=\"T_4d6c7_row59_col7\" class=\"data row59 col7\" >discussion</td>\n",
       "      <td id=\"T_4d6c7_row59_col8\" class=\"data row59 col8\" >sessions</td>\n",
       "      <td id=\"T_4d6c7_row59_col9\" class=\"data row59 col9\" >situation</td>\n",
       "      <td id=\"T_4d6c7_row59_col10\" class=\"data row59 col10\" >interview</td>\n",
       "      <td id=\"T_4d6c7_row59_col11\" class=\"data row59 col11\" >visit</td>\n",
       "      <td id=\"T_4d6c7_row59_col12\" class=\"data row59 col12\" >book</td>\n",
       "      <td id=\"T_4d6c7_row59_col13\" class=\"data row59 col13\" >session</td>\n",
       "    </tr>\n",
       "    <tr>\n",
       "      <th id=\"T_4d6c7_level0_row60\" class=\"row_heading level0 row60\" >61</th>\n",
       "      <td id=\"T_4d6c7_row60_col0\" class=\"data row60 col0\" >journey</td>\n",
       "      <td id=\"T_4d6c7_row60_col1\" class=\"data row60 col1\" >wait</td>\n",
       "      <td id=\"T_4d6c7_row60_col2\" class=\"data row60 col2\" >appointment</td>\n",
       "      <td id=\"T_4d6c7_row60_col3\" class=\"data row60 col3\" >investigation</td>\n",
       "      <td id=\"T_4d6c7_row60_col4\" class=\"data row60 col4\" >call</td>\n",
       "      <td id=\"T_4d6c7_row60_col5\" class=\"data row60 col5\" >treatment</td>\n",
       "      <td id=\"T_4d6c7_row60_col6\" class=\"data row60 col6\" >discussion</td>\n",
       "      <td id=\"T_4d6c7_row60_col7\" class=\"data row60 col7\" >sessions</td>\n",
       "      <td id=\"T_4d6c7_row60_col8\" class=\"data row60 col8\" >service</td>\n",
       "      <td id=\"T_4d6c7_row60_col9\" class=\"data row60 col9\" >situation</td>\n",
       "      <td id=\"T_4d6c7_row60_col10\" class=\"data row60 col10\" >visit</td>\n",
       "      <td id=\"T_4d6c7_row60_col11\" class=\"data row60 col11\" >book</td>\n",
       "      <td id=\"T_4d6c7_row60_col12\" class=\"data row60 col12\" >interview</td>\n",
       "      <td id=\"T_4d6c7_row60_col13\" class=\"data row60 col13\" >session</td>\n",
       "    </tr>\n",
       "    <tr>\n",
       "      <th id=\"T_4d6c7_level0_row61\" class=\"row_heading level0 row61\" >62</th>\n",
       "      <td id=\"T_4d6c7_row61_col0\" class=\"data row61 col0\" >journey</td>\n",
       "      <td id=\"T_4d6c7_row61_col1\" class=\"data row61 col1\" >appointment</td>\n",
       "      <td id=\"T_4d6c7_row61_col2\" class=\"data row61 col2\" >wait</td>\n",
       "      <td id=\"T_4d6c7_row61_col3\" class=\"data row61 col3\" >call</td>\n",
       "      <td id=\"T_4d6c7_row61_col4\" class=\"data row61 col4\" >investigation</td>\n",
       "      <td id=\"T_4d6c7_row61_col5\" class=\"data row61 col5\" >treatment</td>\n",
       "      <td id=\"T_4d6c7_row61_col6\" class=\"data row61 col6\" >visit</td>\n",
       "      <td id=\"T_4d6c7_row61_col7\" class=\"data row61 col7\" >sessions</td>\n",
       "      <td id=\"T_4d6c7_row61_col8\" class=\"data row61 col8\" >discussion</td>\n",
       "      <td id=\"T_4d6c7_row61_col9\" class=\"data row61 col9\" >service</td>\n",
       "      <td id=\"T_4d6c7_row61_col10\" class=\"data row61 col10\" >interview</td>\n",
       "      <td id=\"T_4d6c7_row61_col11\" class=\"data row61 col11\" >session</td>\n",
       "      <td id=\"T_4d6c7_row61_col12\" class=\"data row61 col12\" >situation</td>\n",
       "      <td id=\"T_4d6c7_row61_col13\" class=\"data row61 col13\" >book</td>\n",
       "    </tr>\n",
       "    <tr>\n",
       "      <th id=\"T_4d6c7_level0_row62\" class=\"row_heading level0 row62\" >63</th>\n",
       "      <td id=\"T_4d6c7_row62_col0\" class=\"data row62 col0\" >journey</td>\n",
       "      <td id=\"T_4d6c7_row62_col1\" class=\"data row62 col1\" >wait</td>\n",
       "      <td id=\"T_4d6c7_row62_col2\" class=\"data row62 col2\" >appointment</td>\n",
       "      <td id=\"T_4d6c7_row62_col3\" class=\"data row62 col3\" >call</td>\n",
       "      <td id=\"T_4d6c7_row62_col4\" class=\"data row62 col4\" >investigation</td>\n",
       "      <td id=\"T_4d6c7_row62_col5\" class=\"data row62 col5\" >treatment</td>\n",
       "      <td id=\"T_4d6c7_row62_col6\" class=\"data row62 col6\" >service</td>\n",
       "      <td id=\"T_4d6c7_row62_col7\" class=\"data row62 col7\" >visit</td>\n",
       "      <td id=\"T_4d6c7_row62_col8\" class=\"data row62 col8\" >sessions</td>\n",
       "      <td id=\"T_4d6c7_row62_col9\" class=\"data row62 col9\" >discussion</td>\n",
       "      <td id=\"T_4d6c7_row62_col10\" class=\"data row62 col10\" >interview</td>\n",
       "      <td id=\"T_4d6c7_row62_col11\" class=\"data row62 col11\" >situation</td>\n",
       "      <td id=\"T_4d6c7_row62_col12\" class=\"data row62 col12\" >book</td>\n",
       "      <td id=\"T_4d6c7_row62_col13\" class=\"data row62 col13\" >session</td>\n",
       "    </tr>\n",
       "    <tr>\n",
       "      <th id=\"T_4d6c7_level0_row63\" class=\"row_heading level0 row63\" >64</th>\n",
       "      <td id=\"T_4d6c7_row63_col0\" class=\"data row63 col0\" >journey</td>\n",
       "      <td id=\"T_4d6c7_row63_col1\" class=\"data row63 col1\" >wait</td>\n",
       "      <td id=\"T_4d6c7_row63_col2\" class=\"data row63 col2\" >appointment</td>\n",
       "      <td id=\"T_4d6c7_row63_col3\" class=\"data row63 col3\" >treatment</td>\n",
       "      <td id=\"T_4d6c7_row63_col4\" class=\"data row63 col4\" >call</td>\n",
       "      <td id=\"T_4d6c7_row63_col5\" class=\"data row63 col5\" >investigation</td>\n",
       "      <td id=\"T_4d6c7_row63_col6\" class=\"data row63 col6\" >service</td>\n",
       "      <td id=\"T_4d6c7_row63_col7\" class=\"data row63 col7\" >discussion</td>\n",
       "      <td id=\"T_4d6c7_row63_col8\" class=\"data row63 col8\" >sessions</td>\n",
       "      <td id=\"T_4d6c7_row63_col9\" class=\"data row63 col9\" >visit</td>\n",
       "      <td id=\"T_4d6c7_row63_col10\" class=\"data row63 col10\" >situation</td>\n",
       "      <td id=\"T_4d6c7_row63_col11\" class=\"data row63 col11\" >session</td>\n",
       "      <td id=\"T_4d6c7_row63_col12\" class=\"data row63 col12\" >book</td>\n",
       "      <td id=\"T_4d6c7_row63_col13\" class=\"data row63 col13\" >interview</td>\n",
       "    </tr>\n",
       "    <tr>\n",
       "      <th id=\"T_4d6c7_level0_row64\" class=\"row_heading level0 row64\" >65</th>\n",
       "      <td id=\"T_4d6c7_row64_col0\" class=\"data row64 col0\" >journey</td>\n",
       "      <td id=\"T_4d6c7_row64_col1\" class=\"data row64 col1\" >wait</td>\n",
       "      <td id=\"T_4d6c7_row64_col2\" class=\"data row64 col2\" >appointment</td>\n",
       "      <td id=\"T_4d6c7_row64_col3\" class=\"data row64 col3\" >investigation</td>\n",
       "      <td id=\"T_4d6c7_row64_col4\" class=\"data row64 col4\" >treatment</td>\n",
       "      <td id=\"T_4d6c7_row64_col5\" class=\"data row64 col5\" >call</td>\n",
       "      <td id=\"T_4d6c7_row64_col6\" class=\"data row64 col6\" >discussion</td>\n",
       "      <td id=\"T_4d6c7_row64_col7\" class=\"data row64 col7\" >service</td>\n",
       "      <td id=\"T_4d6c7_row64_col8\" class=\"data row64 col8\" >sessions</td>\n",
       "      <td id=\"T_4d6c7_row64_col9\" class=\"data row64 col9\" >visit</td>\n",
       "      <td id=\"T_4d6c7_row64_col10\" class=\"data row64 col10\" >situation</td>\n",
       "      <td id=\"T_4d6c7_row64_col11\" class=\"data row64 col11\" >session</td>\n",
       "      <td id=\"T_4d6c7_row64_col12\" class=\"data row64 col12\" >interview</td>\n",
       "      <td id=\"T_4d6c7_row64_col13\" class=\"data row64 col13\" >book</td>\n",
       "    </tr>\n",
       "    <tr>\n",
       "      <th id=\"T_4d6c7_level0_row65\" class=\"row_heading level0 row65\" >66</th>\n",
       "      <td id=\"T_4d6c7_row65_col0\" class=\"data row65 col0\" >journey</td>\n",
       "      <td id=\"T_4d6c7_row65_col1\" class=\"data row65 col1\" >wait</td>\n",
       "      <td id=\"T_4d6c7_row65_col2\" class=\"data row65 col2\" >appointment</td>\n",
       "      <td id=\"T_4d6c7_row65_col3\" class=\"data row65 col3\" >call</td>\n",
       "      <td id=\"T_4d6c7_row65_col4\" class=\"data row65 col4\" >investigation</td>\n",
       "      <td id=\"T_4d6c7_row65_col5\" class=\"data row65 col5\" >treatment</td>\n",
       "      <td id=\"T_4d6c7_row65_col6\" class=\"data row65 col6\" >service</td>\n",
       "      <td id=\"T_4d6c7_row65_col7\" class=\"data row65 col7\" >discussion</td>\n",
       "      <td id=\"T_4d6c7_row65_col8\" class=\"data row65 col8\" >sessions</td>\n",
       "      <td id=\"T_4d6c7_row65_col9\" class=\"data row65 col9\" >visit</td>\n",
       "      <td id=\"T_4d6c7_row65_col10\" class=\"data row65 col10\" >session</td>\n",
       "      <td id=\"T_4d6c7_row65_col11\" class=\"data row65 col11\" >situation</td>\n",
       "      <td id=\"T_4d6c7_row65_col12\" class=\"data row65 col12\" >book</td>\n",
       "      <td id=\"T_4d6c7_row65_col13\" class=\"data row65 col13\" >song</td>\n",
       "    </tr>\n",
       "    <tr>\n",
       "      <th id=\"T_4d6c7_level0_row66\" class=\"row_heading level0 row66\" >67</th>\n",
       "      <td id=\"T_4d6c7_row66_col0\" class=\"data row66 col0\" >journey</td>\n",
       "      <td id=\"T_4d6c7_row66_col1\" class=\"data row66 col1\" >wait</td>\n",
       "      <td id=\"T_4d6c7_row66_col2\" class=\"data row66 col2\" >appointment</td>\n",
       "      <td id=\"T_4d6c7_row66_col3\" class=\"data row66 col3\" >call</td>\n",
       "      <td id=\"T_4d6c7_row66_col4\" class=\"data row66 col4\" >service</td>\n",
       "      <td id=\"T_4d6c7_row66_col5\" class=\"data row66 col5\" >investigation</td>\n",
       "      <td id=\"T_4d6c7_row66_col6\" class=\"data row66 col6\" >treatment</td>\n",
       "      <td id=\"T_4d6c7_row66_col7\" class=\"data row66 col7\" >visit</td>\n",
       "      <td id=\"T_4d6c7_row66_col8\" class=\"data row66 col8\" >sessions</td>\n",
       "      <td id=\"T_4d6c7_row66_col9\" class=\"data row66 col9\" >discussion</td>\n",
       "      <td id=\"T_4d6c7_row66_col10\" class=\"data row66 col10\" >song</td>\n",
       "      <td id=\"T_4d6c7_row66_col11\" class=\"data row66 col11\" >session</td>\n",
       "      <td id=\"T_4d6c7_row66_col12\" class=\"data row66 col12\" >situation</td>\n",
       "      <td id=\"T_4d6c7_row66_col13\" class=\"data row66 col13\" >book</td>\n",
       "    </tr>\n",
       "    <tr>\n",
       "      <th id=\"T_4d6c7_level0_row67\" class=\"row_heading level0 row67\" >68</th>\n",
       "      <td id=\"T_4d6c7_row67_col0\" class=\"data row67 col0\" >journey</td>\n",
       "      <td id=\"T_4d6c7_row67_col1\" class=\"data row67 col1\" >wait</td>\n",
       "      <td id=\"T_4d6c7_row67_col2\" class=\"data row67 col2\" >appointment</td>\n",
       "      <td id=\"T_4d6c7_row67_col3\" class=\"data row67 col3\" >call</td>\n",
       "      <td id=\"T_4d6c7_row67_col4\" class=\"data row67 col4\" >service</td>\n",
       "      <td id=\"T_4d6c7_row67_col5\" class=\"data row67 col5\" >investigation</td>\n",
       "      <td id=\"T_4d6c7_row67_col6\" class=\"data row67 col6\" >treatment</td>\n",
       "      <td id=\"T_4d6c7_row67_col7\" class=\"data row67 col7\" >visit</td>\n",
       "      <td id=\"T_4d6c7_row67_col8\" class=\"data row67 col8\" >discussion</td>\n",
       "      <td id=\"T_4d6c7_row67_col9\" class=\"data row67 col9\" >sessions</td>\n",
       "      <td id=\"T_4d6c7_row67_col10\" class=\"data row67 col10\" >situation</td>\n",
       "      <td id=\"T_4d6c7_row67_col11\" class=\"data row67 col11\" >session</td>\n",
       "      <td id=\"T_4d6c7_row67_col12\" class=\"data row67 col12\" >song</td>\n",
       "      <td id=\"T_4d6c7_row67_col13\" class=\"data row67 col13\" >interview</td>\n",
       "    </tr>\n",
       "    <tr>\n",
       "      <th id=\"T_4d6c7_level0_row68\" class=\"row_heading level0 row68\" >69</th>\n",
       "      <td id=\"T_4d6c7_row68_col0\" class=\"data row68 col0\" >journey</td>\n",
       "      <td id=\"T_4d6c7_row68_col1\" class=\"data row68 col1\" >wait</td>\n",
       "      <td id=\"T_4d6c7_row68_col2\" class=\"data row68 col2\" >appointment</td>\n",
       "      <td id=\"T_4d6c7_row68_col3\" class=\"data row68 col3\" >investigation</td>\n",
       "      <td id=\"T_4d6c7_row68_col4\" class=\"data row68 col4\" >call</td>\n",
       "      <td id=\"T_4d6c7_row68_col5\" class=\"data row68 col5\" >treatment</td>\n",
       "      <td id=\"T_4d6c7_row68_col6\" class=\"data row68 col6\" >service</td>\n",
       "      <td id=\"T_4d6c7_row68_col7\" class=\"data row68 col7\" >visit</td>\n",
       "      <td id=\"T_4d6c7_row68_col8\" class=\"data row68 col8\" >discussion</td>\n",
       "      <td id=\"T_4d6c7_row68_col9\" class=\"data row68 col9\" >situation</td>\n",
       "      <td id=\"T_4d6c7_row68_col10\" class=\"data row68 col10\" >sessions</td>\n",
       "      <td id=\"T_4d6c7_row68_col11\" class=\"data row68 col11\" >session</td>\n",
       "      <td id=\"T_4d6c7_row68_col12\" class=\"data row68 col12\" >interview</td>\n",
       "      <td id=\"T_4d6c7_row68_col13\" class=\"data row68 col13\" >song</td>\n",
       "    </tr>\n",
       "    <tr>\n",
       "      <th id=\"T_4d6c7_level0_row69\" class=\"row_heading level0 row69\" >70</th>\n",
       "      <td id=\"T_4d6c7_row69_col0\" class=\"data row69 col0\" >journey</td>\n",
       "      <td id=\"T_4d6c7_row69_col1\" class=\"data row69 col1\" >wait</td>\n",
       "      <td id=\"T_4d6c7_row69_col2\" class=\"data row69 col2\" >appointment</td>\n",
       "      <td id=\"T_4d6c7_row69_col3\" class=\"data row69 col3\" >investigation</td>\n",
       "      <td id=\"T_4d6c7_row69_col4\" class=\"data row69 col4\" >call</td>\n",
       "      <td id=\"T_4d6c7_row69_col5\" class=\"data row69 col5\" >treatment</td>\n",
       "      <td id=\"T_4d6c7_row69_col6\" class=\"data row69 col6\" >service</td>\n",
       "      <td id=\"T_4d6c7_row69_col7\" class=\"data row69 col7\" >discussion</td>\n",
       "      <td id=\"T_4d6c7_row69_col8\" class=\"data row69 col8\" >situation</td>\n",
       "      <td id=\"T_4d6c7_row69_col9\" class=\"data row69 col9\" >visit</td>\n",
       "      <td id=\"T_4d6c7_row69_col10\" class=\"data row69 col10\" >sessions</td>\n",
       "      <td id=\"T_4d6c7_row69_col11\" class=\"data row69 col11\" >session</td>\n",
       "      <td id=\"T_4d6c7_row69_col12\" class=\"data row69 col12\" >interview</td>\n",
       "      <td id=\"T_4d6c7_row69_col13\" class=\"data row69 col13\" >book</td>\n",
       "    </tr>\n",
       "    <tr>\n",
       "      <th id=\"T_4d6c7_level0_row70\" class=\"row_heading level0 row70\" >71</th>\n",
       "      <td id=\"T_4d6c7_row70_col0\" class=\"data row70 col0\" >journey</td>\n",
       "      <td id=\"T_4d6c7_row70_col1\" class=\"data row70 col1\" >wait</td>\n",
       "      <td id=\"T_4d6c7_row70_col2\" class=\"data row70 col2\" >appointment</td>\n",
       "      <td id=\"T_4d6c7_row70_col3\" class=\"data row70 col3\" >treatment</td>\n",
       "      <td id=\"T_4d6c7_row70_col4\" class=\"data row70 col4\" >investigation</td>\n",
       "      <td id=\"T_4d6c7_row70_col5\" class=\"data row70 col5\" >call</td>\n",
       "      <td id=\"T_4d6c7_row70_col6\" class=\"data row70 col6\" >service</td>\n",
       "      <td id=\"T_4d6c7_row70_col7\" class=\"data row70 col7\" >discussion</td>\n",
       "      <td id=\"T_4d6c7_row70_col8\" class=\"data row70 col8\" >situation</td>\n",
       "      <td id=\"T_4d6c7_row70_col9\" class=\"data row70 col9\" >visit</td>\n",
       "      <td id=\"T_4d6c7_row70_col10\" class=\"data row70 col10\" >sessions</td>\n",
       "      <td id=\"T_4d6c7_row70_col11\" class=\"data row70 col11\" >session</td>\n",
       "      <td id=\"T_4d6c7_row70_col12\" class=\"data row70 col12\" >book</td>\n",
       "      <td id=\"T_4d6c7_row70_col13\" class=\"data row70 col13\" >interview</td>\n",
       "    </tr>\n",
       "    <tr>\n",
       "      <th id=\"T_4d6c7_level0_row71\" class=\"row_heading level0 row71\" >72</th>\n",
       "      <td id=\"T_4d6c7_row71_col0\" class=\"data row71 col0\" >journey</td>\n",
       "      <td id=\"T_4d6c7_row71_col1\" class=\"data row71 col1\" >wait</td>\n",
       "      <td id=\"T_4d6c7_row71_col2\" class=\"data row71 col2\" >appointment</td>\n",
       "      <td id=\"T_4d6c7_row71_col3\" class=\"data row71 col3\" >investigation</td>\n",
       "      <td id=\"T_4d6c7_row71_col4\" class=\"data row71 col4\" >treatment</td>\n",
       "      <td id=\"T_4d6c7_row71_col5\" class=\"data row71 col5\" >call</td>\n",
       "      <td id=\"T_4d6c7_row71_col6\" class=\"data row71 col6\" >service</td>\n",
       "      <td id=\"T_4d6c7_row71_col7\" class=\"data row71 col7\" >discussion</td>\n",
       "      <td id=\"T_4d6c7_row71_col8\" class=\"data row71 col8\" >situation</td>\n",
       "      <td id=\"T_4d6c7_row71_col9\" class=\"data row71 col9\" >visit</td>\n",
       "      <td id=\"T_4d6c7_row71_col10\" class=\"data row71 col10\" >book</td>\n",
       "      <td id=\"T_4d6c7_row71_col11\" class=\"data row71 col11\" >sessions</td>\n",
       "      <td id=\"T_4d6c7_row71_col12\" class=\"data row71 col12\" >session</td>\n",
       "      <td id=\"T_4d6c7_row71_col13\" class=\"data row71 col13\" >problem</td>\n",
       "    </tr>\n",
       "    <tr>\n",
       "      <th id=\"T_4d6c7_level0_row72\" class=\"row_heading level0 row72\" >73</th>\n",
       "      <td id=\"T_4d6c7_row72_col0\" class=\"data row72 col0\" >journey</td>\n",
       "      <td id=\"T_4d6c7_row72_col1\" class=\"data row72 col1\" >wait</td>\n",
       "      <td id=\"T_4d6c7_row72_col2\" class=\"data row72 col2\" >appointment</td>\n",
       "      <td id=\"T_4d6c7_row72_col3\" class=\"data row72 col3\" >investigation</td>\n",
       "      <td id=\"T_4d6c7_row72_col4\" class=\"data row72 col4\" >treatment</td>\n",
       "      <td id=\"T_4d6c7_row72_col5\" class=\"data row72 col5\" >service</td>\n",
       "      <td id=\"T_4d6c7_row72_col6\" class=\"data row72 col6\" >call</td>\n",
       "      <td id=\"T_4d6c7_row72_col7\" class=\"data row72 col7\" >discussion</td>\n",
       "      <td id=\"T_4d6c7_row72_col8\" class=\"data row72 col8\" >situation</td>\n",
       "      <td id=\"T_4d6c7_row72_col9\" class=\"data row72 col9\" >visit</td>\n",
       "      <td id=\"T_4d6c7_row72_col10\" class=\"data row72 col10\" >book</td>\n",
       "      <td id=\"T_4d6c7_row72_col11\" class=\"data row72 col11\" >sessions</td>\n",
       "      <td id=\"T_4d6c7_row72_col12\" class=\"data row72 col12\" >session</td>\n",
       "      <td id=\"T_4d6c7_row72_col13\" class=\"data row72 col13\" >song</td>\n",
       "    </tr>\n",
       "    <tr>\n",
       "      <th id=\"T_4d6c7_level0_row73\" class=\"row_heading level0 row73\" >74</th>\n",
       "      <td id=\"T_4d6c7_row73_col0\" class=\"data row73 col0\" >journey</td>\n",
       "      <td id=\"T_4d6c7_row73_col1\" class=\"data row73 col1\" >wait</td>\n",
       "      <td id=\"T_4d6c7_row73_col2\" class=\"data row73 col2\" >appointment</td>\n",
       "      <td id=\"T_4d6c7_row73_col3\" class=\"data row73 col3\" >treatment</td>\n",
       "      <td id=\"T_4d6c7_row73_col4\" class=\"data row73 col4\" >investigation</td>\n",
       "      <td id=\"T_4d6c7_row73_col5\" class=\"data row73 col5\" >service</td>\n",
       "      <td id=\"T_4d6c7_row73_col6\" class=\"data row73 col6\" >call</td>\n",
       "      <td id=\"T_4d6c7_row73_col7\" class=\"data row73 col7\" >discussion</td>\n",
       "      <td id=\"T_4d6c7_row73_col8\" class=\"data row73 col8\" >situation</td>\n",
       "      <td id=\"T_4d6c7_row73_col9\" class=\"data row73 col9\" >visit</td>\n",
       "      <td id=\"T_4d6c7_row73_col10\" class=\"data row73 col10\" >sessions</td>\n",
       "      <td id=\"T_4d6c7_row73_col11\" class=\"data row73 col11\" >book</td>\n",
       "      <td id=\"T_4d6c7_row73_col12\" class=\"data row73 col12\" >session</td>\n",
       "      <td id=\"T_4d6c7_row73_col13\" class=\"data row73 col13\" >song</td>\n",
       "    </tr>\n",
       "    <tr>\n",
       "      <th id=\"T_4d6c7_level0_row74\" class=\"row_heading level0 row74\" >75</th>\n",
       "      <td id=\"T_4d6c7_row74_col0\" class=\"data row74 col0\" >journey</td>\n",
       "      <td id=\"T_4d6c7_row74_col1\" class=\"data row74 col1\" >wait</td>\n",
       "      <td id=\"T_4d6c7_row74_col2\" class=\"data row74 col2\" >appointment</td>\n",
       "      <td id=\"T_4d6c7_row74_col3\" class=\"data row74 col3\" >investigation</td>\n",
       "      <td id=\"T_4d6c7_row74_col4\" class=\"data row74 col4\" >treatment</td>\n",
       "      <td id=\"T_4d6c7_row74_col5\" class=\"data row74 col5\" >service</td>\n",
       "      <td id=\"T_4d6c7_row74_col6\" class=\"data row74 col6\" >call</td>\n",
       "      <td id=\"T_4d6c7_row74_col7\" class=\"data row74 col7\" >discussion</td>\n",
       "      <td id=\"T_4d6c7_row74_col8\" class=\"data row74 col8\" >situation</td>\n",
       "      <td id=\"T_4d6c7_row74_col9\" class=\"data row74 col9\" >visit</td>\n",
       "      <td id=\"T_4d6c7_row74_col10\" class=\"data row74 col10\" >sessions</td>\n",
       "      <td id=\"T_4d6c7_row74_col11\" class=\"data row74 col11\" >session</td>\n",
       "      <td id=\"T_4d6c7_row74_col12\" class=\"data row74 col12\" >book</td>\n",
       "      <td id=\"T_4d6c7_row74_col13\" class=\"data row74 col13\" >interview</td>\n",
       "    </tr>\n",
       "    <tr>\n",
       "      <th id=\"T_4d6c7_level0_row75\" class=\"row_heading level0 row75\" >76</th>\n",
       "      <td id=\"T_4d6c7_row75_col0\" class=\"data row75 col0\" >journey</td>\n",
       "      <td id=\"T_4d6c7_row75_col1\" class=\"data row75 col1\" >wait</td>\n",
       "      <td id=\"T_4d6c7_row75_col2\" class=\"data row75 col2\" >appointment</td>\n",
       "      <td id=\"T_4d6c7_row75_col3\" class=\"data row75 col3\" >investigation</td>\n",
       "      <td id=\"T_4d6c7_row75_col4\" class=\"data row75 col4\" >treatment</td>\n",
       "      <td id=\"T_4d6c7_row75_col5\" class=\"data row75 col5\" >call</td>\n",
       "      <td id=\"T_4d6c7_row75_col6\" class=\"data row75 col6\" >service</td>\n",
       "      <td id=\"T_4d6c7_row75_col7\" class=\"data row75 col7\" >discussion</td>\n",
       "      <td id=\"T_4d6c7_row75_col8\" class=\"data row75 col8\" >situation</td>\n",
       "      <td id=\"T_4d6c7_row75_col9\" class=\"data row75 col9\" >visit</td>\n",
       "      <td id=\"T_4d6c7_row75_col10\" class=\"data row75 col10\" >sessions</td>\n",
       "      <td id=\"T_4d6c7_row75_col11\" class=\"data row75 col11\" >session</td>\n",
       "      <td id=\"T_4d6c7_row75_col12\" class=\"data row75 col12\" >book</td>\n",
       "      <td id=\"T_4d6c7_row75_col13\" class=\"data row75 col13\" >interview</td>\n",
       "    </tr>\n",
       "    <tr>\n",
       "      <th id=\"T_4d6c7_level0_row76\" class=\"row_heading level0 row76\" >77</th>\n",
       "      <td id=\"T_4d6c7_row76_col0\" class=\"data row76 col0\" >journey</td>\n",
       "      <td id=\"T_4d6c7_row76_col1\" class=\"data row76 col1\" >wait</td>\n",
       "      <td id=\"T_4d6c7_row76_col2\" class=\"data row76 col2\" >appointment</td>\n",
       "      <td id=\"T_4d6c7_row76_col3\" class=\"data row76 col3\" >investigation</td>\n",
       "      <td id=\"T_4d6c7_row76_col4\" class=\"data row76 col4\" >treatment</td>\n",
       "      <td id=\"T_4d6c7_row76_col5\" class=\"data row76 col5\" >call</td>\n",
       "      <td id=\"T_4d6c7_row76_col6\" class=\"data row76 col6\" >service</td>\n",
       "      <td id=\"T_4d6c7_row76_col7\" class=\"data row76 col7\" >discussion</td>\n",
       "      <td id=\"T_4d6c7_row76_col8\" class=\"data row76 col8\" >situation</td>\n",
       "      <td id=\"T_4d6c7_row76_col9\" class=\"data row76 col9\" >visit</td>\n",
       "      <td id=\"T_4d6c7_row76_col10\" class=\"data row76 col10\" >sessions</td>\n",
       "      <td id=\"T_4d6c7_row76_col11\" class=\"data row76 col11\" >book</td>\n",
       "      <td id=\"T_4d6c7_row76_col12\" class=\"data row76 col12\" >session</td>\n",
       "      <td id=\"T_4d6c7_row76_col13\" class=\"data row76 col13\" >interview</td>\n",
       "    </tr>\n",
       "    <tr>\n",
       "      <th id=\"T_4d6c7_level0_row77\" class=\"row_heading level0 row77\" >78</th>\n",
       "      <td id=\"T_4d6c7_row77_col0\" class=\"data row77 col0\" >journey</td>\n",
       "      <td id=\"T_4d6c7_row77_col1\" class=\"data row77 col1\" >wait</td>\n",
       "      <td id=\"T_4d6c7_row77_col2\" class=\"data row77 col2\" >appointment</td>\n",
       "      <td id=\"T_4d6c7_row77_col3\" class=\"data row77 col3\" >investigation</td>\n",
       "      <td id=\"T_4d6c7_row77_col4\" class=\"data row77 col4\" >treatment</td>\n",
       "      <td id=\"T_4d6c7_row77_col5\" class=\"data row77 col5\" >call</td>\n",
       "      <td id=\"T_4d6c7_row77_col6\" class=\"data row77 col6\" >service</td>\n",
       "      <td id=\"T_4d6c7_row77_col7\" class=\"data row77 col7\" >discussion</td>\n",
       "      <td id=\"T_4d6c7_row77_col8\" class=\"data row77 col8\" >situation</td>\n",
       "      <td id=\"T_4d6c7_row77_col9\" class=\"data row77 col9\" >visit</td>\n",
       "      <td id=\"T_4d6c7_row77_col10\" class=\"data row77 col10\" >sessions</td>\n",
       "      <td id=\"T_4d6c7_row77_col11\" class=\"data row77 col11\" >book</td>\n",
       "      <td id=\"T_4d6c7_row77_col12\" class=\"data row77 col12\" >session</td>\n",
       "      <td id=\"T_4d6c7_row77_col13\" class=\"data row77 col13\" >interview</td>\n",
       "    </tr>\n",
       "    <tr>\n",
       "      <th id=\"T_4d6c7_level0_row78\" class=\"row_heading level0 row78\" >79</th>\n",
       "      <td id=\"T_4d6c7_row78_col0\" class=\"data row78 col0\" >journey</td>\n",
       "      <td id=\"T_4d6c7_row78_col1\" class=\"data row78 col1\" >wait</td>\n",
       "      <td id=\"T_4d6c7_row78_col2\" class=\"data row78 col2\" >appointment</td>\n",
       "      <td id=\"T_4d6c7_row78_col3\" class=\"data row78 col3\" >investigation</td>\n",
       "      <td id=\"T_4d6c7_row78_col4\" class=\"data row78 col4\" >treatment</td>\n",
       "      <td id=\"T_4d6c7_row78_col5\" class=\"data row78 col5\" >call</td>\n",
       "      <td id=\"T_4d6c7_row78_col6\" class=\"data row78 col6\" >service</td>\n",
       "      <td id=\"T_4d6c7_row78_col7\" class=\"data row78 col7\" >discussion</td>\n",
       "      <td id=\"T_4d6c7_row78_col8\" class=\"data row78 col8\" >situation</td>\n",
       "      <td id=\"T_4d6c7_row78_col9\" class=\"data row78 col9\" >visit</td>\n",
       "      <td id=\"T_4d6c7_row78_col10\" class=\"data row78 col10\" >sessions</td>\n",
       "      <td id=\"T_4d6c7_row78_col11\" class=\"data row78 col11\" >book</td>\n",
       "      <td id=\"T_4d6c7_row78_col12\" class=\"data row78 col12\" >session</td>\n",
       "      <td id=\"T_4d6c7_row78_col13\" class=\"data row78 col13\" >interview</td>\n",
       "    </tr>\n",
       "    <tr>\n",
       "      <th id=\"T_4d6c7_level0_row79\" class=\"row_heading level0 row79\" >80</th>\n",
       "      <td id=\"T_4d6c7_row79_col0\" class=\"data row79 col0\" >journey</td>\n",
       "      <td id=\"T_4d6c7_row79_col1\" class=\"data row79 col1\" >wait</td>\n",
       "      <td id=\"T_4d6c7_row79_col2\" class=\"data row79 col2\" >appointment</td>\n",
       "      <td id=\"T_4d6c7_row79_col3\" class=\"data row79 col3\" >investigation</td>\n",
       "      <td id=\"T_4d6c7_row79_col4\" class=\"data row79 col4\" >treatment</td>\n",
       "      <td id=\"T_4d6c7_row79_col5\" class=\"data row79 col5\" >call</td>\n",
       "      <td id=\"T_4d6c7_row79_col6\" class=\"data row79 col6\" >service</td>\n",
       "      <td id=\"T_4d6c7_row79_col7\" class=\"data row79 col7\" >discussion</td>\n",
       "      <td id=\"T_4d6c7_row79_col8\" class=\"data row79 col8\" >situation</td>\n",
       "      <td id=\"T_4d6c7_row79_col9\" class=\"data row79 col9\" >visit</td>\n",
       "      <td id=\"T_4d6c7_row79_col10\" class=\"data row79 col10\" >sessions</td>\n",
       "      <td id=\"T_4d6c7_row79_col11\" class=\"data row79 col11\" >session</td>\n",
       "      <td id=\"T_4d6c7_row79_col12\" class=\"data row79 col12\" >book</td>\n",
       "      <td id=\"T_4d6c7_row79_col13\" class=\"data row79 col13\" >interview</td>\n",
       "    </tr>\n",
       "  </tbody>\n",
       "</table>\n"
      ],
      "text/plain": [
       "<pandas.io.formats.style.Styler at 0x7ff5c2d76210>"
      ]
     },
     "execution_count": 11,
     "metadata": {},
     "output_type": "execute_result"
    }
   ],
   "source": [
    "from torch.utils.data import DataLoader\n",
    "from transformers import DataCollatorForLanguageModeling, get_scheduler, pipeline\n",
    "from tqdm.auto import tqdm\n",
    "from torch.utils.tensorboard import SummaryWriter\n",
    "\n",
    "from shutil import rmtree\n",
    "from pathlib import Path\n",
    "\n",
    "tb_dir = 'runs/bs16'\n",
    "# rmtree(tb_dir)\n",
    "Path(tb_dir).mkdir(exist_ok=True)\n",
    "writer = SummaryWriter(tb_dir)\n",
    "\n",
    "#\n",
    "# Eval function\n",
    "#\n",
    "@torch.no_grad()\n",
    "def evaluate(model, loader, device):\n",
    "    \"\"\"Return mean loss and perplexity for model over loader\"\"\"\n",
    "    model.eval()\n",
    "    losses = []\n",
    "\n",
    "    for batch in tqdm(loader, desc='evaluate', unit='minibatch', disable=True):\n",
    "        batch = {k: v.to(device) for k, v in batch.items()}\n",
    "        \n",
    "        losses.append( model(**batch).loss.item() )\n",
    "    \n",
    "    return np.mean(losses), np.exp(np.mean(losses))\n",
    "\n",
    "#\n",
    "# Load model and tokenizer\n",
    "#\n",
    "model = AutoModelForMaskedLM.from_pretrained(use_checkpoint).to(device)\n",
    "tokenizer = AutoTokenizer.from_pretrained(use_checkpoint)\n",
    "\n",
    "#\n",
    "# Configure optimizer, collator, and data loaders\n",
    "#\n",
    "optimizer = torch.optim.AdamW(model.parameters(), lr=5e-5, weight_decay=0.01)\n",
    "\n",
    "mlm_collator = DataCollatorForLanguageModeling(\n",
    "    tokenizer=tokenizer,\n",
    "    mlm_probability=0.15,\n",
    "    return_tensors='pt'\n",
    ")\n",
    "\n",
    "batch_size = 16\n",
    "\n",
    "train_dataloader = DataLoader(\n",
    "    chunked['train'],\n",
    "    shuffle=True,\n",
    "    batch_size=batch_size,\n",
    "    pin_memory=True,\n",
    "    collate_fn=mlm_collator,\n",
    ")\n",
    "\n",
    "val_dataloader = DataLoader(\n",
    "    chunked['val'],\n",
    "    batch_size=batch_size,\n",
    "    pin_memory=True,\n",
    "    collate_fn=mlm_collator,\n",
    ")\n",
    "\n",
    "#\n",
    "# Set up number of epochs and lr scheduler\n",
    "#\n",
    "num_train_epochs = 80\n",
    "num_update_steps_per_epoch = len(train_dataloader)\n",
    "num_training_steps = num_train_epochs * num_update_steps_per_epoch\n",
    "print('Steps per epoch:', num_update_steps_per_epoch)\n",
    "print('Total training steps:', num_training_steps)\n",
    "\n",
    "lr_scheduler = get_scheduler(\n",
    "    'linear',\n",
    "    optimizer=optimizer,\n",
    "    num_warmup_steps=int(0.1 * num_training_steps),\n",
    "    num_training_steps=num_training_steps,\n",
    ")\n",
    "\n",
    "#\n",
    "#Assess performance before domain adaptation\n",
    "#\n",
    "top_k = 8\n",
    "text = 'the [MASK] took a while'\n",
    "# text = 'i rang [MASK]'\n",
    "# text = 'i had to wait for the [MASK] to arrive'\n",
    "\n",
    "loss, perplexity = evaluate(model, val_dataloader, device)\n",
    "print(f'baseline {use_checkpoint}'.center(85, '`'))\n",
    "print('base model: loss %.3f | perplexity %.1f' % (loss, perplexity), end='\\n\\n')\n",
    "\n",
    "print(text)\n",
    "preds = pipeline('fill-mask', model, tokenizer=tokenizer, top_k=top_k)(text)\n",
    "pd.DataFrame([[pred['token_str'] for pred in preds]], index=['base']).rename_axis(columns='top k').pipe(display)\n",
    "\n",
    "#\n",
    "# Training loop\n",
    "#\n",
    "preds_perepoch = []\n",
    "progress_bar = tqdm(range(num_training_steps), desc='training steps', unit='minibatch')\n",
    "\n",
    "for epoch in range(num_train_epochs):\n",
    "    \n",
    "    model.train()\n",
    "    for batch in train_dataloader:\n",
    "        batch = {k: v.to(device) for k, v in batch.items()}\n",
    "        outputs = model(**batch)\n",
    "        loss = outputs['loss']\n",
    "\n",
    "        optimizer.zero_grad()\n",
    "        loss.backward()\n",
    "        optimizer.step()\n",
    "        lr_scheduler.step()\n",
    "        progress_bar.update()\n",
    "    #/end of epoch\n",
    "\n",
    "    #\n",
    "    # Evaluate per epoch\n",
    "    #\n",
    "    model.eval()\n",
    "    trn_loss, trn_perp = evaluate(model, train_dataloader, device)\n",
    "    val_loss, val_perp = evaluate(model, val_dataloader, device)\n",
    "\n",
    "    #Print results\n",
    "    print(\n",
    "        f'[epoch {epoch + 1:2d}/{num_train_epochs:2d}]',\n",
    "        f'[TRN loss: {trn_loss:5.3f} | perp {trn_perp:5.1f}]',\n",
    "        f'[VAL loss: {val_loss:5.3f} | perp {val_perp:5.1f}]',\n",
    "    )\n",
    "\n",
    "    #Record top k examples\n",
    "    preds = pipeline('fill-mask', model, tokenizer=tokenizer, top_k=14)(text)\n",
    "    preds_perepoch.append([pred['token_str'] for pred in preds])\n",
    "\n",
    "    #Write to tensorboard\n",
    "    writer.add_scalars('loss', {'trn': trn_loss, 'val': val_loss}, global_step=epoch + 1)\n",
    "    writer.add_scalars('perp', {'trn': trn_perp, 'val': val_perp}, global_step=epoch + 1)\n",
    "    writer.add_text('mask filling', '\\n'.join(preds_perepoch[-1]), global_step=epoch + 1)\n",
    "\n",
    "pd.DataFrame(preds_perepoch, index=np.arange(1, num_train_epochs + 1)).rename_axis(index='epoch', columns='top k').style"
   ]
  },
  {
   "cell_type": "code",
   "execution_count": 12,
   "metadata": {},
   "outputs": [],
   "source": [
    "from model_utils import save_embedding_weights\n",
    "\n",
    "# save_embedding_weights(model.distilbert.embeddings, 'domain_adapted-' + use_checkpoint)"
   ]
  }
 ],
 "metadata": {
  "kernelspec": {
   "display_name": "dev",
   "language": "python",
   "name": "python3"
  },
  "language_info": {
   "codemirror_mode": {
    "name": "ipython",
    "version": 3
   },
   "file_extension": ".py",
   "mimetype": "text/x-python",
   "name": "python",
   "nbconvert_exporter": "python",
   "pygments_lexer": "ipython3",
   "version": "3.11.9"
  }
 },
 "nbformat": 4,
 "nbformat_minor": 2
}
